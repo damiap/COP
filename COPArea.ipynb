{
 "metadata": {
  "name": "",
  "signature": "sha256:357ba0f6414f47162df01788bbfe4c388c7ee59e59c2694a19b35fa2795eb4bb"
 },
 "nbformat": 3,
 "nbformat_minor": 0,
 "worksheets": [
  {
   "cells": [
    {
     "cell_type": "code",
     "collapsed": false,
     "input": [
      "from __future__ import division, print_function\n",
      "import numpy as np\n",
      "import matplotlib.pyplot as plt\n",
      "%matplotlib inline\n",
      "from IPython.display import HTML, display\n",
      "from scipy.signal import butter, lfilter, filtfilt, detrend\n",
      "import pandas as pd"
     ],
     "language": "python",
     "metadata": {},
     "outputs": [],
     "prompt_number": 1
    },
    {
     "cell_type": "heading",
     "level": 3,
     "metadata": {},
     "source": [
      "Defini\u00e7\u00f5es"
     ]
    },
    {
     "cell_type": "code",
     "collapsed": false,
     "input": [
      "# 2 conditions: open eyes (oe) and closed eyes (ce)\n",
      "# 6 participants\n",
      "# 1 task: quiet standing (qs)\n",
      "# 3 trials\n",
      "# time  = 60 s\n",
      "# freq= 100 Hz\n",
      "# freqNiquist = freq/2\n",
      "# lowpass 4th order\n",
      "\n",
      "# Definitions:\n",
      "group = ['adults (control)'] \n",
      "# files with 9 variables = ['Time (s)', 'Fx', 'Fy', 'Fz', 'Mx', 'My', 'Mz', 'COPx', 'COPy']\n",
      "task = 'qs' \n",
      "subjects = ['cf', 'da', 'hr', 'kj', 'md', 'rf']\n",
      "conditions = ['ce', 'oe']\n",
      "trials = ['01', '02', '03']\n",
      "extension = '.txt'\n",
      "\n",
      "# Time:\n",
      "time = 60;  # seconds\n",
      "\n",
      "# File directory:\n",
      "path = './data_kistler/'\n",
      "\n",
      "# Filter Butterworth\n",
      "order = 4; # order filter\n",
      "freqCorte = 10; # Hz\n",
      "freq = 100; # Hz"
     ],
     "language": "python",
     "metadata": {},
     "outputs": [],
     "prompt_number": 2
    },
    {
     "cell_type": "heading",
     "level": 3,
     "metadata": {},
     "source": [
      "Leitura e filtro dos sinais do COP, nas dire\u00e7\u00f5es \u00e2ntero-posterior (COPy) e m\u00e9dio-lateral (COPx)"
     ]
    },
    {
     "cell_type": "code",
     "collapsed": false,
     "input": [
      "def COP_Processing (path, freq, time, freqCorte):\n",
      "    \"\"\"Leitura dos dados de um arquivo, filtra  o copx e o copy.\n",
      "    \n",
      "    Parameters\n",
      "    ----------\n",
      "    fileNames : nome do arquivo\n",
      "    freq : frequ\u00eancia de aquisi\u00e7\u00e3o\n",
      "    time : tempo de aquisi\u00e7\u00e3o dos dados\n",
      "    freqCorte : frequ\u00eancia de corte para um  filtro Butterworth passa baixa\"\"\"\n",
      "    \n",
      "    \n",
      "    data = np.loadtxt(path, skiprows=1)\n",
      "    copx = data[:,7]\n",
      "    copy = data[:,8]\n",
      "            \n",
      "           \n",
      "    b, a = butter(order, freqCorte/(freq/2), btype = 'low')\n",
      "    copx = filtfilt(b, a, data[:,7])\n",
      "    copy = filtfilt(b, a, data[:,8])    \n",
      "    \n",
      "      \n",
      "    copx = detrend(copx, type='constant')   \n",
      "    copy = detrend(copy, type='constant')\n",
      "    \n",
      "    copx = copx*100\n",
      "    copy = copy*100\n",
      "    \n",
      "    \n",
      "    return copx, copy"
     ],
     "language": "python",
     "metadata": {},
     "outputs": [],
     "prompt_number": 3
    },
    {
     "cell_type": "heading",
     "level": 3,
     "metadata": {},
     "source": [
      "Vari\u00e1vel de an\u00e1lise do COP: Area"
     ]
    },
    {
     "cell_type": "code",
     "collapsed": false,
     "input": [
      "from scipy.stats import f as F                # import F distribution\n",
      "from scipy.special import gamma               # import Gamma function\n",
      "\n",
      "for subject in subjects:    \n",
      "    \n",
      "    for c, condition in enumerate(conditions):        \n",
      "        #fileNames = path + task + condition + subject + extension\n",
      "        for t, trial in enumerate(trials):\n",
      "            fileNames = path + task + condition + subject + trial + extension\n",
      "            print (fileNames)\n",
      "            try:\n",
      "                data = np.loadtxt(fileNames, skiprows=1, unpack=False)                            \n",
      "            except:\n",
      "                #pass\n",
      "                print('File ' + condition + subject + trial + extension + ' does not exist.') \n",
      "            \n",
      "            copx, copy = COP_Processing(fileNames, freq, time, freqCorte)   \n",
      "\n",
      "            p, n = np.asarray([copx,copy]).shape             # 2-D array dimensions\n",
      "            cov = np.cov([copx,copy])                  # covariance matrix of data\n",
      "            U, s, Vt = np.linalg.svd(cov)                 # singular value decomposition\n",
      "            f95 = F.ppf(0.95,p,n-p)*(n-1)*p*(n+1)/n/(n-p)  # F 95 percent point function\n",
      "            saxes = np.sqrt(s*f95)                        # semi-axes lengths\n",
      "            hypervolume = np.pi**(p/2)/gamma(p/2+1)*np.prod(saxes)\n",
      "\n",
      "            print('Area =', hypervolume)\n",
      "            print('Semi-axes =', saxes)\n",
      "            print ('')\n",
      "            \n",
      "             \n"
     ],
     "language": "python",
     "metadata": {},
     "outputs": [
      {
       "output_type": "stream",
       "stream": "stdout",
       "text": [
        "./data_kistler/qscecf01.txt\n",
        "Area ="
       ]
      },
      {
       "output_type": "stream",
       "stream": "stdout",
       "text": [
        " 1.30019486684\n",
        "Semi-axes = [ 0.83042945  0.49837452]\n",
        "\n",
        "./data_kistler/qscecf02.txt\n",
        "Area ="
       ]
      },
      {
       "output_type": "stream",
       "stream": "stdout",
       "text": [
        " 1.2499260402\n",
        "Semi-axes = [ 1.09217543  0.36428563]\n",
        "\n",
        "./data_kistler/qscecf03.txt\n",
        "Area ="
       ]
      },
      {
       "output_type": "stream",
       "stream": "stdout",
       "text": [
        " 1.06991650106\n",
        "Semi-axes = [ 0.84643499  0.40235222]\n",
        "\n",
        "./data_kistler/qsoecf01.txt\n",
        "Area ="
       ]
      },
      {
       "output_type": "stream",
       "stream": "stdout",
       "text": [
        " 0.639292892419\n",
        "Semi-axes = [ 0.58027336  0.35068514]\n",
        "\n",
        "./data_kistler/qsoecf02.txt\n",
        "Area ="
       ]
      },
      {
       "output_type": "stream",
       "stream": "stdout",
       "text": [
        " 1.78942046526\n",
        "Semi-axes = [ 1.06442776  0.53511403]\n",
        "\n",
        "./data_kistler/qsoecf03.txt\n",
        "Area ="
       ]
      },
      {
       "output_type": "stream",
       "stream": "stdout",
       "text": [
        " 1.34182149406\n",
        "Semi-axes = [ 0.88291355  0.48375636]\n",
        "\n",
        "./data_kistler/qsceda01.txt\n",
        "Area ="
       ]
      },
      {
       "output_type": "stream",
       "stream": "stdout",
       "text": [
        " 1.03239256434\n",
        "Semi-axes = [ 0.82305699  0.39926853]\n",
        "\n",
        "./data_kistler/qsceda02.txt\n",
        "Area ="
       ]
      },
      {
       "output_type": "stream",
       "stream": "stdout",
       "text": [
        " 0.919719127706\n",
        "Semi-axes = [ 0.99271232  0.29490486]\n",
        "\n",
        "./data_kistler/qsceda03.txt\n",
        "Area ="
       ]
      },
      {
       "output_type": "stream",
       "stream": "stdout",
       "text": [
        " 0.913389308223\n",
        "Semi-axes = [ 0.6918941   0.42021004]\n",
        "\n",
        "./data_kistler/qsoeda01.txt\n",
        "Area ="
       ]
      },
      {
       "output_type": "stream",
       "stream": "stdout",
       "text": [
        " 0.556985865233\n",
        "Semi-axes = [ 0.55912521  0.31709195]\n",
        "\n",
        "./data_kistler/qsoeda02.txt\n",
        "Area ="
       ]
      },
      {
       "output_type": "stream",
       "stream": "stdout",
       "text": [
        " 0.76768223131\n",
        "Semi-axes = [ 0.74487808  0.32805482]\n",
        "\n",
        "./data_kistler/qsoeda03.txt\n",
        "Area ="
       ]
      },
      {
       "output_type": "stream",
       "stream": "stdout",
       "text": [
        " 0.714028351333\n",
        "Semi-axes = [ 0.78028503  0.2912811 ]\n",
        "\n",
        "./data_kistler/qscehr01.txt\n",
        "Area ="
       ]
      },
      {
       "output_type": "stream",
       "stream": "stdout",
       "text": [
        " 0.840622457973\n",
        "Semi-axes = [ 0.69489336  0.38506403]\n",
        "\n",
        "./data_kistler/qscehr02.txt\n",
        "Area ="
       ]
      },
      {
       "output_type": "stream",
       "stream": "stdout",
       "text": [
        " 0.932280785378\n",
        "Semi-axes = [ 0.8087985   0.36690744]\n",
        "\n",
        "./data_kistler/qscehr03.txt\n",
        "Area ="
       ]
      },
      {
       "output_type": "stream",
       "stream": "stdout",
       "text": [
        " 1.24410705941\n",
        "Semi-axes = [ 0.91529922  0.43265805]\n",
        "\n",
        "./data_kistler/qsoehr01.txt\n",
        "Area ="
       ]
      },
      {
       "output_type": "stream",
       "stream": "stdout",
       "text": [
        " 0.497249783694\n",
        "Semi-axes = [ 0.65908449  0.24015058]\n",
        "\n",
        "./data_kistler/qsoehr02.txt\n",
        "Area ="
       ]
      },
      {
       "output_type": "stream",
       "stream": "stdout",
       "text": [
        " 0.448351434797\n",
        "Semi-axes = [ 0.66019606  0.21617017]\n",
        "\n",
        "./data_kistler/qsoehr03.txt\n",
        "Area ="
       ]
      },
      {
       "output_type": "stream",
       "stream": "stdout",
       "text": [
        " 0.767888132978\n",
        "Semi-axes = [ 1.13781287  0.21482125]\n",
        "\n",
        "./data_kistler/qscekj01.txt\n",
        "Area ="
       ]
      },
      {
       "output_type": "stream",
       "stream": "stdout",
       "text": [
        " 2.98953422024\n",
        "Semi-axes = [ 1.91426482  0.49710901]\n",
        "\n",
        "./data_kistler/qscekj02.txt\n",
        "Area ="
       ]
      },
      {
       "output_type": "stream",
       "stream": "stdout",
       "text": [
        " 1.79349239191\n",
        "Semi-axes = [ 1.06534688  0.53586899]\n",
        "\n",
        "./data_kistler/qscekj03.txt\n",
        "Area ="
       ]
      },
      {
       "output_type": "stream",
       "stream": "stdout",
       "text": [
        " 11.4397440545\n",
        "Semi-axes = [ 2.67643863  1.3605332 ]\n",
        "\n",
        "./data_kistler/qsoekj01.txt\n",
        "Area ="
       ]
      },
      {
       "output_type": "stream",
       "stream": "stdout",
       "text": [
        " 2.24007644709\n",
        "Semi-axes = [ 0.88635181  0.8044644 ]\n",
        "\n",
        "./data_kistler/qsoekj02.txt\n",
        "Area ="
       ]
      },
      {
       "output_type": "stream",
       "stream": "stdout",
       "text": [
        " 1.73574585652\n",
        "Semi-axes = [ 1.21841636  0.45346163]\n",
        "\n",
        "./data_kistler/qsoekj03.txt\n",
        "Area ="
       ]
      },
      {
       "output_type": "stream",
       "stream": "stdout",
       "text": [
        " 1.52515365256\n",
        "Semi-axes = [ 1.37685236  0.35259517]\n",
        "\n",
        "./data_kistler/qscemd01.txt\n",
        "Area ="
       ]
      },
      {
       "output_type": "stream",
       "stream": "stdout",
       "text": [
        " 1.69505214906\n",
        "Semi-axes = [ 1.8600632   0.29007179]\n",
        "\n",
        "./data_kistler/qscemd02.txt\n",
        "Area ="
       ]
      },
      {
       "output_type": "stream",
       "stream": "stdout",
       "text": [
        " 1.18179530968\n",
        "Semi-axes = [ 1.11000659  0.3388963 ]\n",
        "\n",
        "./data_kistler/qscemd03.txt\n",
        "Area ="
       ]
      },
      {
       "output_type": "stream",
       "stream": "stdout",
       "text": [
        " 0.931733089007\n",
        "Semi-axes = [ 1.05199357  0.28192173]\n",
        "\n",
        "./data_kistler/qsoemd01.txt\n",
        "Area ="
       ]
      },
      {
       "output_type": "stream",
       "stream": "stdout",
       "text": [
        " 1.4336952558\n",
        "Semi-axes = [ 1.22457699  0.37266695]\n",
        "\n",
        "./data_kistler/qsoemd02.txt\n",
        "Area ="
       ]
      },
      {
       "output_type": "stream",
       "stream": "stdout",
       "text": [
        " 2.41742510675\n",
        "Semi-axes = [ 2.19438932  0.35066262]\n",
        "\n",
        "./data_kistler/qsoemd03.txt\n",
        "Area ="
       ]
      },
      {
       "output_type": "stream",
       "stream": "stdout",
       "text": [
        " 0.977760763751\n",
        "Semi-axes = [ 1.24688975  0.2496058 ]\n",
        "\n",
        "./data_kistler/qscerf01.txt\n",
        "Area ="
       ]
      },
      {
       "output_type": "stream",
       "stream": "stdout",
       "text": [
        " 3.38352375845\n",
        "Semi-axes = [ 2.30539409  0.46716918]\n",
        "\n",
        "./data_kistler/qscerf02.txt\n",
        "Area ="
       ]
      },
      {
       "output_type": "stream",
       "stream": "stdout",
       "text": [
        " 2.32339907338\n",
        "Semi-axes = [ 1.53745059  0.48103068]\n",
        "\n",
        "./data_kistler/qscerf03.txt\n",
        "Area ="
       ]
      },
      {
       "output_type": "stream",
       "stream": "stdout",
       "text": [
        " 4.90543264965\n",
        "Semi-axes = [ 1.80233082  0.86634912]\n",
        "\n",
        "./data_kistler/qsoerf01.txt\n",
        "Area ="
       ]
      },
      {
       "output_type": "stream",
       "stream": "stdout",
       "text": [
        " 2.44075213845\n",
        "Semi-axes = [ 1.2628168   0.61522426]\n",
        "\n",
        "./data_kistler/qsoerf02.txt\n",
        "Area ="
       ]
      },
      {
       "output_type": "stream",
       "stream": "stdout",
       "text": [
        " 1.68517116766\n",
        "Semi-axes = [ 1.14609398  0.46803024]\n",
        "\n",
        "./data_kistler/qsoerf03.txt\n",
        "Area ="
       ]
      },
      {
       "output_type": "stream",
       "stream": "stdout",
       "text": [
        " 5.09557250961\n",
        "Semi-axes = [ 1.87112888  0.86684094]\n",
        "\n"
       ]
      }
     ],
     "prompt_number": 4
    },
    {
     "cell_type": "heading",
     "level": 3,
     "metadata": {},
     "source": [
      "Armazenamento dos resultados da \u00c1rea"
     ]
    },
    {
     "cell_type": "code",
     "collapsed": false,
     "input": [
      "T = 60 # time (s)\n",
      "\n",
      "hypervolume = np.empty(shape=(6*2*3, 1))*np.NaN\n",
      "\n",
      "ind = 0\n",
      "indexes = []\n",
      "\n",
      "for s, subject in enumerate(subjects):\n",
      "    for c, condition in enumerate(conditions):        \n",
      "        for t, trial in enumerate(trials):\n",
      "            ind += 1\n",
      "            indexes.append([s, c, t])\n",
      "            fileNames = path + task + condition + subject + trial + extension\n",
      "            time = copx = copy = np.array([])\n",
      "            #header = 'Subject\\tCondition\\tTrial\\Col A\\tCol B\\tCol C'\n",
      "            #np.savetxt(fileNames, resultsX, fmt='%g', delimiter='\\t', header = header, comments = '')\n",
      "            print('File', fileNames, 'saved') \n",
      "            try:\n",
      "                data = np.loadtxt(fileNames, skiprows=1, unpack=False)   \n",
      "                #if data.shape[1] == 2:\n",
      "                 #   time, copx = data[:, 0], data[:, 7]\n",
      "                #elif data.shape[1] == 3:\n",
      "                 #   time, copx, copy = data[:, 0], data[:, 7], data[:, 8]\n",
      "            except:\n",
      "                #pass\n",
      "                print('File ' + condition + subject + trial + extension + ' does not exist.') \n",
      "                continue\n",
      "            else:\n",
      "                pass\n",
      "\n",
      "            copx, copy = COP_Processing(fileNames, freq, time, freqCorte)\n",
      "            \n",
      "            p, n = np.asarray([copx,copy]).shape             # 2-D array dimensions\n",
      "            cov = np.cov([copx,copy])                  # covariance matrix of data\n",
      "            U, s, Vt = np.linalg.svd(cov)                 # singular value decomposition\n",
      "            f95 = F.ppf(0.95,p,n-p)*(n-1)*p*(n+1)/n/(n-p)  # F 95 percent point function\n",
      "            saxes = np.sqrt(s*f95)             \n",
      "            hypervolume[ind-1, :] = np.pi**(p/2)/gamma(p/2+1)*np.prod(saxes) # area\n",
      "\n",
      "\n",
      "print (\"Area\")\n",
      "#hypervolume = np.hstack((np.array(indexes), hypervolume))\n",
      "print(hypervolume.shape)\n",
      "print(hypervolume)"
     ],
     "language": "python",
     "metadata": {},
     "outputs": [
      {
       "output_type": "stream",
       "stream": "stdout",
       "text": [
        "File ./data_kistler/qscecf01.txt saved\n",
        "File"
       ]
      },
      {
       "output_type": "stream",
       "stream": "stdout",
       "text": [
        " ./data_kistler/qscecf02.txt saved\n",
        "File"
       ]
      },
      {
       "output_type": "stream",
       "stream": "stdout",
       "text": [
        " ./data_kistler/qscecf03.txt saved\n",
        "File"
       ]
      },
      {
       "output_type": "stream",
       "stream": "stdout",
       "text": [
        " ./data_kistler/qsoecf01.txt saved\n",
        "File"
       ]
      },
      {
       "output_type": "stream",
       "stream": "stdout",
       "text": [
        " ./data_kistler/qsoecf02.txt saved\n",
        "File"
       ]
      },
      {
       "output_type": "stream",
       "stream": "stdout",
       "text": [
        " ./data_kistler/qsoecf03.txt saved\n",
        "File"
       ]
      },
      {
       "output_type": "stream",
       "stream": "stdout",
       "text": [
        " ./data_kistler/qsceda01.txt saved\n",
        "File"
       ]
      },
      {
       "output_type": "stream",
       "stream": "stdout",
       "text": [
        " ./data_kistler/qsceda02.txt saved\n",
        "File"
       ]
      },
      {
       "output_type": "stream",
       "stream": "stdout",
       "text": [
        " ./data_kistler/qsceda03.txt saved\n",
        "File"
       ]
      },
      {
       "output_type": "stream",
       "stream": "stdout",
       "text": [
        " ./data_kistler/qsoeda01.txt saved\n",
        "File"
       ]
      },
      {
       "output_type": "stream",
       "stream": "stdout",
       "text": [
        " ./data_kistler/qsoeda02.txt saved\n",
        "File"
       ]
      },
      {
       "output_type": "stream",
       "stream": "stdout",
       "text": [
        " ./data_kistler/qsoeda03.txt saved\n",
        "File"
       ]
      },
      {
       "output_type": "stream",
       "stream": "stdout",
       "text": [
        " ./data_kistler/qscehr01.txt saved\n",
        "File"
       ]
      },
      {
       "output_type": "stream",
       "stream": "stdout",
       "text": [
        " ./data_kistler/qscehr02.txt saved\n",
        "File"
       ]
      },
      {
       "output_type": "stream",
       "stream": "stdout",
       "text": [
        " ./data_kistler/qscehr03.txt saved\n",
        "File"
       ]
      },
      {
       "output_type": "stream",
       "stream": "stdout",
       "text": [
        " ./data_kistler/qsoehr01.txt saved\n",
        "File"
       ]
      },
      {
       "output_type": "stream",
       "stream": "stdout",
       "text": [
        " ./data_kistler/qsoehr02.txt saved\n",
        "File"
       ]
      },
      {
       "output_type": "stream",
       "stream": "stdout",
       "text": [
        " ./data_kistler/qsoehr03.txt saved\n",
        "File"
       ]
      },
      {
       "output_type": "stream",
       "stream": "stdout",
       "text": [
        " ./data_kistler/qscekj01.txt saved\n",
        "File"
       ]
      },
      {
       "output_type": "stream",
       "stream": "stdout",
       "text": [
        " ./data_kistler/qscekj02.txt saved\n",
        "File"
       ]
      },
      {
       "output_type": "stream",
       "stream": "stdout",
       "text": [
        " ./data_kistler/qscekj03.txt saved\n",
        "File"
       ]
      },
      {
       "output_type": "stream",
       "stream": "stdout",
       "text": [
        " ./data_kistler/qsoekj01.txt saved\n",
        "File"
       ]
      },
      {
       "output_type": "stream",
       "stream": "stdout",
       "text": [
        " ./data_kistler/qsoekj02.txt saved\n",
        "File"
       ]
      },
      {
       "output_type": "stream",
       "stream": "stdout",
       "text": [
        " ./data_kistler/qsoekj03.txt saved\n",
        "File"
       ]
      },
      {
       "output_type": "stream",
       "stream": "stdout",
       "text": [
        " ./data_kistler/qscemd01.txt saved\n",
        "File"
       ]
      },
      {
       "output_type": "stream",
       "stream": "stdout",
       "text": [
        " ./data_kistler/qscemd02.txt saved\n",
        "File"
       ]
      },
      {
       "output_type": "stream",
       "stream": "stdout",
       "text": [
        " ./data_kistler/qscemd03.txt saved\n",
        "File"
       ]
      },
      {
       "output_type": "stream",
       "stream": "stdout",
       "text": [
        " ./data_kistler/qsoemd01.txt saved\n",
        "File"
       ]
      },
      {
       "output_type": "stream",
       "stream": "stdout",
       "text": [
        " ./data_kistler/qsoemd02.txt saved\n",
        "File"
       ]
      },
      {
       "output_type": "stream",
       "stream": "stdout",
       "text": [
        " ./data_kistler/qsoemd03.txt saved\n",
        "File"
       ]
      },
      {
       "output_type": "stream",
       "stream": "stdout",
       "text": [
        " ./data_kistler/qscerf01.txt saved\n",
        "File"
       ]
      },
      {
       "output_type": "stream",
       "stream": "stdout",
       "text": [
        " ./data_kistler/qscerf02.txt saved\n",
        "File"
       ]
      },
      {
       "output_type": "stream",
       "stream": "stdout",
       "text": [
        " ./data_kistler/qscerf03.txt saved\n",
        "File"
       ]
      },
      {
       "output_type": "stream",
       "stream": "stdout",
       "text": [
        " ./data_kistler/qsoerf01.txt saved\n",
        "File"
       ]
      },
      {
       "output_type": "stream",
       "stream": "stdout",
       "text": [
        " ./data_kistler/qsoerf02.txt saved\n",
        "File"
       ]
      },
      {
       "output_type": "stream",
       "stream": "stdout",
       "text": [
        " ./data_kistler/qsoerf03.txt saved\n",
        "Area"
       ]
      },
      {
       "output_type": "stream",
       "stream": "stdout",
       "text": [
        "\n",
        "(36, 1)\n",
        "[[  1.30019487]\n",
        " [  1.24992604]\n",
        " [  1.0699165 ]\n",
        " [  0.63929289]\n",
        " [  1.78942047]\n",
        " [  1.34182149]\n",
        " [  1.03239256]\n",
        " [  0.91971913]\n",
        " [  0.91338931]\n",
        " [  0.55698587]\n",
        " [  0.76768223]\n",
        " [  0.71402835]\n",
        " [  0.84062246]\n",
        " [  0.93228079]\n",
        " [  1.24410706]\n",
        " [  0.49724978]\n",
        " [  0.44835143]\n",
        " [  0.76788813]\n",
        " [  2.98953422]\n",
        " [  1.79349239]\n",
        " [ 11.43974405]\n",
        " [  2.24007645]\n",
        " [  1.73574586]\n",
        " [  1.52515365]\n",
        " [  1.69505215]\n",
        " [  1.18179531]\n",
        " [  0.93173309]\n",
        " [  1.43369526]\n",
        " [  2.41742511]\n",
        " [  0.97776076]\n",
        " [  3.38352376]\n",
        " [  2.32339907]\n",
        " [  4.90543265]\n",
        " [  2.44075214]\n",
        " [  1.68517117]\n",
        " [  5.09557251]]\n"
       ]
      }
     ],
     "prompt_number": 5
    },
    {
     "cell_type": "code",
     "collapsed": false,
     "input": [
      "fileNames = path + 'Area.txt'\n",
      "header = 'tResults'\n",
      "np.savetxt(fileNames, hypervolume, #fmt='%d\\t%d\\t%d\\t%g\\t%g\\t%g',\n",
      "          delimiter='\\t', header = header, comments = '')\n",
      "print('File', fileNames, 'saved')"
     ],
     "language": "python",
     "metadata": {},
     "outputs": [
      {
       "output_type": "stream",
       "stream": "stdout",
       "text": [
        "File ./data_kistler/Area.txt saved\n"
       ]
      }
     ],
     "prompt_number": 6
    },
    {
     "cell_type": "heading",
     "level": 3,
     "metadata": {},
     "source": [
      "C\u00e1lculo descritivo da  \u00c1rea para cada sujeito (N=6)"
     ]
    },
    {
     "cell_type": "code",
     "collapsed": false,
     "input": [
      "areaOF = np.array([[1.30019486684, 1.2499260402, 1.06991650106],\n",
      "                  [1.03239256434, 0.919719127706, 0.913389308223],\n",
      "                  [0.840622457973, 0.932280785378, 1.24410705941],\n",
      "                  [2.98953422024, 1.79349239191, 11.4397440545],\n",
      "                  [1.69505214906, 1.18179530968, 0.931733089007],\n",
      "                  [3.38352375845, 2.32339907338, 4.90543264965]])\n",
      "\n",
      "\n",
      "areaOA = np.array([[0.639292892419, 1.78942046526, 1.34182149406],\n",
      "                  [0.556985865233, 0.76768223131, 0.714028351333],\n",
      "                  [0.497249783694, 0.448351434797, 0.76788813297],\n",
      "                  [2.24007644709, 1.73574585652, 1.52515365256],\n",
      "                  [1.4336952558, 2.41742510675, 0.977760763751],\n",
      "                  [2.44075213845, 1.68517116766, 5.09557250961]])\n",
      "\n",
      "\n",
      "df = pd.DataFrame(np.vstack((areaOF, areaOA)).T, columns=['OF1', 'OF2', 'OF3', 'OF4', 'OF5', 'OF6', \n",
      "                                                          'OA1', 'OA2', 'OA3', 'OA4', 'OA5', 'OA6'])\n",
      "df.describe()"
     ],
     "language": "python",
     "metadata": {},
     "outputs": [
      {
       "html": [
        "<div style=\"max-height:1000px;max-width:1500px;overflow:auto;\">\n",
        "<table border=\"1\" class=\"dataframe\">\n",
        "  <thead>\n",
        "    <tr style=\"text-align: right;\">\n",
        "      <th></th>\n",
        "      <th>OF1</th>\n",
        "      <th>OF2</th>\n",
        "      <th>OF3</th>\n",
        "      <th>OF4</th>\n",
        "      <th>OF5</th>\n",
        "      <th>OF6</th>\n",
        "      <th>OA1</th>\n",
        "      <th>OA2</th>\n",
        "      <th>OA3</th>\n",
        "      <th>OA4</th>\n",
        "      <th>OA5</th>\n",
        "      <th>OA6</th>\n",
        "    </tr>\n",
        "  </thead>\n",
        "  <tbody>\n",
        "    <tr>\n",
        "      <th>count</th>\n",
        "      <td> 3.000000</td>\n",
        "      <td> 3.000000</td>\n",
        "      <td> 3.000000</td>\n",
        "      <td>  3.000000</td>\n",
        "      <td> 3.000000</td>\n",
        "      <td> 3.000000</td>\n",
        "      <td> 3.000000</td>\n",
        "      <td> 3.000000</td>\n",
        "      <td> 3.000000</td>\n",
        "      <td> 3.000000</td>\n",
        "      <td> 3.000000</td>\n",
        "      <td> 3.000000</td>\n",
        "    </tr>\n",
        "    <tr>\n",
        "      <th>mean</th>\n",
        "      <td> 1.206679</td>\n",
        "      <td> 0.955167</td>\n",
        "      <td> 1.005670</td>\n",
        "      <td>  5.407590</td>\n",
        "      <td> 1.269527</td>\n",
        "      <td> 3.537452</td>\n",
        "      <td> 1.256845</td>\n",
        "      <td> 0.679565</td>\n",
        "      <td> 0.571163</td>\n",
        "      <td> 1.833659</td>\n",
        "      <td> 1.609627</td>\n",
        "      <td> 3.073832</td>\n",
        "    </tr>\n",
        "    <tr>\n",
        "      <th>std</th>\n",
        "      <td> 0.121077</td>\n",
        "      <td> 0.066954</td>\n",
        "      <td> 0.211517</td>\n",
        "      <td>  5.258116</td>\n",
        "      <td> 0.389149</td>\n",
        "      <td> 1.297881</td>\n",
        "      <td> 0.579753</td>\n",
        "      <td> 0.109494</td>\n",
        "      <td> 0.172114</td>\n",
        "      <td> 0.367381</td>\n",
        "      <td> 0.735780</td>\n",
        "      <td> 1.791173</td>\n",
        "    </tr>\n",
        "    <tr>\n",
        "      <th>min</th>\n",
        "      <td> 1.069917</td>\n",
        "      <td> 0.913389</td>\n",
        "      <td> 0.840622</td>\n",
        "      <td>  1.793492</td>\n",
        "      <td> 0.931733</td>\n",
        "      <td> 2.323399</td>\n",
        "      <td> 0.639293</td>\n",
        "      <td> 0.556986</td>\n",
        "      <td> 0.448351</td>\n",
        "      <td> 1.525154</td>\n",
        "      <td> 0.977761</td>\n",
        "      <td> 1.685171</td>\n",
        "    </tr>\n",
        "    <tr>\n",
        "      <th>25%</th>\n",
        "      <td> 1.159921</td>\n",
        "      <td> 0.916554</td>\n",
        "      <td> 0.886452</td>\n",
        "      <td>  2.391513</td>\n",
        "      <td> 1.056764</td>\n",
        "      <td> 2.853461</td>\n",
        "      <td> 0.990557</td>\n",
        "      <td> 0.635507</td>\n",
        "      <td> 0.472801</td>\n",
        "      <td> 1.630450</td>\n",
        "      <td> 1.205728</td>\n",
        "      <td> 2.062962</td>\n",
        "    </tr>\n",
        "    <tr>\n",
        "      <th>50%</th>\n",
        "      <td> 1.249926</td>\n",
        "      <td> 0.919719</td>\n",
        "      <td> 0.932281</td>\n",
        "      <td>  2.989534</td>\n",
        "      <td> 1.181795</td>\n",
        "      <td> 3.383524</td>\n",
        "      <td> 1.341821</td>\n",
        "      <td> 0.714028</td>\n",
        "      <td> 0.497250</td>\n",
        "      <td> 1.735746</td>\n",
        "      <td> 1.433695</td>\n",
        "      <td> 2.440752</td>\n",
        "    </tr>\n",
        "    <tr>\n",
        "      <th>75%</th>\n",
        "      <td> 1.275060</td>\n",
        "      <td> 0.976056</td>\n",
        "      <td> 1.088194</td>\n",
        "      <td>  7.214639</td>\n",
        "      <td> 1.438424</td>\n",
        "      <td> 4.144478</td>\n",
        "      <td> 1.565621</td>\n",
        "      <td> 0.740855</td>\n",
        "      <td> 0.632569</td>\n",
        "      <td> 1.987911</td>\n",
        "      <td> 1.925560</td>\n",
        "      <td> 3.768162</td>\n",
        "    </tr>\n",
        "    <tr>\n",
        "      <th>max</th>\n",
        "      <td> 1.300195</td>\n",
        "      <td> 1.032393</td>\n",
        "      <td> 1.244107</td>\n",
        "      <td> 11.439744</td>\n",
        "      <td> 1.695052</td>\n",
        "      <td> 4.905433</td>\n",
        "      <td> 1.789420</td>\n",
        "      <td> 0.767682</td>\n",
        "      <td> 0.767888</td>\n",
        "      <td> 2.240076</td>\n",
        "      <td> 2.417425</td>\n",
        "      <td> 5.095573</td>\n",
        "    </tr>\n",
        "  </tbody>\n",
        "</table>\n",
        "</div>"
       ],
       "metadata": {},
       "output_type": "pyout",
       "prompt_number": 7,
       "text": [
        "            OF1       OF2       OF3        OF4       OF5       OF6       OA1  \\\n",
        "count  3.000000  3.000000  3.000000   3.000000  3.000000  3.000000  3.000000   \n",
        "mean   1.206679  0.955167  1.005670   5.407590  1.269527  3.537452  1.256845   \n",
        "std    0.121077  0.066954  0.211517   5.258116  0.389149  1.297881  0.579753   \n",
        "min    1.069917  0.913389  0.840622   1.793492  0.931733  2.323399  0.639293   \n",
        "25%    1.159921  0.916554  0.886452   2.391513  1.056764  2.853461  0.990557   \n",
        "50%    1.249926  0.919719  0.932281   2.989534  1.181795  3.383524  1.341821   \n",
        "75%    1.275060  0.976056  1.088194   7.214639  1.438424  4.144478  1.565621   \n",
        "max    1.300195  1.032393  1.244107  11.439744  1.695052  4.905433  1.789420   \n",
        "\n",
        "            OA2       OA3       OA4       OA5       OA6  \n",
        "count  3.000000  3.000000  3.000000  3.000000  3.000000  \n",
        "mean   0.679565  0.571163  1.833659  1.609627  3.073832  \n",
        "std    0.109494  0.172114  0.367381  0.735780  1.791173  \n",
        "min    0.556986  0.448351  1.525154  0.977761  1.685171  \n",
        "25%    0.635507  0.472801  1.630450  1.205728  2.062962  \n",
        "50%    0.714028  0.497250  1.735746  1.433695  2.440752  \n",
        "75%    0.740855  0.632569  1.987911  1.925560  3.768162  \n",
        "max    0.767682  0.767888  2.240076  2.417425  5.095573  "
       ]
      }
     ],
     "prompt_number": 7
    },
    {
     "cell_type": "heading",
     "level": 3,
     "metadata": {},
     "source": [
      "Boxplot da \u00c1rea para cada sujeito (N=6)"
     ]
    },
    {
     "cell_type": "code",
     "collapsed": false,
     "input": [
      "# Condi\u00e7\u00f5es sensoriais: OA e OF\n",
      "\n",
      "ARdf = pd.DataFrame(np.vstack((areaOF, areaOA)).T, columns=['OF1', 'OF2', 'OF3', 'OF4', 'OF5', 'OF6', \n",
      "                                                            'OA1', 'OA2', 'OA3', 'OA4', 'OA5', 'OA6'])\n",
      "ARdf['Area'] = pd.Series(['Area [cm/s$^2$]']*16)\n",
      "ARdf2 = ARdf.groupby('Area')\n",
      "ARdf2.boxplot(figsize=(12, 6), fontsize=16)\n",
      "plt.show()"
     ],
     "language": "python",
     "metadata": {},
     "outputs": [
      {
       "output_type": "stream",
       "stream": "stderr",
       "text": [
        "C:\\Users\\Damiana\\Anaconda32bits\\lib\\site-packages\\pandas\\tools\\plotting.py:2380: FutureWarning: \n",
        "The default value for 'return_type' will change to 'axes' in a future release.\n",
        " To use the future behavior now, set return_type='axes'.\n",
        " To keep the previous behavior and silence this warning, set return_type='dict'.\n",
        "  warnings.warn(msg, FutureWarning)\n"
       ]
      },
      {
       "metadata": {},
       "output_type": "display_data",
       "png": "[encoded data removed]",
       "text": [
        "<matplotlib.figure.Figure at 0xe2f4ab0>"
       ]
      }
     ],
     "prompt_number": 8
    },
    {
     "cell_type": "heading",
     "level": 3,
     "metadata": {},
     "source": [
      "C\u00e1lculo descritivo 2 da \u00c1rea a partir das medianas de cada sujeito, nas condi\u00e7\u00f5es visuais OF e OA"
     ]
    },
    {
     "cell_type": "code",
     "collapsed": false,
     "input": [
      "MedareaOF = [1.249926, 0.919719, 0.932281, 2.989534, 1.181795, 3.383524]\n",
      "\n",
      "MedareaOA = [1.341821, 0.714028, 0.497250, 1.735746, 1.433695, 2.440752]\n",
      "\n",
      "Meddf = pd.DataFrame(np.vstack((MedareaOF, MedareaOA)).T, columns=['OF1',  \n",
      "                                                                   'OA1'])\n",
      "Meddf.describe()"
     ],
     "language": "python",
     "metadata": {},
     "outputs": [
      {
       "html": [
        "<div style=\"max-height:1000px;max-width:1500px;overflow:auto;\">\n",
        "<table border=\"1\" class=\"dataframe\">\n",
        "  <thead>\n",
        "    <tr style=\"text-align: right;\">\n",
        "      <th></th>\n",
        "      <th>OF1</th>\n",
        "      <th>OA1</th>\n",
        "    </tr>\n",
        "  </thead>\n",
        "  <tbody>\n",
        "    <tr>\n",
        "      <th>count</th>\n",
        "      <td> 6.000000</td>\n",
        "      <td> 6.000000</td>\n",
        "    </tr>\n",
        "    <tr>\n",
        "      <th>mean</th>\n",
        "      <td> 1.776130</td>\n",
        "      <td> 1.360549</td>\n",
        "    </tr>\n",
        "    <tr>\n",
        "      <th>std</th>\n",
        "      <td> 1.107403</td>\n",
        "      <td> 0.703788</td>\n",
        "    </tr>\n",
        "    <tr>\n",
        "      <th>min</th>\n",
        "      <td> 0.919719</td>\n",
        "      <td> 0.497250</td>\n",
        "    </tr>\n",
        "    <tr>\n",
        "      <th>25%</th>\n",
        "      <td> 0.994660</td>\n",
        "      <td> 0.870976</td>\n",
        "    </tr>\n",
        "    <tr>\n",
        "      <th>50%</th>\n",
        "      <td> 1.215861</td>\n",
        "      <td> 1.387758</td>\n",
        "    </tr>\n",
        "    <tr>\n",
        "      <th>75%</th>\n",
        "      <td> 2.554632</td>\n",
        "      <td> 1.660233</td>\n",
        "    </tr>\n",
        "    <tr>\n",
        "      <th>max</th>\n",
        "      <td> 3.383524</td>\n",
        "      <td> 2.440752</td>\n",
        "    </tr>\n",
        "  </tbody>\n",
        "</table>\n",
        "</div>"
       ],
       "metadata": {},
       "output_type": "pyout",
       "prompt_number": 9,
       "text": [
        "            OF1       OA1\n",
        "count  6.000000  6.000000\n",
        "mean   1.776130  1.360549\n",
        "std    1.107403  0.703788\n",
        "min    0.919719  0.497250\n",
        "25%    0.994660  0.870976\n",
        "50%    1.215861  1.387758\n",
        "75%    2.554632  1.660233\n",
        "max    3.383524  2.440752"
       ]
      }
     ],
     "prompt_number": 9
    }
   ],
   "metadata": {}
  }
 ]
}