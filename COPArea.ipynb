{
 "metadata": {
  "name": "",
  "signature": "sha256:ee4db684d06baa63d162df08dd9f10fd64fd5a753124046135608ab567a4b83f"
 },
 "nbformat": 3,
 "nbformat_minor": 0,
 "worksheets": [
  {
   "cells": [
    {
     "cell_type": "code",
     "collapsed": false,
     "input": [
      "from __future__ import division, print_function\n",
      "import numpy as np\n",
      "import matplotlib.pyplot as plt\n",
      "%matplotlib inline\n",
      "from IPython.display import HTML, display\n",
      "from scipy.signal import butter, lfilter, filtfilt, detrend"
     ],
     "language": "python",
     "metadata": {},
     "outputs": [],
     "prompt_number": 1
    },
    {
     "cell_type": "heading",
     "level": 3,
     "metadata": {},
     "source": [
      "Definitions"
     ]
    },
    {
     "cell_type": "code",
     "collapsed": false,
     "input": [
      "# 2 conditions: open eyes (oe) and closed eyes (ce)\n",
      "# 4 participants\n",
      "# 1 task: quiet standing (qs)\n",
      "# 3 trials\n",
      "# time  = 60 s\n",
      "# freq= 100 Hz\n",
      "# freqNiquist = freq/2\n",
      "# lowpass 4th order\n",
      "\n",
      "# Definitions:\n",
      "group = ['adults (control)'] \n",
      "# files with 9 variables = ['Time (s)', 'Fx', 'Fy', 'Fz', 'Mx', 'My', 'Mz', 'COPx', 'COPy']\n",
      "task = 'qs' \n",
      "subjects = ['cf', 'da', 'hr', 'kj', 'md', 'rf']\n",
      "conditions = ['ce', 'oe']\n",
      "trials = ['01', '02', '03']\n",
      "extension = '.txt'\n",
      "\n",
      "# Time:\n",
      "time = 60;  # seconds\n",
      "\n",
      "# File directory:\n",
      "path = './data_kistler/'\n",
      "\n",
      "# Filter Butterworth\n",
      "order = 4; # order filter\n",
      "freqCorte = 10; # Hz\n",
      "freq = 100; # Hz"
     ],
     "language": "python",
     "metadata": {},
     "outputs": [],
     "prompt_number": 2
    },
    {
     "cell_type": "heading",
     "level": 3,
     "metadata": {},
     "source": [
      "Reading and filtering data"
     ]
    },
    {
     "cell_type": "code",
     "collapsed": false,
     "input": [
      "def COP_Processing (path, freq, time, freqCorte):\n",
      "    \"\"\"Leitura dos dados de um arquivo, filtra  o copx e o copy.\n",
      "    \n",
      "    Parameters\n",
      "    ----------\n",
      "    fileNames : nome do arquivo\n",
      "    freq : frequ\u00eancia de aquisi\u00e7\u00e3o\n",
      "    time : tempo de aquisi\u00e7\u00e3o dos dados\n",
      "    freqCorte : frequ\u00eancia de corte para um  filtro Butterworth passa baixa\"\"\"\n",
      "    \n",
      "    \n",
      "    data = np.loadtxt(path, skiprows=1)\n",
      "    copx = data[:,7]\n",
      "    copy = data[:,8]\n",
      "            \n",
      "           \n",
      "    b, a = butter(order, freqCorte/(freq/2), btype = 'low')\n",
      "    copx = filtfilt(b, a, data[:,7])\n",
      "    copy = filtfilt(b, a, data[:,8])    \n",
      "    \n",
      "      \n",
      "    copx = detrend(copx, type='constant')   \n",
      "    copy = detrend(copy, type='constant')\n",
      "    \n",
      "    copx = copx*100\n",
      "    copy = copy*100\n",
      "    \n",
      "    \n",
      "    return copx, copy"
     ],
     "language": "python",
     "metadata": {},
     "outputs": [],
     "prompt_number": 3
    },
    {
     "cell_type": "heading",
     "level": 3,
     "metadata": {},
     "source": [
      "Area"
     ]
    },
    {
     "cell_type": "code",
     "collapsed": false,
     "input": [
      "from scipy.stats import f as F                # import F distribution\n",
      "from scipy.special import gamma               # import Gamma function\n",
      "\n",
      "for subject in subjects:    \n",
      "    \n",
      "    for c, condition in enumerate(conditions):        \n",
      "        #fileNames = path + task[0] + condition + subject + extension\n",
      "        for t, trial in enumerate(trials):\n",
      "            fileNames = path + task + condition + subject + trial + extension\n",
      "            print (fileNames)\n",
      "            try:\n",
      "                data = np.loadtxt(fileNames, skiprows=1, unpack=False)                            \n",
      "            except:\n",
      "                #pass\n",
      "                print('File ' + condition + subject + trial + extension + ' does not exist.') \n",
      "            \n",
      "            copx, copy = COP_Processing(fileNames, freq, time, freqCorte)   \n",
      "\n",
      "            p, n = np.asarray([copx,copy]).shape             # 2-D array dimensions\n",
      "            cov = np.cov([copx,copy])                  # covariance matrix of data\n",
      "            U, s, Vt = np.linalg.svd(cov)                 # singular value decomposition\n",
      "            f95 = F.ppf(0.95,p,n-p)*(n-1)*p*(n+1)/n/(n-p)  # F 95 percent point function\n",
      "            saxes = np.sqrt(s*f95)                        # semi-axes lengths\n",
      "            hypervolume = np.pi**(p/2)/gamma(p/2+1)*np.prod(saxes)\n",
      "\n",
      "            print('Area =', hypervolume)\n",
      "            print('Semi-axes =', saxes)\n",
      "            print ('')\n",
      "            \n",
      "             \n"
     ],
     "language": "python",
     "metadata": {},
     "outputs": [
      {
       "output_type": "stream",
       "stream": "stdout",
       "text": [
        "./data_kistler/qscecf01.txt\n",
        "Area ="
       ]
      },
      {
       "output_type": "stream",
       "stream": "stdout",
       "text": [
        " 1.30019486684\n",
        "Semi-axes = [ 0.83042945  0.49837452]\n",
        "\n",
        "./data_kistler/qscecf02.txt\n",
        "Area ="
       ]
      },
      {
       "output_type": "stream",
       "stream": "stdout",
       "text": [
        " 1.2499260402\n",
        "Semi-axes = [ 1.09217543  0.36428563]\n",
        "\n",
        "./data_kistler/qscecf03.txt\n",
        "Area ="
       ]
      },
      {
       "output_type": "stream",
       "stream": "stdout",
       "text": [
        " 1.06991650106\n",
        "Semi-axes = [ 0.84643499  0.40235222]\n",
        "\n",
        "./data_kistler/qsoecf01.txt\n",
        "Area ="
       ]
      },
      {
       "output_type": "stream",
       "stream": "stdout",
       "text": [
        " 0.639292892419\n",
        "Semi-axes = [ 0.58027336  0.35068514]\n",
        "\n",
        "./data_kistler/qsoecf02.txt\n",
        "Area ="
       ]
      },
      {
       "output_type": "stream",
       "stream": "stdout",
       "text": [
        " 1.78942046526\n",
        "Semi-axes = [ 1.06442776  0.53511403]\n",
        "\n",
        "./data_kistler/qsoecf03.txt\n",
        "Area ="
       ]
      },
      {
       "output_type": "stream",
       "stream": "stdout",
       "text": [
        " 1.34182149406\n",
        "Semi-axes = [ 0.88291355  0.48375636]\n",
        "\n",
        "./data_kistler/qsceda01.txt\n",
        "Area ="
       ]
      },
      {
       "output_type": "stream",
       "stream": "stdout",
       "text": [
        " 1.03239256434\n",
        "Semi-axes = [ 0.82305699  0.39926853]\n",
        "\n",
        "./data_kistler/qsceda02.txt\n",
        "Area ="
       ]
      },
      {
       "output_type": "stream",
       "stream": "stdout",
       "text": [
        " 0.919719127706\n",
        "Semi-axes = [ 0.99271232  0.29490486]\n",
        "\n",
        "./data_kistler/qsceda03.txt\n",
        "Area ="
       ]
      },
      {
       "output_type": "stream",
       "stream": "stdout",
       "text": [
        " 0.913389308223\n",
        "Semi-axes = [ 0.6918941   0.42021004]\n",
        "\n",
        "./data_kistler/qsoeda01.txt\n",
        "Area ="
       ]
      },
      {
       "output_type": "stream",
       "stream": "stdout",
       "text": [
        " 0.556985865233\n",
        "Semi-axes = [ 0.55912521  0.31709195]\n",
        "\n",
        "./data_kistler/qsoeda02.txt\n",
        "Area ="
       ]
      },
      {
       "output_type": "stream",
       "stream": "stdout",
       "text": [
        " 0.76768223131\n",
        "Semi-axes = [ 0.74487808  0.32805482]\n",
        "\n",
        "./data_kistler/qsoeda03.txt\n",
        "Area ="
       ]
      },
      {
       "output_type": "stream",
       "stream": "stdout",
       "text": [
        " 0.714028351333\n",
        "Semi-axes = [ 0.78028503  0.2912811 ]\n",
        "\n",
        "./data_kistler/qscehr01.txt\n",
        "Area ="
       ]
      },
      {
       "output_type": "stream",
       "stream": "stdout",
       "text": [
        " 0.840622457973\n",
        "Semi-axes = [ 0.69489336  0.38506403]\n",
        "\n",
        "./data_kistler/qscehr02.txt\n",
        "Area ="
       ]
      },
      {
       "output_type": "stream",
       "stream": "stdout",
       "text": [
        " 0.932280785378\n",
        "Semi-axes = [ 0.8087985   0.36690744]\n",
        "\n",
        "./data_kistler/qscehr03.txt\n",
        "Area ="
       ]
      },
      {
       "output_type": "stream",
       "stream": "stdout",
       "text": [
        " 1.24410705941\n",
        "Semi-axes = [ 0.91529922  0.43265805]\n",
        "\n",
        "./data_kistler/qsoehr01.txt\n",
        "Area ="
       ]
      },
      {
       "output_type": "stream",
       "stream": "stdout",
       "text": [
        " 0.497249783694\n",
        "Semi-axes = [ 0.65908449  0.24015058]\n",
        "\n",
        "./data_kistler/qsoehr02.txt\n",
        "Area ="
       ]
      },
      {
       "output_type": "stream",
       "stream": "stdout",
       "text": [
        " 0.448351434797\n",
        "Semi-axes = [ 0.66019606  0.21617017]\n",
        "\n",
        "./data_kistler/qsoehr03.txt\n",
        "Area ="
       ]
      },
      {
       "output_type": "stream",
       "stream": "stdout",
       "text": [
        " 0.767888132978\n",
        "Semi-axes = [ 1.13781287  0.21482125]\n",
        "\n",
        "./data_kistler/qscekj01.txt\n",
        "Area ="
       ]
      },
      {
       "output_type": "stream",
       "stream": "stdout",
       "text": [
        " 2.98953422024\n",
        "Semi-axes = [ 1.91426482  0.49710901]\n",
        "\n",
        "./data_kistler/qscekj02.txt\n",
        "Area ="
       ]
      },
      {
       "output_type": "stream",
       "stream": "stdout",
       "text": [
        " 1.79349239191\n",
        "Semi-axes = [ 1.06534688  0.53586899]\n",
        "\n",
        "./data_kistler/qscekj03.txt\n",
        "Area ="
       ]
      },
      {
       "output_type": "stream",
       "stream": "stdout",
       "text": [
        " 11.4397440545\n",
        "Semi-axes = [ 2.67643863  1.3605332 ]\n",
        "\n",
        "./data_kistler/qsoekj01.txt\n",
        "Area ="
       ]
      },
      {
       "output_type": "stream",
       "stream": "stdout",
       "text": [
        " 2.24007644709\n",
        "Semi-axes = [ 0.88635181  0.8044644 ]\n",
        "\n",
        "./data_kistler/qsoekj02.txt\n",
        "Area ="
       ]
      },
      {
       "output_type": "stream",
       "stream": "stdout",
       "text": [
        " 1.73574585652\n",
        "Semi-axes = [ 1.21841636  0.45346163]\n",
        "\n",
        "./data_kistler/qsoekj03.txt\n",
        "Area ="
       ]
      },
      {
       "output_type": "stream",
       "stream": "stdout",
       "text": [
        " 1.52515365256\n",
        "Semi-axes = [ 1.37685236  0.35259517]\n",
        "\n",
        "./data_kistler/qscemd01.txt\n",
        "Area ="
       ]
      },
      {
       "output_type": "stream",
       "stream": "stdout",
       "text": [
        " 1.69505214906\n",
        "Semi-axes = [ 1.8600632   0.29007179]\n",
        "\n",
        "./data_kistler/qscemd02.txt\n",
        "Area ="
       ]
      },
      {
       "output_type": "stream",
       "stream": "stdout",
       "text": [
        " 1.18179530968\n",
        "Semi-axes = [ 1.11000659  0.3388963 ]\n",
        "\n",
        "./data_kistler/qscemd03.txt\n",
        "Area ="
       ]
      },
      {
       "output_type": "stream",
       "stream": "stdout",
       "text": [
        " 0.931733089007\n",
        "Semi-axes = [ 1.05199357  0.28192173]\n",
        "\n",
        "./data_kistler/qsoemd01.txt\n",
        "Area ="
       ]
      },
      {
       "output_type": "stream",
       "stream": "stdout",
       "text": [
        " 1.4336952558\n",
        "Semi-axes = [ 1.22457699  0.37266695]\n",
        "\n",
        "./data_kistler/qsoemd02.txt\n",
        "Area ="
       ]
      },
      {
       "output_type": "stream",
       "stream": "stdout",
       "text": [
        " 2.41742510675\n",
        "Semi-axes = [ 2.19438932  0.35066262]\n",
        "\n",
        "./data_kistler/qsoemd03.txt\n",
        "Area ="
       ]
      },
      {
       "output_type": "stream",
       "stream": "stdout",
       "text": [
        " 0.977760763751\n",
        "Semi-axes = [ 1.24688975  0.2496058 ]\n",
        "\n",
        "./data_kistler/qscerf01.txt\n",
        "Area ="
       ]
      },
      {
       "output_type": "stream",
       "stream": "stdout",
       "text": [
        " 3.38352375845\n",
        "Semi-axes = [ 2.30539409  0.46716918]\n",
        "\n",
        "./data_kistler/qscerf02.txt\n",
        "Area ="
       ]
      },
      {
       "output_type": "stream",
       "stream": "stdout",
       "text": [
        " 2.32339907338\n",
        "Semi-axes = [ 1.53745059  0.48103068]\n",
        "\n",
        "./data_kistler/qscerf03.txt\n",
        "Area ="
       ]
      },
      {
       "output_type": "stream",
       "stream": "stdout",
       "text": [
        " 4.90543264965\n",
        "Semi-axes = [ 1.80233082  0.86634912]\n",
        "\n",
        "./data_kistler/qsoerf01.txt\n",
        "Area ="
       ]
      },
      {
       "output_type": "stream",
       "stream": "stdout",
       "text": [
        " 2.44075213845\n",
        "Semi-axes = [ 1.2628168   0.61522426]\n",
        "\n",
        "./data_kistler/qsoerf02.txt\n",
        "Area ="
       ]
      },
      {
       "output_type": "stream",
       "stream": "stdout",
       "text": [
        " 1.68517116766\n",
        "Semi-axes = [ 1.14609398  0.46803024]\n",
        "\n",
        "./data_kistler/qsoerf03.txt\n",
        "Area ="
       ]
      },
      {
       "output_type": "stream",
       "stream": "stdout",
       "text": [
        " 5.09557250961\n",
        "Semi-axes = [ 1.87112888  0.86684094]\n",
        "\n"
       ]
      }
     ],
     "prompt_number": 4
    },
    {
     "cell_type": "heading",
     "level": 3,
     "metadata": {},
     "source": [
      "Plots: Area"
     ]
    },
    {
     "cell_type": "code",
     "collapsed": false,
     "input": [
      "N = 6\n",
      "\n",
      "# Trial 1\n",
      "areaCE1 = [1.30019486684, 1.03239256434, 0.840622457973, 2.98953422024, 1.69505214906, 3.38352375845]\n",
      "areaOE1 = [0.639292892419, 0.556985865233, 0.497249783694, 2.24007644709, 1.4336952558, 2.44075213845]\n",
      "\n",
      "# Trial 2\n",
      "areaCE2 = [1.2499260402, 0.919719127706, 0.932280785378, 1.79349239191, 1.18179530968, 2.32339907338]\n",
      "areaOE2 = [1.78942046526, 0.76768223131, 0.448351434797, 1.73574585652, 2.41742510675, 1.68517116766]\n",
      "\n",
      "\n",
      "# Trial 3\n",
      "areaCE3 = [1.06991650106, 0.913389308223, 1.24410705941, 11.4397440545, 0.931733089007, 4.90543264965]\n",
      "areaOE3 = [1.34182149406, 0.714028351333, 0.767888132978, 1.52515365256, 0.977760763751, 5.09557250961]\n",
      "\n",
      "\n",
      "ind = np.arange(N)  # the x locations for the groups\n",
      "width = 0.35       # the width of the bars\n",
      "\n",
      "\n",
      "fig, (ax1, ax2, ax3) = plt.subplots(1,3, figsize=(20, 5))\n",
      "\n",
      "rects7 = ax1.bar(ind, areaCE1, width, color='r')#, yerr=sdcopyCE )\n",
      "rects8 = ax1.bar(ind+width, areaOE1, width, color='b')#, yerr=sdcopyCE)\n",
      "\n",
      "rects9 = ax2.bar(ind, areaCE2, width, color='r')#, yerr=sdcopyCE )\n",
      "rects10 = ax2.bar(ind+width, areaOE2, width, color='b')#, yerr=sdcopyCE)\n",
      "\n",
      "rects11 = ax3.bar(ind, areaCE3, width, color='r')#, yerr=sdcopyCE )\n",
      "rects12 = ax3.bar(ind+width, areaOE3, width, color='b')#, yerr=sdcopyCE)\n",
      "\n",
      "\n",
      "# add some text for labels, title and axes ticks\n",
      "#plt.suptitle(\"Trial 3\", fontsize=20)\n",
      "\n",
      "ax1.set_title(\"Trial 1\", fontsize=20)\n",
      "ax1.set_ylabel('Area [cm/s$^2$]', fontsize=15)\n",
      "ax1.set_xticks(ind+width)\n",
      "ax1.set_xticklabels( ('CF', 'DA', 'HR', 'KJ', 'MD', 'RF'), fontsize=15)\n",
      "ax1.legend((rects7[0], rects8[0]), ('OF', 'OA'), loc=0 )\n",
      "\n",
      "ax2.set_title(\"Trial 2\", fontsize=20)\n",
      "ax2.set_ylabel('Area [cm/s$^2$]', fontsize=15)\n",
      "ax2.set_xticks(ind+width)\n",
      "ax2.set_xticklabels( ('CF', 'DA', 'HR', 'KJ', 'MD', 'RF'), fontsize=15)\n",
      "ax2.legend((rects9[1], rects10[1]), ('OF', 'OA'), loc=0 )\n",
      "\n",
      "ax3.set_title(\"Trial 3\", fontsize=20)\n",
      "ax3.set_ylabel('Area [cm/s$^2$]', fontsize=15)\n",
      "ax3.set_xticks(ind+width)\n",
      "ax3.set_xticklabels( ('CF', 'DA', 'HR', 'KJ', 'MD', 'RF'), fontsize=15)\n",
      "ax3.legend((rects11[2], rects12[2]), ('OF', 'OA'), loc=0 )\n",
      "\n",
      "\n",
      "def autolabel(rects):\n",
      "    # attach some text labels\n",
      "    for rect in rects:\n",
      "        height = rect.get_height()\n",
      "        #ax.text(rect.get_x()+rect.get_width()/2., 1.05*height, '%d'%int(height),\n",
      "               #ha='center', va='bottom')\n",
      "\n",
      "autolabel(rects7)\n",
      "autolabel(rects8)\n",
      "autolabel(rects9)\n",
      "autolabel(rects10)\n",
      "autolabel(rects11)\n",
      "autolabel(rects12)\n",
      "\n",
      "plt.subplots_adjust(wspace=0.5)\n",
      "#plt.show()\n"
     ],
     "language": "python",
     "metadata": {},
     "outputs": [
      {
       "metadata": {},
       "output_type": "display_data",
       "png": "[encoded data removed]",
       "text": [
        "<matplotlib.figure.Figure at 0x73f7b70>"
       ]
      }
     ],
     "prompt_number": 5
    },
    {
     "cell_type": "code",
     "collapsed": false,
     "input": [],
     "language": "python",
     "metadata": {},
     "outputs": []
    }
   ],
   "metadata": {}
  }
 ]
}