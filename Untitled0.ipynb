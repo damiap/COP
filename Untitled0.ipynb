{
 "metadata": {
  "name": "",
  "signature": "sha256:d972ca0c1094db566ad3fcbc9e8c92cfd9df325f7de98ddaedc0f9743d0d3767"
 },
 "nbformat": 3,
 "nbformat_minor": 0,
 "worksheets": [
  {
   "cells": [
    {
     "cell_type": "code",
     "collapsed": false,
     "input": [
      "!git --version"
     ],
     "language": "python",
     "metadata": {},
     "outputs": [
      {
       "output_type": "stream",
       "stream": "stderr",
       "text": [
        "'git' nao \u201a reconhecido como um comando interno\n",
        "ou externo, um programa oper\u00a0vel ou um arquivo em lotes.\n"
       ]
      }
     ],
     "prompt_number": 4
    },
    {
     "cell_type": "code",
     "collapsed": false,
     "input": [
      "https://github.com/damiap/Stabilography"
     ],
     "language": "python",
     "metadata": {},
     "outputs": []
    }
   ],
   "metadata": {}
  }
 ]
}