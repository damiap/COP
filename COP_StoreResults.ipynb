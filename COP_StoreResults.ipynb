{
 "metadata": {
  "name": "",
  "signature": "sha256:e19965e5b68349a9c35bbfe6ba28275da1093364d46408ab6ec3971eecc07ea2"
 },
 "nbformat": 3,
 "nbformat_minor": 0,
 "worksheets": [
  {
   "cells": [
    {
     "cell_type": "code",
     "collapsed": false,
     "input": [
      "from __future__ import division, print_function\n",
      "import numpy as np\n",
      "import matplotlib.pyplot as plt\n",
      "%matplotlib inline\n",
      "from IPython.display import HTML, display\n",
      "from scipy.signal import butter, lfilter, filtfilt, detrend"
     ],
     "language": "python",
     "metadata": {},
     "outputs": [],
     "prompt_number": 1
    },
    {
     "cell_type": "heading",
     "level": 3,
     "metadata": {},
     "source": [
      "Definitions"
     ]
    },
    {
     "cell_type": "code",
     "collapsed": false,
     "input": [
      "# 2 conditions: open eyes (oe) and closed eyes (ce)\n",
      "# 6 participants\n",
      "# 1 task: quiet standing (qs)\n",
      "# 3 trials\n",
      "# time  = 60 s\n",
      "# freq= 100 Hz\n",
      "# freqNiquist = freq/2\n",
      "# lowpass 4th order\n",
      "\n",
      "# Definitions:\n",
      "group = ['adults (control)'] \n",
      "# files with 9 variables = ['Time (s)', 'Fx', 'Fy', 'Fz', 'Mx', 'My', 'Mz', 'COPx', 'COPy']\n",
      "task = 'qs' \n",
      "subjects = ['cf', 'da', 'hr', 'kj', 'md', 'rf']\n",
      "conditions = ['ce', 'oe']\n",
      "trials = ['01', '02', '03']\n",
      "extension = '.txt'\n",
      "\n",
      "# Time:\n",
      "time = 60;  # seconds\n",
      "\n",
      "# File directory:\n",
      "path = './data_kistler/'\n",
      "\n",
      "# Filter Butterworth\n",
      "order = 4; # order filter\n",
      "freqCorte = 10; # Hz\n",
      "freq = 100; # Hz"
     ],
     "language": "python",
     "metadata": {},
     "outputs": [],
     "prompt_number": 2
    },
    {
     "cell_type": "code",
     "collapsed": false,
     "input": [
      "def COP_Processing (path, freq, time, freqCorte):\n",
      "    \"\"\"Leitura dos dados de um arquivo, filtra  o copx e o copy.\n",
      "    \n",
      "    Parameters\n",
      "    ----------\n",
      "    fileNames : nome do arquivo\n",
      "    freq : frequ\u00eancia de aquisi\u00e7\u00e3o\n",
      "    time : tempo de aquisi\u00e7\u00e3o dos dados\n",
      "    freqCorte : frequ\u00eancia de corte para um  filtro Butterworth passa baixa\"\"\"\n",
      "    \n",
      "    \n",
      "    data = np.loadtxt(path, skiprows=1)\n",
      "    copx = data[:,7]\n",
      "    copy = data[:,8]\n",
      "            \n",
      "           \n",
      "    b, a = butter(order, freqCorte/(freq/2), btype = 'low')\n",
      "    copx = filtfilt(b, a, data[:,7])\n",
      "    copy = filtfilt(b, a, data[:,8])    \n",
      "    \n",
      "      \n",
      "    copx = detrend(copx, type='constant')   \n",
      "    copy = detrend(copy, type='constant')\n",
      "    \n",
      "    copx = copx*100\n",
      "    copy = copy*100    \n",
      "      \n",
      "       \n",
      "    return copx, copy"
     ],
     "language": "python",
     "metadata": {},
     "outputs": [],
     "prompt_number": 3
    },
    {
     "cell_type": "code",
     "collapsed": false,
     "input": [
      "# Store results\n",
      "\n",
      "T = 60 # time (s)\n",
      "\n",
      "\n",
      "resultsX = np.empty(shape=(6*2*3, 1))*np.NaN\n",
      "resultsY = np.empty(shape=(6*2*3, 1))*np.NaN\n",
      "ind = 0\n",
      "indexes = []\n",
      "\n",
      "for s, subject in enumerate(subjects):\n",
      "    for c, condition in enumerate(conditions):        \n",
      "        for t, trial in enumerate(trials):\n",
      "            ind += 1\n",
      "            indexes.append([s, c, t])\n",
      "            fileNames = path + task + condition + subject + trial + extension\n",
      "            time = copx = copy = np.array([])\n",
      "            #header = 'Col A\\tCol B\\tCol C'\n",
      "            #np.savetxt(fileNames, [copx, copy], fmt='%g', delimiter='\\t', header = header, comments = '')\n",
      "            print('File', fileNames, 'saved') \n",
      "            try:\n",
      "                data = np.loadtxt(fileNames, skiprows=1, unpack=False)   \n",
      "                if data.shape[1] == 2:\n",
      "                    time, copx = data[:, 0], data[:, 7]\n",
      "                elif data.shape[1] == 3:\n",
      "                    time, copx, copy = data[:, 0], data[:, 7], data[:, 8]\n",
      "            except:\n",
      "                #pass\n",
      "                print('File ' + condition + subject + trial + extension + ' does not exist.') \n",
      "                continue\n",
      "            else:\n",
      "                pass\n",
      "\n",
      "            copx, copy = COP_Processing(fileNames, freq, time, freqCorte)\n",
      "            \n",
      "            resultsX[ind-1, :] = np.sum(np.abs(np.diff(copx))) / T\n",
      "            resultsY[ind-1, :] = np.sum(np.abs(np.diff(copy))) / T\n",
      "  \n",
      "print (\"COPX\")\n",
      "resultsX = np.hstack((np.array(indexes), resultsX))\n",
      "print(resultsX.shape)\n",
      "print(resultsX)\n",
      "print ('')\n",
      "print (\"COPY\")\n",
      "resultsY = np.hstack((np.array(indexes), resultsY))\n",
      "print(resultsY.shape)\n",
      "print(resultsY)\n"
     ],
     "language": "python",
     "metadata": {},
     "outputs": [
      {
       "output_type": "stream",
       "stream": "stdout",
       "text": [
        "File ./data_kistler/qscecf01.txt saved\n",
        "File"
       ]
      },
      {
       "output_type": "stream",
       "stream": "stdout",
       "text": [
        " ./data_kistler/qscecf02.txt saved\n",
        "File"
       ]
      },
      {
       "output_type": "stream",
       "stream": "stdout",
       "text": [
        " ./data_kistler/qscecf03.txt saved\n",
        "File"
       ]
      },
      {
       "output_type": "stream",
       "stream": "stdout",
       "text": [
        " ./data_kistler/qsoecf01.txt saved\n",
        "File"
       ]
      },
      {
       "output_type": "stream",
       "stream": "stdout",
       "text": [
        " ./data_kistler/qsoecf02.txt saved\n",
        "File"
       ]
      },
      {
       "output_type": "stream",
       "stream": "stdout",
       "text": [
        " ./data_kistler/qsoecf03.txt saved\n",
        "File"
       ]
      },
      {
       "output_type": "stream",
       "stream": "stdout",
       "text": [
        " ./data_kistler/qsceda01.txt saved\n",
        "File"
       ]
      },
      {
       "output_type": "stream",
       "stream": "stdout",
       "text": [
        " ./data_kistler/qsceda02.txt saved\n",
        "File"
       ]
      },
      {
       "output_type": "stream",
       "stream": "stdout",
       "text": [
        " ./data_kistler/qsceda03.txt saved\n",
        "File"
       ]
      },
      {
       "output_type": "stream",
       "stream": "stdout",
       "text": [
        " ./data_kistler/qsoeda01.txt saved\n",
        "File"
       ]
      },
      {
       "output_type": "stream",
       "stream": "stdout",
       "text": [
        " ./data_kistler/qsoeda02.txt saved\n",
        "File"
       ]
      },
      {
       "output_type": "stream",
       "stream": "stdout",
       "text": [
        " ./data_kistler/qsoeda03.txt saved\n",
        "File"
       ]
      },
      {
       "output_type": "stream",
       "stream": "stdout",
       "text": [
        " ./data_kistler/qscehr01.txt saved\n",
        "File"
       ]
      },
      {
       "output_type": "stream",
       "stream": "stdout",
       "text": [
        " ./data_kistler/qscehr02.txt saved\n",
        "File"
       ]
      },
      {
       "output_type": "stream",
       "stream": "stdout",
       "text": [
        " ./data_kistler/qscehr03.txt saved\n",
        "File"
       ]
      },
      {
       "output_type": "stream",
       "stream": "stdout",
       "text": [
        " ./data_kistler/qsoehr01.txt saved\n",
        "File"
       ]
      },
      {
       "output_type": "stream",
       "stream": "stdout",
       "text": [
        " ./data_kistler/qsoehr02.txt saved\n",
        "File"
       ]
      },
      {
       "output_type": "stream",
       "stream": "stdout",
       "text": [
        " ./data_kistler/qsoehr03.txt saved\n",
        "File"
       ]
      },
      {
       "output_type": "stream",
       "stream": "stdout",
       "text": [
        " ./data_kistler/qscekj01.txt saved\n",
        "File"
       ]
      },
      {
       "output_type": "stream",
       "stream": "stdout",
       "text": [
        " ./data_kistler/qscekj02.txt saved\n",
        "File"
       ]
      },
      {
       "output_type": "stream",
       "stream": "stdout",
       "text": [
        " ./data_kistler/qscekj03.txt saved\n",
        "File"
       ]
      },
      {
       "output_type": "stream",
       "stream": "stdout",
       "text": [
        " ./data_kistler/qsoekj01.txt saved\n",
        "File"
       ]
      },
      {
       "output_type": "stream",
       "stream": "stdout",
       "text": [
        " ./data_kistler/qsoekj02.txt saved\n",
        "File"
       ]
      },
      {
       "output_type": "stream",
       "stream": "stdout",
       "text": [
        " ./data_kistler/qsoekj03.txt saved\n",
        "File"
       ]
      },
      {
       "output_type": "stream",
       "stream": "stdout",
       "text": [
        " ./data_kistler/qscemd01.txt saved\n",
        "File"
       ]
      },
      {
       "output_type": "stream",
       "stream": "stdout",
       "text": [
        " ./data_kistler/qscemd02.txt saved\n",
        "File"
       ]
      },
      {
       "output_type": "stream",
       "stream": "stdout",
       "text": [
        " ./data_kistler/qscemd03.txt saved\n",
        "File"
       ]
      },
      {
       "output_type": "stream",
       "stream": "stdout",
       "text": [
        " ./data_kistler/qsoemd01.txt saved\n",
        "File"
       ]
      },
      {
       "output_type": "stream",
       "stream": "stdout",
       "text": [
        " ./data_kistler/qsoemd02.txt saved\n",
        "File"
       ]
      },
      {
       "output_type": "stream",
       "stream": "stdout",
       "text": [
        " ./data_kistler/qsoemd03.txt saved\n",
        "File"
       ]
      },
      {
       "output_type": "stream",
       "stream": "stdout",
       "text": [
        " ./data_kistler/qscerf01.txt saved\n",
        "File"
       ]
      },
      {
       "output_type": "stream",
       "stream": "stdout",
       "text": [
        " ./data_kistler/qscerf02.txt saved\n",
        "File"
       ]
      },
      {
       "output_type": "stream",
       "stream": "stdout",
       "text": [
        " ./data_kistler/qscerf03.txt saved\n",
        "File"
       ]
      },
      {
       "output_type": "stream",
       "stream": "stdout",
       "text": [
        " ./data_kistler/qsoerf01.txt saved\n",
        "File"
       ]
      },
      {
       "output_type": "stream",
       "stream": "stdout",
       "text": [
        " ./data_kistler/qsoerf02.txt saved\n",
        "File"
       ]
      },
      {
       "output_type": "stream",
       "stream": "stdout",
       "text": [
        " ./data_kistler/qsoerf03.txt saved\n",
        "COPX"
       ]
      },
      {
       "output_type": "stream",
       "stream": "stdout",
       "text": [
        "\n",
        "(36, 4)\n",
        "[[ 0.          0.          0.          0.74792359]\n",
        " [ 0.          0.          1.          0.69047142]\n",
        " [ 0.          0.          2.          0.54163286]\n",
        " [ 0.          1.          0.          0.61757918]\n",
        " [ 0.          1.          1.          0.60539072]\n",
        " [ 0.          1.          2.          0.68673383]\n",
        " [ 1.          0.          0.          0.74770673]\n",
        " [ 1.          0.          1.          0.67371059]\n",
        " [ 1.          0.          2.          0.7692322 ]\n",
        " [ 1.          1.          0.          0.53448203]\n",
        " [ 1.          1.          1.          0.5459961 ]\n",
        " [ 1.          1.          2.          0.61284672]\n",
        " [ 2.          0.          0.          0.6240741 ]\n",
        " [ 2.          0.          1.          0.78388278]\n",
        " [ 2.          0.          2.          0.59190766]\n",
        " [ 2.          1.          0.          0.44739335]\n",
        " [ 2.          1.          1.          0.46652791]\n",
        " [ 2.          1.          2.          0.53260727]\n",
        " [ 3.          0.          0.          0.78329513]\n",
        " [ 3.          0.          1.          0.78719718]\n",
        " [ 3.          0.          2.          0.9257478 ]\n",
        " [ 3.          1.          0.          0.52636082]\n",
        " [ 3.          1.          1.          0.59905183]\n",
        " [ 3.          1.          2.          0.60025693]\n",
        " [ 4.          0.          0.          0.71361369]\n",
        " [ 4.          0.          1.          0.70713646]\n",
        " [ 4.          0.          2.          0.61246838]\n",
        " [ 4.          1.          0.          0.57273053]\n",
        " [ 4.          1.          1.          0.51570919]\n",
        " [ 4.          1.          2.          0.58372621]\n",
        " [ 5.          0.          0.          0.99273245]\n",
        " [ 5.          0.          1.          0.98614329]\n",
        " [ 5.          0.          2.          0.90534871]\n",
        " [ 5.          1.          0.          0.70159775]\n",
        " [ 5.          1.          1.          0.70725846]\n",
        " [ 5.          1.          2.          0.77996149]]\n",
        "\n",
        "COPY\n",
        "(36, 4)\n",
        "[[ 0.          0.          0.          0.81310656]\n",
        " [ 0.          0.          1.          0.72087409]\n",
        " [ 0.          0.          2.          0.76529045]\n",
        " [ 0.          1.          0.          0.76749465]\n",
        " [ 0.          1.          1.          0.76181474]\n",
        " [ 0.          1.          2.          0.77493872]\n",
        " [ 1.          0.          0.          0.89197926]\n",
        " [ 1.          0.          1.          0.88636795]\n",
        " [ 1.          0.          2.          0.92970969]\n",
        " [ 1.          1.          0.          0.94158107]\n",
        " [ 1.          1.          1.          0.98754852]\n",
        " [ 1.          1.          2.          0.99760755]\n",
        " [ 2.          0.          0.          0.6227158 ]\n",
        " [ 2.          0.          1.          0.62866891]\n",
        " [ 2.          0.          2.          0.52317558]\n",
        " [ 2.          1.          0.          0.47897412]\n",
        " [ 2.          1.          1.          0.5441107 ]\n",
        " [ 2.          1.          2.          0.55303899]\n",
        " [ 3.          0.          0.          0.73387725]\n",
        " [ 3.          0.          1.          0.78026054]\n",
        " [ 3.          0.          2.          0.9290694 ]\n",
        " [ 3.          1.          0.          0.75616344]\n",
        " [ 3.          1.          1.          0.69978433]\n",
        " [ 3.          1.          2.          0.76624335]\n",
        " [ 4.          0.          0.          0.64653017]\n",
        " [ 4.          0.          1.          0.53311155]\n",
        " [ 4.          0.          2.          0.62825625]\n",
        " [ 4.          1.          0.          0.5897548 ]\n",
        " [ 4.          1.          1.          0.55966855]\n",
        " [ 4.          1.          2.          0.62271418]\n",
        " [ 5.          0.          0.          0.76759398]\n",
        " [ 5.          0.          1.          0.67861804]\n",
        " [ 5.          0.          2.          0.69382249]\n",
        " [ 5.          1.          0.          0.68494043]\n",
        " [ 5.          1.          1.          0.68802789]\n",
        " [ 5.          1.          2.          0.80862114]]\n"
       ]
      }
     ],
     "prompt_number": 4
    },
    {
     "cell_type": "code",
     "collapsed": false,
     "input": [
      "fileNames = path + 'resultsCOPX_Velo.txt'\n",
      "header = 'Subject\\tCondition\\tTrial\\tCol A\\tCol B\\tCol C'\n",
      "np.savetxt(fileNames, resultsX, #fmt='%d\\t%d\\t%d\\t%g\\t%g\\t%g',\n",
      "          delimiter='\\t', header = header, comments = '')\n",
      "print('File', fileNames, 'saved')"
     ],
     "language": "python",
     "metadata": {},
     "outputs": [
      {
       "output_type": "stream",
       "stream": "stdout",
       "text": [
        "File ./data_kistler/resultsCOPX_Velo.txt saved\n"
       ]
      }
     ],
     "prompt_number": 5
    },
    {
     "cell_type": "code",
     "collapsed": false,
     "input": [
      "resultsX[:, 3]"
     ],
     "language": "python",
     "metadata": {},
     "outputs": [
      {
       "metadata": {},
       "output_type": "pyout",
       "prompt_number": 6,
       "text": [
        "array([ 0.74792359,  0.69047142,  0.54163286,  0.61757918,  0.60539072,\n",
        "        0.68673383,  0.74770673,  0.67371059,  0.7692322 ,  0.53448203,\n",
        "        0.5459961 ,  0.61284672,  0.6240741 ,  0.78388278,  0.59190766,\n",
        "        0.44739335,  0.46652791,  0.53260727,  0.78329513,  0.78719718,\n",
        "        0.9257478 ,  0.52636082,  0.59905183,  0.60025693,  0.71361369,\n",
        "        0.70713646,  0.61246838,  0.57273053,  0.51570919,  0.58372621,\n",
        "        0.99273245,  0.98614329,  0.90534871,  0.70159775,  0.70725846,\n",
        "        0.77996149])"
       ]
      }
     ],
     "prompt_number": 6
    },
    {
     "cell_type": "code",
     "collapsed": false,
     "input": [
      "resultsY[:, 3]"
     ],
     "language": "python",
     "metadata": {},
     "outputs": [
      {
       "metadata": {},
       "output_type": "pyout",
       "prompt_number": 7,
       "text": [
        "array([ 0.81310656,  0.72087409,  0.76529045,  0.76749465,  0.76181474,\n",
        "        0.77493872,  0.89197926,  0.88636795,  0.92970969,  0.94158107,\n",
        "        0.98754852,  0.99760755,  0.6227158 ,  0.62866891,  0.52317558,\n",
        "        0.47897412,  0.5441107 ,  0.55303899,  0.73387725,  0.78026054,\n",
        "        0.9290694 ,  0.75616344,  0.69978433,  0.76624335,  0.64653017,\n",
        "        0.53311155,  0.62825625,  0.5897548 ,  0.55966855,  0.62271418,\n",
        "        0.76759398,  0.67861804,  0.69382249,  0.68494043,  0.68802789,\n",
        "        0.80862114])"
       ]
      }
     ],
     "prompt_number": 7
    },
    {
     "cell_type": "code",
     "collapsed": false,
     "input": [],
     "language": "python",
     "metadata": {},
     "outputs": []
    }
   ],
   "metadata": {}
  }
 ]
}