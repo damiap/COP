{
 "metadata": {
  "name": "",
  "signature": "sha256:dcbf4cfce06a5519279906f69fe89ccd50c0f4b9be71a53676afdb6de0098633"
 },
 "nbformat": 3,
 "nbformat_minor": 0,
 "worksheets": [
  {
   "cells": [
    {
     "cell_type": "code",
     "collapsed": false,
     "input": [
      "# Import the libraries\n",
      "from __future__ import division, print_function\n",
      "import numpy as np\n",
      "import matplotlib.pyplot as plt\n",
      "%matplotlib inline\n",
      "from IPython.display import HTML, display\n",
      "from scipy.signal import butter, lfilter, filtfilt, detrend"
     ],
     "language": "python",
     "metadata": {},
     "outputs": [],
     "prompt_number": 5
    },
    {
     "cell_type": "code",
     "collapsed": false,
     "input": [
      "# 2 conditions: open eyes (oe) and closed eyes (ce)\n",
      "# 4 participants\n",
      "# 1 task: quiet standing (qs)\n",
      "# 3 trials\n",
      "# time  = 40 s\n",
      "# freq= 100 Hz\n",
      "# freqNiquist = freq/2\n",
      "# lowpass 4th order\n",
      "\n",
      "# Definitions:\n",
      "group = ['adults (control)'] \n",
      "variables = ['Time (s)', 'Fx', 'Fy', 'Fz', 'Mx', 'My', 'Mz', 'COPx', 'COPy']\n",
      "task = ['qs'] \n",
      "subjects = ['da', 'dm', 'jo', 'kj']\n",
      "conditions = ['ce', 'oe']\n",
      "trials = ['1', '2', '3']\n",
      "extension = '.txt'\n",
      "\n",
      "# Time:\n",
      "time = 40;  # seconds\n",
      "\n",
      "# File directory:\n",
      "path = './force_plate_data/'\n",
      "\n",
      "# Filter Butterworth\n",
      "order = 4; # order filter\n",
      "freqCorte = 10; # Hz\n",
      "#freq = 100; # Hz"
     ],
     "language": "python",
     "metadata": {},
     "outputs": [],
     "prompt_number": 6
    },
    {
     "cell_type": "code",
     "collapsed": false,
     "input": [
      "for subject in subjects:\n",
      "    #fig, ax = plt.subplots(1, 2, sharex = True, squeeze = True, figsize = (5, 2.5)) \n",
      "    for c, condition in enumerate(conditions):\n",
      "        fileNames = path + task[0] + condition + subject + extension\n",
      "        try:\n",
      "            data = np.loadtxt(fileNames, skiprows = 1)\n",
      "            time, copx, copy = data[:, 0], data[:, 7], data[:, 8]\n",
      "            freq = np.mean(1/np.diff(time))\n",
      "            #copx = copx*100 # m to cm\n",
      "            #copy = copy*100\n",
      "            #b, a = butter(order, freqCorte/(freq/2), btype = 'low') \n",
      "            copx = linear_envelope(copx, freq, freqCorte) #linear_envelope of the signal: lowpass\n",
      "            copy = linear_envelope(copy, freq, freqCorte)\n",
      "            copx, copy = np.max(copx), np.max(copy)\n",
      "        except:\n",
      "            copx, copy = 10, 10  #freqCorte = 10 Hz\n",
      "            print('File ' + condition + subject + extension + ' does not exist.') \n",
      "         \n",
      "        copx, copy = 10, 10\n",
      "        \n",
      "        for t, trial in enumerate(trials):\n",
      "            fileNames = path + task[0] + condition + subject + trial + extension\n",
      "            time = COPx = COPy = np.array([])\n",
      "            try:\n",
      "                data = np.loadtxt(fileNames, skiprows = 1)               \n",
      "                if data.shape[1] == 2:\n",
      "                    time, COPx = data[:, 0], data[:, 7]\n",
      "                elif data.shape[1] == 3:\n",
      "                    time, COPx, COPy = data[:, 0], data[:, 7], data[:, 8]                      \n",
      "            except: \n",
      "                print('File ' + condition + subject + trial + extension + ' does not exist.')\n",
      "              \n",
      "            \n",
      "            freq = np.mean(1/np.diff(time))\n",
      "            b, a = butter(order, freqCorte/(freq/2), btype = 'low')\n",
      "            #copx = filtfilt(b, a, data[:, 7])\n",
      "            #copy = filtfilt(b, a, data[:, 8])\n",
      "            #copx = detrend(copx, type = 'constant')   \n",
      "            #copy = detrend(copy, type = 'constant')\n",
      "            \n",
      "            if len(COPx):\n",
      "                COPx = filtfilt(b, a, COPx)\n",
      "                COPx = detrend(COPx, type = 'constant')\n",
      "                ax[t, c].plot(time, COPx, color = [1, 0, 0, .5], label='COPx')\n",
      "            if len(COPy):\n",
      "                COPy = filtfilt(b, a, COPy)\n",
      "                COPy = detrend(COPy, type = 'constant')\n",
      "                ax[c, t].plot(time, COPy, color = [1, 0, 0, .5], label='COPy') \n",
      "                \n",
      "                              \n",
      "\n",
      "                       \n",
      "    \n",
      "    \n",
      "    "
     ],
     "language": "python",
     "metadata": {},
     "outputs": [
      {
       "output_type": "stream",
       "stream": "stdout",
       "text": [
        "File ceda.txt does not exist.\n",
        "File ceda1.txt does not exist.\n",
        "File ceda2.txt does not exist."
       ]
      },
      {
       "output_type": "stream",
       "stream": "stdout",
       "text": [
        "\n",
        "File ceda3.txt does not exist.\n",
        "File oeda.txt does not exist.\n",
        "File oeda1.txt does not exist.\n",
        "File oeda2.txt does not exist.\n",
        "File oeda3.txt does not exist.\n",
        "File cedm.txt does not exist."
       ]
      },
      {
       "output_type": "stream",
       "stream": "stdout",
       "text": [
        "\n",
        "File cedm1.txt does not exist.\n",
        "File cedm2.txt does not exist.\n",
        "File cedm3.txt does not exist.\n",
        "File oedm.txt does not exist.\n",
        "File oedm1.txt does not exist.\n",
        "File oedm2.txt does not exist.\n",
        "File oedm3.txt does not exist.\n",
        "File cejo.txt does not exist."
       ]
      },
      {
       "output_type": "stream",
       "stream": "stdout",
       "text": [
        "\n",
        "File cejo1.txt does not exist.\n",
        "File cejo2.txt does not exist.\n",
        "File cejo3.txt does not exist.\n",
        "File oejo.txt does not exist.\n",
        "File oejo1.txt does not exist.\n",
        "File oejo2.txt does not exist.\n",
        "File oejo3.txt does not exist.\n",
        "File cekj.txt does not exist."
       ]
      },
      {
       "output_type": "stream",
       "stream": "stdout",
       "text": [
        "\n",
        "File cekj1.txt does not exist.\n",
        "File cekj2.txt does not exist.\n",
        "File cekj3.txt does not exist.\n",
        "File oekj.txt does not exist.\n",
        "File oekj1.txt does not exist.\n",
        "File oekj2.txt does not exist.\n",
        "File oekj3.txt does not exist.\n"
       ]
      },
      {
       "output_type": "stream",
       "stream": "stderr",
       "text": [
        "C:\\Users\\Damiana\\Anaconda\\lib\\site-packages\\numpy\\core\\_methods.py:59: RuntimeWarning: Mean of empty slice.\n",
        "  warnings.warn(\"Mean of empty slice.\", RuntimeWarning)\n"
       ]
      },
      {
       "metadata": {},
       "output_type": "display_data",
       "png": "[encoded data removed]",
       "text": [
        "<matplotlib.figure.Figure at 0xcf40d10>"
       ]
      },
      {
       "metadata": {},
       "output_type": "display_data",
       "png": "[encoded data removed]",
       "text": [
        "<matplotlib.figure.Figure at 0xd0194f0>"
       ]
      },
      {
       "metadata": {},
       "output_type": "display_data",
       "png": "[encoded data removed]",
       "text": [
        "<matplotlib.figure.Figure at 0xd0194d0>"
       ]
      },
      {
       "metadata": {},
       "output_type": "display_data",
       "png": "[encoded data removed]",
       "text": [
        "<matplotlib.figure.Figure at 0xd123290>"
       ]
      }
     ],
     "prompt_number": 4
    },
    {
     "cell_type": "code",
     "collapsed": false,
     "input": [],
     "language": "python",
     "metadata": {},
     "outputs": [],
     "prompt_number": 40
    },
    {
     "cell_type": "code",
     "collapsed": false,
     "input": [],
     "language": "python",
     "metadata": {},
     "outputs": [],
     "prompt_number": 40
    },
    {
     "cell_type": "code",
     "collapsed": false,
     "input": [],
     "language": "python",
     "metadata": {},
     "outputs": []
    }
   ],
   "metadata": {}
  }
 ]
}