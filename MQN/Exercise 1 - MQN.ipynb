{
 "metadata": {
  "name": "",
  "signature": "sha256:c2dd96d5fc6d7645f10091785bba04299fd44ad88592caa52b8b64ca9ca9ee29"
 },
 "nbformat": 3,
 "nbformat_minor": 0,
 "worksheets": [
  {
   "cells": [
    {
     "cell_type": "heading",
     "level": 3,
     "metadata": {},
     "source": [
      "M\u00e9todos Quantitativos em Neuroci\u00eancia"
     ]
    },
    {
     "cell_type": "heading",
     "level": 3,
     "metadata": {},
     "source": [
      "Universidade Federal do ABC "
     ]
    },
    {
     "cell_type": "heading",
     "level": 3,
     "metadata": {},
     "source": [
      "Prof. Dr. Peter Maurice Erna Claessens"
     ]
    },
    {
     "cell_type": "heading",
     "level": 3,
     "metadata": {},
     "source": [
      "Exercise 1"
     ]
    },
    {
     "cell_type": "heading",
     "level": 3,
     "metadata": {},
     "source": [
      "November 26th, 2014"
     ]
    },
    {
     "cell_type": "heading",
     "level": 3,
     "metadata": {},
     "source": [
      "Damiana Aparecida dos Santos"
     ]
    },
    {
     "cell_type": "heading",
     "level": 4,
     "metadata": {},
     "source": [
      "Exercise 1 - Describe (very concisely) the goal and kind of data you are gathering for your research project(s). In case you suppose/test a causal connection, which are your independent and dependent variable(s)? Mention for each of them which type they are (qualitative, quantitative, ordinal, continuous, discrete, \u2026). What is your sample size? Have you already planned on how to analyze these data?"
     ]
    },
    {
     "cell_type": "markdown",
     "metadata": {},
     "source": [
      "O meu projeto de pesquisa tem como objetivo avaliar o equil\u00edbrio do corpo de pessoas idosas e jovens para criar um banco de dados aberto na internet. Para isto, ser\u00e3o implementadas avalia\u00e7\u00f5es qualitativas (por meio de testes cl\u00ednicos) e quantitativa (por meio da t\u00e9cnica de estabilografia) do equil\u00edbrio do corpo. \n",
      "\n",
      "A t\u00e9cnica de estabilografia \u00e9 tipicamente utilizada em ambientes laboratorias para quantificar o deslocamento do centro de press\u00e3o (COP) atrav\u00e9s de uma plataforma de for\u00e7a. \n",
      "Para obter os dados do COP, os sujeitos ser\u00e3o instru\u00eddos a ficarem o mais parado poss\u00edvel, postura ereta quieta, sobre a plataforma de for\u00e7a e desempenhar\u00e3o esta tarefa em diferentes condi\u00e7\u00f5es visuais (olhos abertos e fechados) e da base de apoio (superf\u00edcie firme e macia) em um tempo de 60 s, para cada condi\u00e7\u00e3o visual e da base de apoio. \n",
      "\n",
      "A amostra ser\u00e1 de 200 sujeitos (100 idosos e 100 jovens) e ser\u00e3o realizadas 3 tentativas para cada condi\u00e7\u00e3o (visual e base de apoio), totalizando um total de 12 tentativas para cada indiv\u00edduo.\n",
      "Os dados do COP ser\u00e3o adquiridos em uma frequ\u00eancia de amostragem de 100 Hz e ser\u00e3o analisados por meio das principais t\u00e9cnicas de an\u00e1lises de estabilografia, como m\u00e9dia, desvio padr\u00e3o, raiz quadr\u00e1tica da m\u00e9dia, velocidade, \u00e1rea e frequ\u00eancia do COP.\n",
      "\n",
      "Dessa forma, pode-se considerar as seguintes vari\u00e1veis independentes e dependentes:\n",
      "- Vari\u00e1veis independentes: sujeitos,  condi\u00e7\u00f5es (visual e base de apoio), tentativas, tarefa, tempo, frequ\u00eancia de amostragem, COP.\n",
      "- Vari\u00e1veis dependentes: m\u00e9dia, desvio padr\u00e3o, raiz quadr\u00e1tica da m\u00e9dia, velocidade, \u00e1rea e frequ\u00eancia do COP.\n",
      "\n",
      "Pode-se dizer que todas vari\u00e1veis dependentes e o COP (vari\u00e1vel independente) s\u00e3o quantitativas do tipo cont\u00ednuas, enquanto as seguintes vari\u00e1veis independentes sujeitos (considerando a quantidade), tentativas, tempo (neste caso) e frequ\u00eancia de amostragem s\u00e3o quantitativas do tipo discretas. As outras vari\u00e1veis independentes como as condi\u00e7\u00f5es e a tarefa s\u00e3o qualitativas do tipo nominais.\n",
      "\n",
      "Pretende-se que as an\u00e1lises desses dados sejam realizadas por meio de programas de computadores livres e gratuitos, como por exemplo o Python ou o R studio.\n",
      "\n",
      "\n",
      "\n",
      "\n"
     ]
    },
    {
     "cell_type": "heading",
     "level": 4,
     "metadata": {},
     "source": [
      "Exercise 2 - Imagine you are measuring the number of times a group of subjects tried to accomplish a demanding task before giving up. "
     ]
    },
    {
     "cell_type": "heading",
     "level": 4,
     "metadata": {},
     "source": [
      "a.\tWhich kind of variable is this? Qualitative, quantitative, ordinal, continuous, discrete, \u2026?"
     ]
    },
    {
     "cell_type": "markdown",
     "metadata": {},
     "source": [
      "A tarefa e o grupo de sujeitos s\u00e3o vari\u00e1veis independentes, enquanto o n\u00famero de vezes que o grupo de sujeitos tentaram realiz\u00e1-la \u00e9 uma variavel dependente.\n",
      "\n",
      "As vari\u00e1veis independentes s\u00e3o qualitativas do tipo nominal.\n",
      "\n",
      "A vari\u00e1vel dependente (n\u00famero de vezes) \u00e9 quantitativa do tipo discreta."
     ]
    },
    {
     "cell_type": "heading",
     "level": 4,
     "metadata": {},
     "source": [
      "b.\tThe numbers you found, for 10 subjects, are as follows: 5 3 4 7 1 2 3 3 6 4. Create a table with frequencies, cumulative frequencies, proportions, and cumulative proportions."
     ]
    },
    {
     "cell_type": "markdown",
     "metadata": {},
     "source": []
    },
    {
     "cell_type": "heading",
     "level": 4,
     "metadata": {},
     "source": [
      "c.\tSketch, on a paper, the four corresponding graphs."
     ]
    },
    {
     "cell_type": "markdown",
     "metadata": {},
     "source": []
    },
    {
     "cell_type": "heading",
     "level": 4,
     "metadata": {},
     "source": [
      "d.\tDetermine the mean and standard deviation of these data, using the frequency table. Use an electronic calculator (no R or spreadsheets at this point). Write or type (part of) your calculation below. "
     ]
    },
    {
     "cell_type": "markdown",
     "metadata": {},
     "source": []
    },
    {
     "cell_type": "heading",
     "level": 4,
     "metadata": {},
     "source": [
      "e.\tDetermine first quartile, median, and third quantile 'by hand'."
     ]
    },
    {
     "cell_type": "markdown",
     "metadata": {},
     "source": []
    },
    {
     "cell_type": "heading",
     "level": 4,
     "metadata": {},
     "source": [
      "f.Write below the R code to get answers to d and e. Are all answers as you expected?"
     ]
    },
    {
     "cell_type": "markdown",
     "metadata": {},
     "source": []
    },
    {
     "cell_type": "markdown",
     "metadata": {},
     "source": []
    }
   ],
   "metadata": {}
  }
 ]
}