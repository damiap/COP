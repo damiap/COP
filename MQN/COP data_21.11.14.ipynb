{
 "metadata": {
  "name": "",
  "signature": "sha256:f1d7ffffdd7fb9d17c1238f2225043847a5bc850f91349ec814c73d22b25a73f"
 },
 "nbformat": 3,
 "nbformat_minor": 0,
 "worksheets": [
  {
   "cells": [
    {
     "cell_type": "code",
     "collapsed": false,
     "input": [
      "# Import the libraries\n",
      "from __future__ import division, print_function\n",
      "import numpy as np\n",
      "import matplotlib.pyplot as plt\n",
      "%matplotlib inline\n",
      "from IPython.display import HTML, display\n",
      "from scipy.signal import butter, lfilter, filtfilt, detrend\n",
      "import pandas as pd "
     ],
     "language": "python",
     "metadata": {},
     "outputs": [],
     "prompt_number": 13
    },
    {
     "cell_type": "code",
     "collapsed": false,
     "input": [
      "# 2 conditions: open eyes (oe) and closed eyes (ce)\n",
      "# 4 participants\n",
      "# 1 task: quiet standing (qs)\n",
      "# 3 trials\n",
      "# time  = 40 s\n",
      "# freq= 100 Hz\n",
      "# freqNiquist = freq/2\n",
      "# lowpass 4th order\n",
      "\n",
      "# Definitions:\n",
      "group = ['adults (control)'] \n",
      "variables = ['Time (s)', 'Fx', 'Fy', 'Fz', 'Mx', 'My', 'Mz', 'COPx', 'COPy']\n",
      "task = ['qs'] \n",
      "subjects = ['da', 'dm', 'jo', 'kj']\n",
      "conditions = ['ce', 'oe']\n",
      "trials = ['1', '2', '3']\n",
      "extension = '.txt'\n",
      "\n",
      "# Time:\n",
      "time = 40;  # seconds\n",
      "\n",
      "# File directory:\n",
      "path = './force_plate_data/'\n",
      "\n",
      "# Filter Butterworth\n",
      "order = 4; # order filter\n",
      "freqCorte = 10; # Hz\n",
      "freq = 100; # Hz"
     ],
     "language": "python",
     "metadata": {},
     "outputs": [],
     "prompt_number": 14
    },
    {
     "cell_type": "code",
     "collapsed": false,
     "input": [
      "#COPx = np.zeros((3*freq, len(conditions), len(trials), len(subjects), 2)) * np.NaN\n",
      "#COPy = np.zeros((3*freq, len(conditions), len(trials), len(subjects), 2)) * np.NaN\n",
      "\n",
      "for subject in subjects:\n",
      "    #fig, ax = plt.subplots(2, 3, sharex = True, squeeze = True, figsize = (10, 5)) \n",
      "    for c, condition in enumerate(conditions):\n",
      "        fileNames = path + task[0] + condition + subject + extension\n",
      "        try:\n",
      "            data = np.loadtxt(fileNames, skiprows = 1)\n",
      "            time, copx, copy = data[:, 0], data[:, 7], data[:, 8]\n",
      "            #freq = np.mean(1/np.diff(time))\n",
      "            #copx = copx*100 # m to cm\n",
      "            #copy = copy*100\n",
      "            #copx, copy = np.max(copx), np.max(copy)\n",
      "        except:\n",
      "            #copx, copy = 1, 1\n",
      "            pass\n",
      "            #print('File ' + condition + subject + extension + ' does not exist.') \n",
      "         \n",
      "        #copx, copy = 1, 1\n",
      "        \n",
      "        for t, trial in enumerate(trials):\n",
      "            fileNames = path + task[0] + condition + subject + trial + extension\n",
      "            time = COPx = COPy = np.array([])\n",
      "            try:\n",
      "                data = np.loadtxt(fileNames, skiprows = 1)               \n",
      "                if data.shape[1] == 2:\n",
      "                    time, COPx = data[:, 0], data[:, 7]\n",
      "                elif data.shape[1] == 3:\n",
      "                    time, COPx, COPy = data[:, 0], data[:, 7], data[:, 8]                      \n",
      "            except: \n",
      "                pass\n",
      "               # print('File ' + condition + subject + trial + extension + ' does not exist.')\n",
      "              \n",
      "            #data = np.loadtxt(fileNames, skiprows = 1)\n",
      "            freq = np.mean(1/np.diff(time))\n",
      "            b, a = butter(order, freqCorte/(freq/2), btype = 'low')\n",
      "            #copx = filtfilt(b, a, data[:, 7])\n",
      "            #copy = filtfilt(b, a, data[:, 8])\n",
      "            #copx = detrend(copx, type = 'constant')   \n",
      "            #copy = detrend(copy, type = 'constant')\n",
      "            \n",
      "            if len(COPx):\n",
      "                COPx = filtfilt(b, a, data[:, 7])\n",
      "                COPx = detrend(COPx, type = 'constant')\n",
      "                #ax[c, t].plot(time, COPx, color = [1, 0, 0, .5], label='COPx')\n",
      "            if len(COPy):\n",
      "                COPy = filtfilt(b, a, data[:, 8])\n",
      "                COPy = detrend(COPy, type = 'constant')\n",
      "               # ax[c, t].plot(time, COPy, color = [1, 0, 0, .5], label='COPy')\n",
      "                \n",
      "            meancopx = np.mean(COPx) \n",
      "            meancopy = np.mean(COPy)      \n",
      "            \n",
      "            sdcopx = np.std(COPx)  # standard deviation\n",
      "            sdcopy = np.std(COPy)\n",
      "            \n",
      "            #rmscopx = np.sqrt(np.mean(copx**2)) # root-mean square\n",
      "            #rmscopy = np.sqrt(np.mean(copy**2))\n",
      "            \n",
      "            #rangecopx = np.max(copx) - np.min(copx)\n",
      "            #rangecopy = np.max(copy) - np.min(copy)# range (maximum - minimum)\n",
      "            \n",
      "            #tpathcopx = np.sum(np.abs(np.diff(copx))) # total path (length of the COP displacement)\n",
      "            #tpathcopy = np.sum(np.abs(np.diff(copy)))\n",
      "            \n",
      "            #velcopx = np.sum(np.abs(np.diff(copx))) / time\n",
      "            #velcopy = np.sum(np.abs(np.diff(copy))) / time\n",
      "    \n",
      "            #velr = np.sum(np.sqrt(np.diff(copx)**2 + np.diff(copy)**2))/time\n",
      "    \n",
      "            unit = 'cm'\n",
      "            print('Measurements of spatial variability')\n",
      "            print('{0:12} {1:^16}'.format('Variable', 'Direction'))\n",
      "            print('{0:12} {1:^8} {2:^5}'.format('', 'ml', 'ap'))\n",
      "            print('{0:12} {1:>6.4f} {2:>6.4f} {3:>3} '.format('Mean:', meancopy, meancopx, unit)) \n",
      "            print('{0:12} {1:>6.4f} {2:>6.4f} {3:>3}'.format('SD:', sdcopy, sdcopx, unit))\n",
      "            #print('{0:12} {1:>6.4f} {2:>6.4f} {3:>3}'.format('RMS:', rmscopy, rmscopx, unit))\n",
      "            #print('{0:12} {1:>6.4f} {2:>6.4f} {3:>3}'.format('Range:', rangecopy, rangecopx, unit))\n",
      "            #print('{0:12} {1:>6.4f} {2:>6.4f} {3:>3}'.format('Total path:', tpathcopy, tpathcopx, unit))\n",
      "            #print('{0:15} {1:^16}'.format('Variable', 'Direction'))\n",
      "            #print('{0:15} {1:^8} {2:^5}'.format('', 'ap', 'ml'))\n",
      "            #print('{0:15} {1:>6.4f} {2:>6.4f} {3:>5}'.format('Mean velocity:', velCopy, velCopx, unit+'/s'))\n",
      "            #print('')\n",
      "            #print('{0:22}  {1:>6.2f} {2:>5}'.format('Mean velocity resultant:', velr, unit+'/s'))                    \n",
      "\n",
      "        \n",
      "\n",
      "   # ax[0, 0].set_title('Trial 1')\n",
      "    #ax[0, 1].set_title('Trial 2')\n",
      "    #ax[0, 2].set_title('Trial 3')\n",
      "    #ax[0, 0].set_xlabel('Time [s]', fontsize=10)\n",
      "    #ax[0, 1].set_xlabel('Time [s]', fontsize=10)    \n",
      "    #ax[0, 2].set_xlabel('Time [s]', fontsize=10)\n",
      "    #fig.suptitle('subject ' + subject + ': sway body', fontsize=14)\n",
      "    #fig.subplots_adjust(hspace=0.25)\n",
      "    #plt.show()\n"
     ],
     "language": "python",
     "metadata": {},
     "outputs": [
      {
       "output_type": "stream",
       "stream": "stdout",
       "text": [
        "Measurements of spatial variability\n",
        "Variable        Direction    \n",
        "                ml     ap  \n",
        "Mean:           nan    nan  cm \n",
        "SD:             nan    nan  cm\n",
        "Measurements of spatial variability\n",
        "Variable        Direction    \n",
        "                ml     ap  \n",
        "Mean:           nan    nan  cm \n",
        "SD:             nan    nan  cm\n",
        "Measurements of spatial variability\n",
        "Variable        Direction    \n",
        "                ml     ap  \n",
        "Mean:           nan    nan  cm \n",
        "SD:             nan    nan  cm\n",
        "Measurements of spatial variability\n",
        "Variable        Direction    \n",
        "                ml     ap  \n",
        "Mean:           nan    nan  cm \n",
        "SD:             nan    nan  cm\n",
        "Measurements of spatial variability\n",
        "Variable        Direction    \n",
        "                ml     ap  \n",
        "Mean:           nan    nan  cm \n",
        "SD:             nan    nan  cm\n",
        "Measurements of spatial variability\n",
        "Variable        Direction    \n",
        "                ml     ap  \n",
        "Mean:           nan    nan  cm \n",
        "SD:             nan    nan  cm\n",
        "Measurements of spatial variability\n",
        "Variable        Direction    \n",
        "                ml     ap  \n",
        "Mean:           nan    nan  cm \n",
        "SD:             nan    nan  cm\n",
        "Measurements of spatial variability\n",
        "Variable        Direction    \n",
        "                ml     ap  \n",
        "Mean:           nan    nan  cm \n",
        "SD:             nan    nan  cm\n",
        "Measurements of spatial variability\n",
        "Variable        Direction    \n",
        "                ml     ap  \n",
        "Mean:           nan    nan  cm \n",
        "SD:             nan    nan  cm\n",
        "Measurements of spatial variability\n",
        "Variable        Direction    \n",
        "                ml     ap  \n",
        "Mean:           nan    nan  cm \n",
        "SD:             nan    nan  cm\n",
        "Measurements of spatial variability\n",
        "Variable        Direction    \n",
        "                ml     ap  \n",
        "Mean:           nan    nan  cm \n",
        "SD:             nan    nan  cm\n",
        "Measurements of spatial variability\n",
        "Variable        Direction    \n",
        "                ml     ap  \n",
        "Mean:           nan    nan  cm \n",
        "SD:             nan    nan  cm\n",
        "Measurements of spatial variability\n",
        "Variable        Direction    \n",
        "                ml     ap  \n",
        "Mean:           nan    nan  cm \n",
        "SD:             nan    nan  cm\n",
        "Measurements of spatial variability\n",
        "Variable        Direction    \n",
        "                ml     ap  \n",
        "Mean:           nan    nan  cm \n",
        "SD:             nan    nan  cm\n",
        "Measurements of spatial variability\n",
        "Variable        Direction    \n",
        "                ml     ap  \n",
        "Mean:           nan    nan  cm \n",
        "SD:             nan    nan  cm\n",
        "Measurements of spatial variability\n",
        "Variable        Direction    \n",
        "                ml     ap  \n",
        "Mean:           nan    nan  cm \n",
        "SD:             nan    nan  cm\n",
        "Measurements of spatial variability\n",
        "Variable        Direction    \n",
        "                ml     ap  \n",
        "Mean:           nan    nan  cm \n",
        "SD:             nan    nan  cm\n",
        "Measurements of spatial variability\n",
        "Variable        Direction    \n",
        "                ml     ap  \n",
        "Mean:           nan    nan  cm \n",
        "SD:             nan    nan  cm\n",
        "Measurements of spatial variability\n",
        "Variable        Direction    \n",
        "                ml     ap  \n",
        "Mean:           nan    nan  cm \n",
        "SD:             nan    nan  cm\n",
        "Measurements of spatial variability\n",
        "Variable        Direction    \n",
        "                ml     ap  \n",
        "Mean:           nan    nan  cm \n",
        "SD:             nan    nan  cm\n",
        "Measurements of spatial variability\n",
        "Variable        Direction    \n",
        "                ml     ap  \n",
        "Mean:           nan    nan  cm \n",
        "SD:             nan    nan  cm\n",
        "Measurements of spatial variability\n",
        "Variable        Direction    \n",
        "                ml     ap  \n",
        "Mean:           nan    nan  cm \n",
        "SD:             nan    nan  cm\n",
        "Measurements of spatial variability\n",
        "Variable        Direction    \n",
        "                ml     ap  \n",
        "Mean:           nan    nan  cm \n",
        "SD:             nan    nan  cm\n",
        "Measurements of spatial variability\n",
        "Variable        Direction    \n",
        "                ml     ap  \n",
        "Mean:           nan    nan  cm \n",
        "SD:             nan    nan  cm\n"
       ]
      }
     ],
     "prompt_number": 16
    },
    {
     "cell_type": "code",
     "collapsed": false,
     "input": [
      "import matplotlib.gridspec as gridspec\n",
      "\n",
      "for subject in subjects:\n",
      "    fig, ax = plt.subplots(2, 3, sharex = True, squeeze = True, figsize = (10, 5)) \n",
      "    for c, condition in enumerate(conditions):\n",
      "        fileNames = path + task[0] + condition + subject + extension\n",
      "        try:\n",
      "            data = np.loadtxt(fileNames, skiprows = 1)\n",
      "            time, copx, copy = data[:, 0], data[:, 7], data[:, 8]\n",
      "            freq = np.mean(1/np.diff(time))\n",
      "            #copx = copx*100 # m to cm\n",
      "            #copy = copy*100\n",
      "            #copx, copy = np.max(copx), np.max(copy)\n",
      "        except:\n",
      "            #copx, copy = 1, 1\n",
      "            print('File ' + condition + subject + extension + ' does not exist.') \n",
      "         \n",
      "        #copx, copy = 1, 1\n",
      "        \n",
      "        for t, trial in enumerate(trials):\n",
      "            fileNames = path + task[0] + condition + subject + trial + extension\n",
      "            time = COPx = COPy = np.array([])\n",
      "            try:\n",
      "                data = np.loadtxt(fileNames, skiprows = 1)               \n",
      "                if data.shape[1] == 2:\n",
      "                    time, COPx = data[:, 0], data[:, 7]\n",
      "                elif data.shape[1] == 3:\n",
      "                    time, COPx, COPy = data[:, 0], data[:, 7], data[:, 8]                      \n",
      "            except: \n",
      "                print('File ' + condition + subject + trial + extension + ' does not exist.')\n",
      "              \n",
      "            data = np.loadtxt(fileNames, skiprows = 1)\n",
      "            freq = np.mean(1/np.diff(time))\n",
      "            b, a = butter(order, freqCorte/(freq/2), btype = 'low')\n",
      "            #copx = filtfilt(b, a, data[:, 7])\n",
      "            #copy = filtfilt(b, a, data[:, 8])\n",
      "            #copx = detrend(copx, type = 'constant')   \n",
      "            #copy = detrend(copy, type = 'constant')\n",
      "            \n",
      "            if len(COPx):\n",
      "                COPx = filtfilt(b, a, data[:, 7])\n",
      "                COPx = detrend(COPx, type = 'constant')\n",
      "                ax[c, t].plot(time, COPx, color = [1, 0, 0, .5], label='COPx')\n",
      "            if len(COPy):\n",
      "                COPy = filtfilt(b, a, data[:, 8])\n",
      "                COPy = detrend(COPy, type = 'constant')\n",
      "                ax[c, t].plot(time, COPy, color = [1, 0, 0, .5], label='COPy')\n",
      "                \n",
      "    ax[0, 0].set_title('Trial 1', fontsize=10)\n",
      "    ax[0, 1].set_title('Trial 2', fontsize=10)\n",
      "    ax[0, 2].set_title('Trial 3', fontsize=10)\n",
      "    ax[0, 0].set_xlabel('Time [s]', fontsize=10)\n",
      "    ax[0, 1].set_xlabel('Time [s]', fontsize=10)    \n",
      "    ax[0, 2].set_xlabel('Time [s]', fontsize=10)\n",
      "    fig.suptitle('subject ' + subject + ': sway body', fontsize=14)\n",
      "    fig.subplots_adjust(hspace=0.25)\n",
      "    plt.show()\n",
      "                \n",
      "                \n",
      "t = np.linspace(0, copx/freq, copy)\n",
      "plt.rc('axes', labelsize=16,  titlesize=16)\n",
      "plt.rc('xtick', labelsize=12)\n",
      "plt.rc('ytick', labelsize=12)\n",
      "plt.figure(figsize=(10, 4))\n",
      "gs = gridspec.GridSpec(1, 2, width_ratios=[2, 1]) \n",
      "ax1 = plt.subplot(gs[0])\n",
      "ax1.plot(t, copy, lw=2, color=[0, 0, 1, 1], label='ap')\n",
      "ax1.plot(t, copx, lw=2, color=[1, 0, 0, 1], label='ml')\n",
      "ax1.set_xlim([t[0], t[-1]])\n",
      "ax1.grid()\n",
      "ax1.locator_params(axis='both', nbins=5)\n",
      "ax1.set_xlabel('Time [s]')\n",
      "ax1.set_ylabel('COP [%s]' )\n",
      "ax1.set_title('Stabilogram')\n",
      "ax2 = plt.subplot(gs[1])\n",
      "ax2.plot(copx, copy, lw=2, color='g')\n",
      "ax2.set_xlabel('COP ml [%s]' )\n",
      "ax2.set_ylabel('COP ap [%s]' )\n",
      "ax2.set_title('Statokinesigram')\n",
      "if 0:  # plot the axes with the same colors of the COP data\n",
      "    ax2.xaxis.label.set_color('red')\n",
      "    ax2.spines['bottom'].set_color('red')\n",
      "    ax2.tick_params(axis='x', colors='red')\n",
      "    ax2.yaxis.label.set_color('blue')\n",
      "    ax2.spines['left'].set_color('blue')\n",
      "    ax2.tick_params(axis='y', colors='blue')\n",
      "    ax2.grid()\n",
      "    ax2.locator_params(axis='both', nbins=5)\n",
      "\n",
      "    plt.tight_layout()\n",
      "    plt.show()\n",
      "    \n",
      "\n",
      "   "
     ],
     "language": "python",
     "metadata": {},
     "outputs": [
      {
       "output_type": "stream",
       "stream": "stdout",
       "text": [
        "File ceda.txt does not exist.\n",
        "File oeda.txt does not exist."
       ]
      },
      {
       "output_type": "stream",
       "stream": "stdout",
       "text": [
        "\n"
       ]
      },
      {
       "metadata": {},
       "output_type": "display_data",
       "png": "[encoded data removed]",
       "text": [
        "<matplotlib.figure.Figure at 0xee51810>"
       ]
      },
      {
       "output_type": "stream",
       "stream": "stdout",
       "text": [
        "File cedm.txt does not exist.\n",
        "File oedm.txt does not exist."
       ]
      },
      {
       "output_type": "stream",
       "stream": "stdout",
       "text": [
        "\n"
       ]
      },
      {
       "metadata": {},
       "output_type": "display_data",
       "png": "[encoded data removed]",
       "text": [
        "<matplotlib.figure.Figure at 0xd2af450>"
       ]
      },
      {
       "output_type": "stream",
       "stream": "stdout",
       "text": [
        "File cejo.txt does not exist.\n",
        "File oejo.txt does not exist."
       ]
      },
      {
       "output_type": "stream",
       "stream": "stdout",
       "text": [
        "\n"
       ]
      },
      {
       "metadata": {},
       "output_type": "display_data",
       "png": "[encoded data removed]",
       "text": [
        "<matplotlib.figure.Figure at 0xef1f390>"
       ]
      },
      {
       "output_type": "stream",
       "stream": "stdout",
       "text": [
        "File cekj.txt does not exist.\n",
        "File oekj.txt does not exist."
       ]
      },
      {
       "output_type": "stream",
       "stream": "stdout",
       "text": [
        "\n"
       ]
      },
      {
       "metadata": {},
       "output_type": "display_data",
       "png": "[encoded data removed]",
       "text": [
        "<matplotlib.figure.Figure at 0xed18c10>"
       ]
      },
      {
       "ename": "NameError",
       "evalue": "name 'copx' is not defined",
       "output_type": "pyerr",
       "traceback": [
        "\u001b[1;31m---------------------------------------------------------------------------\u001b[0m\n\u001b[1;31mNameError\u001b[0m                                 Traceback (most recent call last)",
        "\u001b[1;32m<ipython-input-6-906f52437c6a>\u001b[0m in \u001b[0;36m<module>\u001b[1;34m()\u001b[0m\n\u001b[0;32m     58\u001b[0m \u001b[1;33m\u001b[0m\u001b[0m\n\u001b[0;32m     59\u001b[0m \u001b[1;33m\u001b[0m\u001b[0m\n\u001b[1;32m---> 60\u001b[1;33m \u001b[0mt\u001b[0m \u001b[1;33m=\u001b[0m \u001b[0mnp\u001b[0m\u001b[1;33m.\u001b[0m\u001b[0mlinspace\u001b[0m\u001b[1;33m(\u001b[0m\u001b[1;36m0\u001b[0m\u001b[1;33m,\u001b[0m \u001b[0mcopx\u001b[0m\u001b[1;33m/\u001b[0m\u001b[0mfreq\u001b[0m\u001b[1;33m,\u001b[0m \u001b[0mcopy\u001b[0m\u001b[1;33m)\u001b[0m\u001b[1;33m\u001b[0m\u001b[0m\n\u001b[0m\u001b[0;32m     61\u001b[0m \u001b[0mplt\u001b[0m\u001b[1;33m.\u001b[0m\u001b[0mrc\u001b[0m\u001b[1;33m(\u001b[0m\u001b[1;34m'axes'\u001b[0m\u001b[1;33m,\u001b[0m \u001b[0mlabelsize\u001b[0m\u001b[1;33m=\u001b[0m\u001b[1;36m16\u001b[0m\u001b[1;33m,\u001b[0m  \u001b[0mtitlesize\u001b[0m\u001b[1;33m=\u001b[0m\u001b[1;36m16\u001b[0m\u001b[1;33m)\u001b[0m\u001b[1;33m\u001b[0m\u001b[0m\n\u001b[0;32m     62\u001b[0m \u001b[0mplt\u001b[0m\u001b[1;33m.\u001b[0m\u001b[0mrc\u001b[0m\u001b[1;33m(\u001b[0m\u001b[1;34m'xtick'\u001b[0m\u001b[1;33m,\u001b[0m \u001b[0mlabelsize\u001b[0m\u001b[1;33m=\u001b[0m\u001b[1;36m12\u001b[0m\u001b[1;33m)\u001b[0m\u001b[1;33m\u001b[0m\u001b[0m\n",
        "\u001b[1;31mNameError\u001b[0m: name 'copx' is not defined"
       ]
      }
     ],
     "prompt_number": 6
    },
    {
     "cell_type": "code",
     "collapsed": false,
     "input": [],
     "language": "python",
     "metadata": {},
     "outputs": [],
     "prompt_number": 55
    },
    {
     "cell_type": "code",
     "collapsed": false,
     "input": [],
     "language": "python",
     "metadata": {},
     "outputs": [],
     "prompt_number": 56
    },
    {
     "cell_type": "code",
     "collapsed": false,
     "input": [
      "for subject in subjects:\n",
      "    fig, ax = plt.subplots(2, 3, sharex = True, squeeze = True, figsize = (10, 5)) \n",
      "    for c, condition in enumerate(conditions):\n",
      "        fileNames = path + task + '/' + condition + subject + extension\n",
      "        try:\n",
      "            data = np.loadtxt(fileNames, skiprows = 1)\n",
      "            time, copx, copy = data[:, 0], data[:, 7], data[:, 8]\n",
      "            freq = np.mean(1/np.diff(time))\n",
      "            copx = copx*100 # m to cm\n",
      "            copy = copy*100\n",
      "            copx, COPy = np.max(copx), np.max(copy)\n",
      "        except:\n",
      "            copx, copy = 1, 1\n",
      "            print('file' + condition + subject + trial + extension + 'does not exist.')\n",
      "          \n",
      "        copx, copy = 1, 1\n",
      "        \n",
      "        for t, trial in enumerate(trials):\n",
      "            \"\"\"\n",
      "            fileNames = path + task + '/' + condition + subject + trial + extension\n",
      "            time = COPx = COPy = np.array([])\n",
      "            try:\n",
      "                data = np.loadtxt(fileNames, skiprows = 1, unpack=False)               \n",
      "                if data.shape[1] == 2:\n",
      "                    time, COPx = data[:, 0], data[:, 7]\n",
      "                elif data.shape[1] == 3:\n",
      "                    time, COPx, COPy = data[:, 0], data[:, 7], data[:, 8]                      \n",
      "            except:\n",
      "                #pass\n",
      "                print('file' + condition + subject + trial + extension + 'does not exist.')\n",
      "            \"\"\"    \n",
      "            \n",
      "            #freq = np.mean(1/np.diff(time))\n",
      "            b, a = butter(order, freqCorte/(freq/2), btype = 'lowpass')\n",
      "            \n",
      "            if len(COPx):\n",
      "                COPx = filtfilt(b, a, COPx) / copx\n",
      "                ax[t, c].plot(time, COPx, color = [1, 0, 0, .5], label='COPx')\n",
      "            if len(COPy):    \n",
      "                COPy = filtfilt(b, a, COPy) / copy\n",
      "                ax[t, c].plot(time, COPy, color = [0, 0, 1, .5], label='COPy')\n",
      "                for (indi, indf) in inds:\n",
      "                    ax[t, c].plot(np.array([time[indi], time[indi]]), ax[s, i].set_ylim(), 'g')\n",
      "                    ax[t, c].plot(np.array([time[indf], time[indf]]), ax[s, i].set_ylim(), 'g')\n",
      "            \n",
      "            ax[t, c].locator_params(axis = 'y', tight=True, nbins = 4)\n",
      "            ax[t, c].set_xlim((0, 10))\n",
      "            ax[t, 0].set_ylabel(speed, fontsize=14)\n",
      "            \n",
      "    if len(COPy):\n",
      "        ax[0, 0].legend(loc=1, framealpha=.5, title='Muscles')\n",
      "        ax[0, 1].legend(loc=1, framealpha=.5, title='Muscles')\n",
      "    ax[0, 0].set_title('PRE')\n",
      "    ax[0, 1].set_title('POST')\n",
      "    ax[6, 0].set_xlabel('Time [s]', fontsize=14)\n",
      "    ax[6, 1].set_xlabel('Time [s]', fontsize=14)\n",
      "    fig.suptitle('Subject ' + subject + ': muscle activation', fontsize=18)\n",
      "    fig.subplots_adjust(hspace=0)\n",
      "    plt.show()\n",
      "    "
     ],
     "language": "python",
     "metadata": {},
     "outputs": [
      {
       "ename": "TypeError",
       "evalue": "object of type 'int' has no len()",
       "output_type": "pyerr",
       "traceback": [
        "\u001b[1;31m---------------------------------------------------------------------------\u001b[0m\n\u001b[1;31mTypeError\u001b[0m                                 Traceback (most recent call last)",
        "\u001b[1;32m<ipython-input-70-9e2f12bf695e>\u001b[0m in \u001b[0;36m<module>\u001b[1;34m()\u001b[0m\n\u001b[0;32m     35\u001b[0m             \u001b[0mb\u001b[0m\u001b[1;33m,\u001b[0m \u001b[0ma\u001b[0m \u001b[1;33m=\u001b[0m \u001b[0mbutter\u001b[0m\u001b[1;33m(\u001b[0m\u001b[0morder\u001b[0m\u001b[1;33m,\u001b[0m \u001b[0mfreqCorte\u001b[0m\u001b[1;33m/\u001b[0m\u001b[1;33m(\u001b[0m\u001b[0mfreq\u001b[0m\u001b[1;33m/\u001b[0m\u001b[1;36m2\u001b[0m\u001b[1;33m)\u001b[0m\u001b[1;33m,\u001b[0m \u001b[0mbtype\u001b[0m \u001b[1;33m=\u001b[0m \u001b[1;34m'lowpass'\u001b[0m\u001b[1;33m)\u001b[0m\u001b[1;33m\u001b[0m\u001b[0m\n\u001b[0;32m     36\u001b[0m \u001b[1;33m\u001b[0m\u001b[0m\n\u001b[1;32m---> 37\u001b[1;33m             \u001b[1;32mif\u001b[0m \u001b[0mlen\u001b[0m\u001b[1;33m(\u001b[0m\u001b[0mCOPx\u001b[0m\u001b[1;33m)\u001b[0m\u001b[1;33m:\u001b[0m\u001b[1;33m\u001b[0m\u001b[0m\n\u001b[0m\u001b[0;32m     38\u001b[0m                 \u001b[0mCOPx\u001b[0m \u001b[1;33m=\u001b[0m \u001b[0mfiltfilt\u001b[0m\u001b[1;33m(\u001b[0m\u001b[0mb\u001b[0m\u001b[1;33m,\u001b[0m \u001b[0ma\u001b[0m\u001b[1;33m,\u001b[0m \u001b[0mCOPx\u001b[0m\u001b[1;33m)\u001b[0m \u001b[1;33m/\u001b[0m \u001b[0mcopx\u001b[0m\u001b[1;33m\u001b[0m\u001b[0m\n\u001b[0;32m     39\u001b[0m                 \u001b[0max\u001b[0m\u001b[1;33m[\u001b[0m\u001b[0mt\u001b[0m\u001b[1;33m,\u001b[0m \u001b[0mc\u001b[0m\u001b[1;33m]\u001b[0m\u001b[1;33m.\u001b[0m\u001b[0mplot\u001b[0m\u001b[1;33m(\u001b[0m\u001b[0mtime\u001b[0m\u001b[1;33m,\u001b[0m \u001b[0mCOPx\u001b[0m\u001b[1;33m,\u001b[0m \u001b[0mcolor\u001b[0m \u001b[1;33m=\u001b[0m \u001b[1;33m[\u001b[0m\u001b[1;36m1\u001b[0m\u001b[1;33m,\u001b[0m \u001b[1;36m0\u001b[0m\u001b[1;33m,\u001b[0m \u001b[1;36m0\u001b[0m\u001b[1;33m,\u001b[0m \u001b[1;36m.5\u001b[0m\u001b[1;33m]\u001b[0m\u001b[1;33m,\u001b[0m \u001b[0mlabel\u001b[0m\u001b[1;33m=\u001b[0m\u001b[1;34m'COPx'\u001b[0m\u001b[1;33m)\u001b[0m\u001b[1;33m\u001b[0m\u001b[0m\n",
        "\u001b[1;31mTypeError\u001b[0m: object of type 'int' has no len()"
       ]
      },
      {
       "metadata": {},
       "output_type": "display_data",
       "png": "[encoded data removed]",
       "text": [
        "<matplotlib.figure.Figure at 0x135e45f0>"
       ]
      }
     ],
     "prompt_number": 70
    },
    {
     "cell_type": "code",
     "collapsed": false,
     "input": [],
     "language": "python",
     "metadata": {},
     "outputs": [],
     "prompt_number": 35
    },
    {
     "cell_type": "code",
     "collapsed": false,
     "input": [
      "def COP_Processing(fileNames, freq, time, freqCorte):\n",
      "    \"\"\"Leitura dos dados de um arquivo, filtra  o copx e o copy\n",
      "    Parameters\n",
      "    ----------\n",
      "    fileNames : nome do arquivo\n",
      "    freq : frequ\u00eancia de aquisi\u00e7\u00e3o\n",
      "    time : tempo de aquisi\u00e7\u00e3o dos dados\n",
      "    freqCorte : frequ\u00eancia de corte para um filtro Butterworth passa baixa\"\"\"\n",
      "    \n",
      "    \n",
      "    t = np.arange(0,time,.01);\n",
      "    \n",
      "    data = np.loadtxt(fileNames, skiprows=1)\n",
      "    \n",
      "    copx = data[:,7]\n",
      "    copy = data[:,8]\n",
      "            \n",
      "           \n",
      "    b, a = butter(order, freqCorte/(freq/2), btype = 'low')\n",
      "    copx = filtfilt(b, a, data[:,7])\n",
      "    copy = filtfilt(b, a, data[:,8])  \n",
      "    \n",
      "    \n",
      "    copx = detrend(copx, axis=0, type='constant')   \n",
      "    copy = detrend(copy, axis=0, type='constant')\n",
      "    \n",
      "       \n",
      "    return copx, copy\n"
     ],
     "language": "python",
     "metadata": {},
     "outputs": [],
     "prompt_number": 19
    },
    {
     "cell_type": "code",
     "collapsed": false,
     "input": [
      "\n",
      "    \n",
      "   "
     ],
     "language": "python",
     "metadata": {},
     "outputs": [],
     "prompt_number": 22
    },
    {
     "cell_type": "code",
     "collapsed": false,
     "input": [],
     "language": "python",
     "metadata": {},
     "outputs": [],
     "prompt_number": 71
    },
    {
     "cell_type": "code",
     "collapsed": false,
     "input": [],
     "language": "python",
     "metadata": {},
     "outputs": []
    }
   ],
   "metadata": {}
  }
 ]
}