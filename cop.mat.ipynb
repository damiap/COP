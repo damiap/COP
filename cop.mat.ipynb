{
 "metadata": {
  "name": "",
  "signature": "sha256:89e69cb1aebc04ae07b9b501f030a4c184d383a39a0fb624ca274505dc178e4e"
 },
 "nbformat": 3,
 "nbformat_minor": 0,
 "worksheets": [
  {
   "cells": [
    {
     "cell_type": "code",
     "collapsed": false,
     "input": [],
     "language": "python",
     "metadata": {},
     "outputs": []
    },
    {
     "cell_type": "markdown",
     "metadata": {},
     "source": [
      "import numpy as np\n",
      "from IPython.display import display, Latex\n",
      "import matplotlib.pyplot as plt\n",
      "from scipy.signal import butter, lfilter, filtfilt\n",
      "from IPython.display import HTML, display\n",
      "import sys\n",
      "%matplotlib inline"
     ]
    },
    {
     "cell_type": "code",
     "collapsed": false,
     "input": [
      "import scipy.io\n",
      "\n",
      "data = scipy.io.loadmat(file_name= \"COP.mat\", mdict=None)\n",
      "#copy = scipy.io.loadmat(file_name= \"copy.mat\", mdict=None)\n",
      "\n",
      "#data = np.loadtxt(fname= \"qsceda1.txt\", skiprows=1)\n",
      "#copy = np.loadtxt(fname= \"qsceda1.txt\", skiprows=1)\n",
      "\n",
      "data #copx - 7th column\n",
      "#data[:,8] #copy - 8th column"
     ],
     "language": "python",
     "metadata": {},
     "outputs": [
      {
       "metadata": {},
       "output_type": "pyout",
       "prompt_number": 15,
       "text": [
        "{'copx': array([[[  1.44110000e-02,   1.68230000e-02,   1.48550000e-02],\n",
        "         [ -1.23470000e-02,   6.70700000e-03,   1.31700000e-02],\n",
        "         [ -1.10980000e-02,  -1.31030000e-02,  -8.00500000e-03],\n",
        "         ..., \n",
        "         [ -1.22120000e-02,  -9.75900000e-03,  -1.03130000e-02],\n",
        "         [ -1.15930000e-02,  -1.22340000e-02,  -7.49800000e-03],\n",
        "         [ -6.26200000e-03,  -1.06220000e-02,  -7.93500000e-03]],\n",
        " \n",
        "        [[  1.45920000e-02,   1.66540000e-02,   1.48670000e-02],\n",
        "         [ -1.23130000e-02,   6.84200000e-03,   1.31620000e-02],\n",
        "         [ -8.66500000e-03,  -1.14920000e-02,  -8.29100000e-03],\n",
        "         ..., \n",
        "         [ -1.24040000e-02,  -1.14200000e-02,  -1.12540000e-02],\n",
        "         [ -1.15280000e-02,  -1.38680000e-02,  -1.30430000e-02],\n",
        "         [ -8.54900000e-03,  -1.69640000e-02,  -1.18910000e-02]],\n",
        " \n",
        "        [[  1.54020000e-02,   1.73820000e-02,   1.47740000e-02],\n",
        "         [ -1.25900000e-02,   6.53600000e-03,   1.30140000e-02],\n",
        "         [ -1.36080000e-02,  -1.16790000e-02,  -8.32500000e-03],\n",
        "         ..., \n",
        "         [ -1.17700000e-02,  -1.19810000e-02,  -1.32440000e-02],\n",
        "         [ -1.20550000e-02,  -1.28590000e-02,  -1.03240000e-02],\n",
        "         [ -9.59800000e-03,  -1.26730000e-02,  -1.34690000e-02]],\n",
        " \n",
        "        ..., \n",
        "        [[  1.26600000e-02,   9.38100000e-03,   8.72000000e-03],\n",
        "         [ -1.50260000e-02,   2.46000000e-04,   2.58800000e-03],\n",
        "         [ -1.41670000e-02,  -7.13200000e-03,  -1.15020000e-02],\n",
        "         ..., \n",
        "         [ -8.68200000e-03,  -1.72270000e-02,  -7.94000000e-03],\n",
        "         [ -1.07610000e-02,  -9.32200000e-03,  -9.88700000e-03],\n",
        "         [ -9.46300000e-03,  -9.96700000e-03,  -9.72300000e-03]],\n",
        " \n",
        "        [[  1.24480000e-02,   9.22400000e-03,   8.86600000e-03],\n",
        "         [ -1.48390000e-02,   8.50000000e-05,   2.95200000e-03],\n",
        "         [ -9.50500000e-03,  -9.09600000e-03,  -1.09980000e-02],\n",
        "         ..., \n",
        "         [ -1.21080000e-02,  -8.79300000e-03,  -1.42450000e-02],\n",
        "         [ -9.64100000e-03,  -9.93000000e-03,  -8.75500000e-03],\n",
        "         [ -1.00190000e-02,  -1.20950000e-02,  -1.16580000e-02]],\n",
        " \n",
        "        [[  1.23470000e-02,   8.99000000e-03,   9.02900000e-03],\n",
        "         [ -1.47270000e-02,   2.57000000e-04,   2.95400000e-03],\n",
        "         [ -8.37200000e-03,  -1.01860000e-02,  -9.72200000e-03],\n",
        "         ..., \n",
        "         [ -9.68300000e-03,  -7.84600000e-03,  -1.06320000e-02],\n",
        "         [ -1.09560000e-02,  -1.15030000e-02,  -7.27200000e-03],\n",
        "         [ -8.74100000e-03,  -1.20260000e-02,  -1.65100000e-02]]]),\n",
        " '__globals__': [],\n",
        " '__header__': b'MATLAB 5.0 MAT-file, Platform: PCWIN64, Created on: Fri Nov 07 11:34:49 2014',\n",
        " 'copy': array([[[  5.49800000e-03,   5.58000000e-03,   4.12100000e-03],\n",
        "         [  8.33000000e-04,  -2.02000000e-04,   8.32000000e-03],\n",
        "         [ -2.52420000e-02,  -9.31100000e-03,   4.31400000e-03],\n",
        "         ..., \n",
        "         [ -1.11230000e-02,  -1.03960000e-02,  -3.23190000e-02],\n",
        "         [ -1.35140000e-02,  -1.61920000e-02,  -1.74340000e-02],\n",
        "         [ -4.45000000e-04,   1.88800000e-03,  -2.38100000e-03]],\n",
        " \n",
        "        [[  5.58100000e-03,   6.96200000e-03,   3.79700000e-03],\n",
        "         [ -1.50300000e-03,   4.00000000e-05,   7.75700000e-03],\n",
        "         [ -1.97090000e-02,  -3.53640000e-02,  -1.33310000e-02],\n",
        "         ..., \n",
        "         [  1.24220000e-02,  -1.02950000e-02,   3.50900000e-03],\n",
        "         [  8.63500000e-03,  -2.62710000e-02,  -1.89900000e-03],\n",
        "         [  1.11770000e-02,  -1.72890000e-02,   1.27500000e-03]],\n",
        " \n",
        "        [[  6.48000000e-03,   6.95400000e-03,   4.42700000e-03],\n",
        "         [ -2.00000000e-05,   4.56000000e-04,   8.26400000e-03],\n",
        "         [  5.24100000e-03,  -9.26800000e-03,  -8.04600000e-03],\n",
        "         ..., \n",
        "         [  4.01900000e-03,  -2.12070000e-02,  -3.41300000e-03],\n",
        "         [ -1.22240000e-02,   9.24000000e-04,  -3.33700000e-03],\n",
        "         [  1.10010000e-02,  -6.35200000e-03,  -1.45420000e-02]],\n",
        " \n",
        "        ..., \n",
        "        [[  4.47600000e-03,   7.35000000e-03,   9.74100000e-03],\n",
        "         [  4.48500000e-03,   2.97000000e-03,   9.56200000e-03],\n",
        "         [ -1.88120000e-02,  -1.27020000e-02,  -1.69970000e-02],\n",
        "         ..., \n",
        "         [ -3.21920000e-02,  -4.90200000e-03,  -2.14800000e-03],\n",
        "         [  3.72600000e-03,  -1.11910000e-02,  -1.12830000e-02],\n",
        "         [ -1.38760000e-02,  -3.80000000e-03,  -2.63620000e-02]],\n",
        " \n",
        "        [[  4.49000000e-03,   7.28200000e-03,   1.08810000e-02],\n",
        "         [  3.29200000e-03,   3.94900000e-03,   8.48100000e-03],\n",
        "         [ -1.09930000e-02,  -1.55030000e-02,  -1.02310000e-02],\n",
        "         ..., \n",
        "         [ -1.12740000e-02,  -4.45680000e-02,  -9.62200000e-03],\n",
        "         [  1.50250000e-02,  -1.27390000e-02,  -1.04210000e-02],\n",
        "         [  8.20100000e-03,   3.76400000e-03,  -3.10190000e-02]],\n",
        " \n",
        "        [[  4.84700000e-03,   7.01600000e-03,   1.05870000e-02],\n",
        "         [  4.99500000e-03,   4.17700000e-03,   8.25100000e-03],\n",
        "         [ -2.33800000e-03,  -1.33060000e-02,  -1.09750000e-02],\n",
        "         ..., \n",
        "         [  1.25400000e-03,  -1.61840000e-02,  -1.29600000e-02],\n",
        "         [ -3.20030000e-02,  -5.25200000e-03,  -2.04750000e-02],\n",
        "         [  7.00000000e-04,  -2.36520000e-02,  -1.22700000e-02]]]),\n",
        " '__version__': '1.0'}"
       ]
      }
     ],
     "prompt_number": 15
    },
    {
     "cell_type": "code",
     "collapsed": false,
     "input": [
      "#time = 40s\n",
      "#2 conditions (OA, OF)\n",
      "#3 trials\n",
      "\n",
      "freq = 100\n",
      "\n",
      "t  = np.linspace(0, 40, 4001)  \n",
      "x = np.sin(2 * np.pi * 100 * t)\n",
      "#y = np.sin(2 * np.pi * 100 * t)\n",
      "\n",
      "#Filter data\n",
      "b, a = scipy.signal.butter(4, (10/(freq/2)), btype='lowpass')\n",
      "data = scipy.signal.filtfilt(b, a, data['copy'][:,0])\n",
      "#copy = scipy.signal.filtfilt(b, a, y, padlen=None)\n",
      "\n",
      "\n",
      "np.sin(2 * np.pi * 100 * t)"
     ],
     "language": "python",
     "metadata": {},
     "outputs": [
      {
       "ename": "ValueError",
       "evalue": "The length of the input vector x must be at least padlen, which is 15.",
       "output_type": "pyerr",
       "traceback": [
        "\u001b[1;31m---------------------------------------------------------------------------\u001b[0m\n\u001b[1;31mValueError\u001b[0m                                Traceback (most recent call last)",
        "\u001b[1;32m<ipython-input-28-61b7efd80135>\u001b[0m in \u001b[0;36m<module>\u001b[1;34m()\u001b[0m\n\u001b[0;32m     11\u001b[0m \u001b[1;31m#Filter data\u001b[0m\u001b[1;33m\u001b[0m\u001b[1;33m\u001b[0m\u001b[0m\n\u001b[0;32m     12\u001b[0m \u001b[0mb\u001b[0m\u001b[1;33m,\u001b[0m \u001b[0ma\u001b[0m \u001b[1;33m=\u001b[0m \u001b[0mscipy\u001b[0m\u001b[1;33m.\u001b[0m\u001b[0msignal\u001b[0m\u001b[1;33m.\u001b[0m\u001b[0mbutter\u001b[0m\u001b[1;33m(\u001b[0m\u001b[1;36m4\u001b[0m\u001b[1;33m,\u001b[0m \u001b[1;33m(\u001b[0m\u001b[1;36m10\u001b[0m\u001b[1;33m/\u001b[0m\u001b[1;33m(\u001b[0m\u001b[0mfreq\u001b[0m\u001b[1;33m/\u001b[0m\u001b[1;36m2\u001b[0m\u001b[1;33m)\u001b[0m\u001b[1;33m)\u001b[0m\u001b[1;33m,\u001b[0m \u001b[0mbtype\u001b[0m\u001b[1;33m=\u001b[0m\u001b[1;34m'lowpass'\u001b[0m\u001b[1;33m)\u001b[0m\u001b[1;33m\u001b[0m\u001b[0m\n\u001b[1;32m---> 13\u001b[1;33m \u001b[0mdata\u001b[0m \u001b[1;33m=\u001b[0m \u001b[0mscipy\u001b[0m\u001b[1;33m.\u001b[0m\u001b[0msignal\u001b[0m\u001b[1;33m.\u001b[0m\u001b[0mfiltfilt\u001b[0m\u001b[1;33m(\u001b[0m\u001b[0mb\u001b[0m\u001b[1;33m,\u001b[0m \u001b[0ma\u001b[0m\u001b[1;33m,\u001b[0m \u001b[0mdata\u001b[0m\u001b[1;33m[\u001b[0m\u001b[1;34m'copy'\u001b[0m\u001b[1;33m]\u001b[0m\u001b[1;33m[\u001b[0m\u001b[1;33m:\u001b[0m\u001b[1;33m,\u001b[0m\u001b[1;36m0\u001b[0m\u001b[1;33m]\u001b[0m\u001b[1;33m)\u001b[0m\u001b[1;33m\u001b[0m\u001b[0m\n\u001b[0m\u001b[0;32m     14\u001b[0m \u001b[1;31m#copy = scipy.signal.filtfilt(b, a, y, padlen=None)\u001b[0m\u001b[1;33m\u001b[0m\u001b[1;33m\u001b[0m\u001b[0m\n\u001b[0;32m     15\u001b[0m \u001b[1;33m\u001b[0m\u001b[0m\n",
        "\u001b[1;32mC:\\Users\\Damiana\\Anaconda3\\lib\\site-packages\\scipy\\signal\\signaltools.py\u001b[0m in \u001b[0;36mfiltfilt\u001b[1;34m(b, a, x, axis, padtype, padlen)\u001b[0m\n\u001b[0;32m   1798\u001b[0m     \u001b[1;32mif\u001b[0m \u001b[0mx\u001b[0m\u001b[1;33m.\u001b[0m\u001b[0mshape\u001b[0m\u001b[1;33m[\u001b[0m\u001b[0maxis\u001b[0m\u001b[1;33m]\u001b[0m \u001b[1;33m<=\u001b[0m \u001b[0medge\u001b[0m\u001b[1;33m:\u001b[0m\u001b[1;33m\u001b[0m\u001b[0m\n\u001b[0;32m   1799\u001b[0m         raise ValueError(\"The length of the input vector x must be at least \"\n\u001b[1;32m-> 1800\u001b[1;33m                          \"padlen, which is %d.\" % edge)\n\u001b[0m\u001b[0;32m   1801\u001b[0m \u001b[1;33m\u001b[0m\u001b[0m\n\u001b[0;32m   1802\u001b[0m     \u001b[1;32mif\u001b[0m \u001b[0mpadtype\u001b[0m \u001b[1;32mis\u001b[0m \u001b[1;32mnot\u001b[0m \u001b[1;32mNone\u001b[0m \u001b[1;32mand\u001b[0m \u001b[0medge\u001b[0m \u001b[1;33m>\u001b[0m \u001b[1;36m0\u001b[0m\u001b[1;33m:\u001b[0m\u001b[1;33m\u001b[0m\u001b[0m\n",
        "\u001b[1;31mValueError\u001b[0m: The length of the input vector x must be at least padlen, which is 15."
       ]
      }
     ],
     "prompt_number": 28
    },
    {
     "cell_type": "code",
     "collapsed": false,
     "input": [
      "data['copy'][:,0]"
     ],
     "language": "python",
     "metadata": {},
     "outputs": [
      {
       "metadata": {},
       "output_type": "pyout",
       "prompt_number": 26,
       "text": [
        "array([[ 0.005498,  0.00558 ,  0.004121],\n",
        "       [ 0.005581,  0.006962,  0.003797],\n",
        "       [ 0.00648 ,  0.006954,  0.004427],\n",
        "       ..., \n",
        "       [ 0.004476,  0.00735 ,  0.009741],\n",
        "       [ 0.00449 ,  0.007282,  0.010881],\n",
        "       [ 0.004847,  0.007016,  0.010587]])"
       ]
      }
     ],
     "prompt_number": 26
    },
    {
     "cell_type": "code",
     "collapsed": false,
     "input": [
      "t  = np.linspace(0, 40, 4001)  "
     ],
     "language": "python",
     "metadata": {},
     "outputs": [],
     "prompt_number": 7
    },
    {
     "cell_type": "code",
     "collapsed": false,
     "input": [
      "x\n",
      "\n",
      "\n",
      "\n"
     ],
     "language": "python",
     "metadata": {},
     "outputs": [
      {
       "metadata": {},
       "output_type": "pyout",
       "prompt_number": 29,
       "text": [
        "array([  0.00000000e+00,  -2.44929360e-16,  -4.89858720e-16, ...,\n",
        "         3.38350482e-12,   4.06085825e-13,   1.06664564e-12])"
       ]
      }
     ],
     "prompt_number": 29
    },
    {
     "cell_type": "code",
     "collapsed": false,
     "input": [],
     "language": "python",
     "metadata": {},
     "outputs": [],
     "prompt_number": 96
    },
    {
     "cell_type": "code",
     "collapsed": false,
     "input": [],
     "language": "python",
     "metadata": {},
     "outputs": []
    }
   ],
   "metadata": {}
  }
 ]
}