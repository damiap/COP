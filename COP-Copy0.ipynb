{
 "metadata": {
  "name": "",
  "signature": "sha256:3a69fe3ac384eb9d35db562ccd94bc20979ed0aa32e9480b572b4c7d4b4a76f3"
 },
 "nbformat": 3,
 "nbformat_minor": 0,
 "worksheets": [
  {
   "cells": [
    {
     "cell_type": "code",
     "collapsed": false,
     "input": [
      "from __future__ import division, print_function\n",
      "import numpy as np\n",
      "from numpy import mean, sqrt, square, arange\n",
      "import matplotlib.pyplot as plt\n",
      "%matplotlib inline\n",
      "from IPython.display import HTML, display\n",
      "from scipy.signal import butter, lfilter, filtfilt\n",
      "import pandas as pd  # use Pandas to read data\n"
     ],
     "language": "python",
     "metadata": {},
     "outputs": [],
     "prompt_number": 1
    },
    {
     "cell_type": "code",
     "collapsed": false,
     "input": [
      "# 2 conditions: eyes open (OA) and eyes closed (OF)\n",
      "# 4 participants\n",
      "# 3 trials\n",
      "# time  = 40s\n",
      "# freq= 100Hz\n",
      "\n",
      "freq = 100; #hertz\n",
      "time = 40;  #segundos\n",
      "freqCorte = 10; #hertz\n",
      "\n",
      "#freqNiquist = freq/2\n",
      "#lowpass 4th ordem"
     ],
     "language": "python",
     "metadata": {},
     "outputs": [],
     "prompt_number": 2
    },
    {
     "cell_type": "code",
     "collapsed": false,
     "input": [
      "#fname = './kistler/'\n",
      "\n",
      "def COP_Processing (fileNames, freq, time, freqCorte):\n",
      "    \"\"\"Leitura dos dados de um arquivo, filtra  o copx e o copy\n",
      "    Parameters\n",
      "    ----------\n",
      "    fileNames : nome do arquivo\n",
      "    freq : frequ\u00eancia de aquisi\u00e7\u00e3o\n",
      "    time : tempo de aquisi\u00e7\u00e3o dos dados\n",
      "    freqCorte : frequ\u00eancia de corte para um  filtro Butterworth passa baixa\"\"\"\n",
      "    \n",
      "    #for kistler in fileNames:\n",
      "        \n",
      "        #print (kistler),\n",
      "    data = np.loadtxt(fileNames, skiprows=1)\n",
      "    copx = data[:,7]\n",
      "    copy = data[:,8]\n",
      "    COP = [data[:,7], data[:,8]]\n",
      "           \n",
      "    b, a = butter(4, freqCorte/(freq/2), btype = 'low')\n",
      "    xFilt = filtfilt(b, a, COP)\n",
      "    #yFilt = filtfilt(b, a, data[:,8])    \n",
      "    \n",
      "    from scipy.signal import detrend\n",
      "    \n",
      "    COP = detrend(xFilt, axis=0, type='constant')   \n",
      "    #copyFilt = detrend(yFilt, axis=0, type='constant')\n",
      "    \n",
      "    \n",
      "        \n",
      "    return COP\n",
      "\n"
     ],
     "language": "python",
     "metadata": {},
     "outputs": [],
     "prompt_number": 7
    },
    {
     "cell_type": "code",
     "collapsed": false,
     "input": [
      "# Measurements of spatial variability\n",
      "\n",
      "from os import listdir\n",
      "fileNames = listdir('./force_plate_data/')\n",
      "\n",
      "for kistler in fileNames:\n",
      "    print (kistler)\n",
      "    \n",
      "        \n",
      "    COP = COP_Processing('./force_plate_data/' + kistler, freq, time, freqCorte)   \n",
      "    \n",
      "    meanCopx = np.mean(COP[:,8], axis=0)  # mean\n",
      "    #meanCopy = np.mean(copyFilt, axis=0)\n",
      "    \n",
      "    sdCopx = np.std(COP[:,8], axis=0)  # standard deviation\n",
      "    #sdCopy = np.std(copyFilt, axis=0)\n",
      "    \n",
      "    rmsCopx = sqrt(mean(square(copxFilt))) # root-mean square\n",
      "    #rmsCopy = sqrt(mean(square(copyFilt)))\n",
      "    #rmsx = np.sqrt(np.mean(copxFilt ** 2, axis=0)  # root-mean square\n",
      "    #rmsy = np.sqrt(np.mean(copyFilt ** 2, axis=0)     \n",
      "                   \n",
      "    rangeCopx = np.max(copxFilt, axis=0) - np.min(copxFilt, axis=0)\n",
      "    #rangeCopy = np.max(copyFilt, axis=0) - np.min(copyFilt, axis=0)# range (maximum - minimum)\n",
      "    \n",
      "    tpathCopx = np.sum(np.abs(np.diff(copxFilt, axis=0)), axis=0) # total path (length of the COP displacement)\n",
      "    #tpathCopy = np.sum(np.abs(np.diff(copyFilt, axis=0)), axis=0)\n",
      "    \n",
      "    \n",
      "    #unit = 'mm'\n",
      "    #print('Measurements of spatial variability')\n",
      "    #print('{0:12} {1:^16}'.format('Variable', 'Direction'))\n",
      "    #print('{0:12} {1:^8} {2:^5}'.format('', 'ap', 'ml'))\n",
      "    #print('{0:12} {1:>6.4f} {2:>6.4f} {3:>3} '.format('Mean:', meanCopx, unit))\n",
      "    #print('{0:12} {1:>6.4f} {2:>6.4f} {3:>3}'.format('SD:', sdCopx, unit))\n",
      "    #print('{0:12} {1:>6.4f} {2:>6.4f} {3:>3}'.format('RMS:', rmsCopx, unit))\n",
      "    #print('{0:12} {1:>6.4f} {2:>6.4f} {3:>3}'.format('Range:', rangeCopx, unit))\n",
      "    #print('{0:12} {1:>6.4f} {2:>6.4f} {3:>3}'.format('Total path:', tpathCopx, unit)) \n",
      "    \n",
      "print('COP shape: ' ,COP.shape)\n",
      "#print('copyFilt shape: ' ,copyFilt.shape)\n",
      "\n",
      "sdCopx"
     ],
     "language": "python",
     "metadata": {},
     "outputs": [
      {
       "output_type": "stream",
       "stream": "stdout",
       "text": [
        "qsceda1.txt\n",
        "qsceda2.txt"
       ]
      },
      {
       "output_type": "stream",
       "stream": "stdout",
       "text": [
        "\n",
        "qsceda3.txt"
       ]
      },
      {
       "output_type": "stream",
       "stream": "stdout",
       "text": [
        "\n",
        "qscedm1.txt"
       ]
      },
      {
       "output_type": "stream",
       "stream": "stdout",
       "text": [
        "\n",
        "qscedm2.txt"
       ]
      },
      {
       "output_type": "stream",
       "stream": "stdout",
       "text": [
        "\n",
        "qscedm3.txt"
       ]
      },
      {
       "output_type": "stream",
       "stream": "stdout",
       "text": [
        "\n",
        "qscejo1.txt"
       ]
      },
      {
       "output_type": "stream",
       "stream": "stdout",
       "text": [
        "\n",
        "qscejo2.txt"
       ]
      },
      {
       "output_type": "stream",
       "stream": "stdout",
       "text": [
        "\n",
        "qscejo3.txt\n",
        "qscekj1.txt"
       ]
      },
      {
       "output_type": "stream",
       "stream": "stdout",
       "text": [
        "\n",
        "qscekj2.txt"
       ]
      },
      {
       "output_type": "stream",
       "stream": "stdout",
       "text": [
        "\n",
        "qscekj3.txt"
       ]
      },
      {
       "output_type": "stream",
       "stream": "stdout",
       "text": [
        "\n",
        "qsoeda1.txt"
       ]
      },
      {
       "output_type": "stream",
       "stream": "stdout",
       "text": [
        "\n",
        "qsoeda2.txt"
       ]
      },
      {
       "output_type": "stream",
       "stream": "stdout",
       "text": [
        "\n",
        "qsoeda3.txt"
       ]
      },
      {
       "output_type": "stream",
       "stream": "stdout",
       "text": [
        "\n",
        "qsoedm1.txt"
       ]
      },
      {
       "output_type": "stream",
       "stream": "stdout",
       "text": [
        "\n",
        "qsoedm2.txt\n",
        "qsoedm3.txt"
       ]
      },
      {
       "output_type": "stream",
       "stream": "stdout",
       "text": [
        "\n",
        "qsoejo1.txt"
       ]
      },
      {
       "output_type": "stream",
       "stream": "stdout",
       "text": [
        "\n",
        "qsoejo2.txt"
       ]
      },
      {
       "output_type": "stream",
       "stream": "stdout",
       "text": [
        "\n",
        "qsoejo3.txt"
       ]
      },
      {
       "output_type": "stream",
       "stream": "stdout",
       "text": [
        "\n",
        "qsoekj1.txt\n",
        "qsoekj2.txt"
       ]
      },
      {
       "output_type": "stream",
       "stream": "stdout",
       "text": [
        "\n",
        "qsoekj3.txt"
       ]
      },
      {
       "output_type": "stream",
       "stream": "stdout",
       "text": [
        "\n",
        "COP shape: "
       ]
      },
      {
       "output_type": "stream",
       "stream": "stdout",
       "text": [
        " (2, 4000)\n"
       ]
      },
      {
       "metadata": {},
       "output_type": "pyout",
       "prompt_number": 11,
       "text": [
        "0.0013219629938704901"
       ]
      }
     ],
     "prompt_number": 11
    },
    {
     "cell_type": "code",
     "collapsed": false,
     "input": [],
     "language": "python",
     "metadata": {},
     "outputs": [],
     "prompt_number": 39
    },
    {
     "cell_type": "code",
     "collapsed": false,
     "input": [
      "#Measurements of velocity, area\n",
      "\n",
      "for kistler in fileNames:\n",
      "    \n",
      "    copxFilt, copyFilt = COP_Processing('./kistler/' + kistler, freq, time, freqCorte)\n",
      "\n",
      "    mvelCopx = np.sum(np.abs(np.diff(copxFilt, axis=0)), axis=0) / time\n",
      "    mvelCopy = np.sum(np.abs(np.diff(copyFilt, axis=0)), axis=0) / time\n",
      "    \n",
      "    #mvelr = np.sum(np.abs(np.sqrt(np.sum(np.diff(copxFilt, axis=0) ** 2, axis=0))), axis=1) / time\n",
      "    \n",
      "    \n",
      "    \n",
      "    print('{0:15} {1:^16}'.format('Variable', 'Direction'))\n",
      "    print('{0:15} {1:^8} {2:^5}'.format('', 'ap', 'ml'))\n",
      "    print('{0:15} {1:>6.4f} {2:>6.4f} {3:>5}'.format('Mean velocity:', mvelCopy, mvelCopx, unit+'/s'))\n",
      "    print('')\n",
      "    \n",
      "    \n"
     ],
     "language": "python",
     "metadata": {},
     "outputs": [
      {
       "output_type": "stream",
       "stream": "stdout",
       "text": [
        "Variable           Direction    \n",
        "                   ap     ml  \n",
        "Mean velocity:  0.0054 0.0054  mm/s\n",
        "\n",
        "Variable           Direction    "
       ]
      },
      {
       "output_type": "stream",
       "stream": "stdout",
       "text": [
        "\n",
        "                   ap     ml  \n",
        "Mean velocity:  0.0048 0.0048  mm/s\n",
        "\n",
        "Variable           Direction    "
       ]
      },
      {
       "output_type": "stream",
       "stream": "stdout",
       "text": [
        "\n",
        "                   ap     ml  \n",
        "Mean velocity:  0.0055 0.0055  mm/s\n",
        "\n",
        "Variable           Direction    "
       ]
      },
      {
       "output_type": "stream",
       "stream": "stdout",
       "text": [
        "\n",
        "                   ap     ml  \n",
        "Mean velocity:  0.0687 0.0687  mm/s\n",
        "\n",
        "Variable           Direction    "
       ]
      },
      {
       "output_type": "stream",
       "stream": "stdout",
       "text": [
        "\n",
        "                   ap     ml  \n",
        "Mean velocity:  0.0736 0.0736  mm/s\n",
        "\n",
        "Variable           Direction    "
       ]
      },
      {
       "output_type": "stream",
       "stream": "stdout",
       "text": [
        "\n",
        "                   ap     ml  \n",
        "Mean velocity:  0.0695 0.0695  mm/s\n",
        "\n",
        "Variable           Direction    "
       ]
      },
      {
       "output_type": "stream",
       "stream": "stdout",
       "text": [
        "\n",
        "                   ap     ml  \n",
        "Mean velocity:  0.0704 0.0704  mm/s\n",
        "\n",
        "Variable           Direction    "
       ]
      },
      {
       "output_type": "stream",
       "stream": "stdout",
       "text": [
        "\n",
        "                   ap     ml  \n",
        "Mean velocity:  0.0673 0.0673  mm/s\n",
        "\n",
        "Variable           Direction    "
       ]
      },
      {
       "output_type": "stream",
       "stream": "stdout",
       "text": [
        "\n",
        "                   ap     ml  \n",
        "Mean velocity:  0.0710 0.0710  mm/s\n",
        "\n",
        "Variable           Direction    "
       ]
      },
      {
       "output_type": "stream",
       "stream": "stdout",
       "text": [
        "\n",
        "                   ap     ml  \n",
        "Mean velocity:  0.0697 0.0697  mm/s\n",
        "\n",
        "Variable           Direction    "
       ]
      },
      {
       "output_type": "stream",
       "stream": "stdout",
       "text": [
        "\n",
        "                   ap     ml  \n",
        "Mean velocity:  0.0700 0.0700  mm/s\n",
        "\n",
        "Variable           Direction    "
       ]
      },
      {
       "output_type": "stream",
       "stream": "stdout",
       "text": [
        "\n",
        "                   ap     ml  \n",
        "Mean velocity:  0.0700 0.0700  mm/s\n",
        "\n",
        "Variable           Direction    "
       ]
      },
      {
       "output_type": "stream",
       "stream": "stdout",
       "text": [
        "\n",
        "                   ap     ml  \n",
        "Mean velocity:  0.0048 0.0048  mm/s\n",
        "\n",
        "Variable           Direction    "
       ]
      },
      {
       "output_type": "stream",
       "stream": "stdout",
       "text": [
        "\n",
        "                   ap     ml  \n",
        "Mean velocity:  0.0047 0.0047  mm/s\n",
        "\n",
        "Variable           Direction    "
       ]
      },
      {
       "output_type": "stream",
       "stream": "stdout",
       "text": [
        "\n",
        "                   ap     ml  \n",
        "Mean velocity:  0.0047 0.0047  mm/s\n",
        "\n",
        "Variable           Direction    "
       ]
      },
      {
       "output_type": "stream",
       "stream": "stdout",
       "text": [
        "\n",
        "                   ap     ml  \n",
        "Mean velocity:  0.0680 0.0680  mm/s\n",
        "\n",
        "Variable           Direction    "
       ]
      },
      {
       "output_type": "stream",
       "stream": "stdout",
       "text": [
        "\n",
        "                   ap     ml  \n",
        "Mean velocity:  0.0735 0.0735  mm/s\n",
        "\n",
        "Variable           Direction    "
       ]
      },
      {
       "output_type": "stream",
       "stream": "stdout",
       "text": [
        "\n",
        "                   ap     ml  \n",
        "Mean velocity:  0.0700 0.0700  mm/s\n",
        "\n",
        "Variable           Direction    "
       ]
      },
      {
       "output_type": "stream",
       "stream": "stdout",
       "text": [
        "\n",
        "                   ap     ml  \n",
        "Mean velocity:  0.0743 0.0743  mm/s\n",
        "\n",
        "Variable           Direction    "
       ]
      },
      {
       "output_type": "stream",
       "stream": "stdout",
       "text": [
        "\n",
        "                   ap     ml  \n",
        "Mean velocity:  0.0695 0.0695  mm/s\n",
        "\n",
        "Variable           Direction    "
       ]
      },
      {
       "output_type": "stream",
       "stream": "stdout",
       "text": [
        "\n",
        "                   ap     ml  \n",
        "Mean velocity:  0.0693 0.0693  mm/s\n",
        "\n",
        "Variable           Direction    "
       ]
      },
      {
       "output_type": "stream",
       "stream": "stdout",
       "text": [
        "\n",
        "                   ap     ml  \n",
        "Mean velocity:  0.0663 0.0663  mm/s\n",
        "\n",
        "Variable           Direction    "
       ]
      },
      {
       "output_type": "stream",
       "stream": "stdout",
       "text": [
        "\n",
        "                   ap     ml  \n",
        "Mean velocity:  0.0690 0.0690  mm/s\n",
        "\n",
        "Variable           Direction    "
       ]
      },
      {
       "output_type": "stream",
       "stream": "stdout",
       "text": [
        "\n",
        "                   ap     ml  \n",
        "Mean velocity:  0.0709 0.0709  mm/s\n",
        "\n"
       ]
      }
     ],
     "prompt_number": 13
    },
    {
     "cell_type": "code",
     "collapsed": false,
     "input": [
      "meanCopx, meanCopy"
     ],
     "language": "python",
     "metadata": {},
     "outputs": [
      {
       "metadata": {},
       "output_type": "pyout",
       "prompt_number": 235,
       "text": [
        "(-0.010642212544543206, -0.01432023511278375)"
       ]
      }
     ],
     "prompt_number": 235
    },
    {
     "cell_type": "code",
     "collapsed": false,
     "input": [
      "sdCopx, sdCopy"
     ],
     "language": "python",
     "metadata": {},
     "outputs": [
      {
       "metadata": {},
       "output_type": "pyout",
       "prompt_number": 45,
       "text": [
        "(0.00087463542646983071, 0.0048808468326215501)"
       ]
      }
     ],
     "prompt_number": 45
    },
    {
     "cell_type": "code",
     "collapsed": false,
     "input": [
      "rmsCopx, rmsCopy"
     ],
     "language": "python",
     "metadata": {},
     "outputs": [
      {
       "metadata": {},
       "output_type": "pyout",
       "prompt_number": 46,
       "text": [
        "(0.010897083846890622, 0.012769363682939473)"
       ]
      }
     ],
     "prompt_number": 46
    },
    {
     "cell_type": "code",
     "collapsed": false,
     "input": [
      "rangeCopx, rangeCopy"
     ],
     "language": "python",
     "metadata": {},
     "outputs": [
      {
       "metadata": {},
       "output_type": "pyout",
       "prompt_number": 47,
       "text": [
        "(0.0087814872115032083, 0.031337786269337503)"
       ]
      }
     ],
     "prompt_number": 47
    },
    {
     "cell_type": "code",
     "collapsed": false,
     "input": [
      "tpathCopx, tpathCopy"
     ],
     "language": "python",
     "metadata": {},
     "outputs": [
      {
       "metadata": {},
       "output_type": "pyout",
       "prompt_number": 48,
       "text": [
        "(0.9352183206077036, 5.3228544332542675)"
       ]
      }
     ],
     "prompt_number": 48
    },
    {
     "cell_type": "code",
     "collapsed": false,
     "input": [
      "#Plot data\n",
      "\n",
      "for kistler in fileNames:\n",
      "    \n",
      "    copxFilt, copyFilt = COP_Processing('./kistler/' + kistler, freq, time, freqCorte)\n",
      "\n",
      "import matplotlib.gridspec as gridspec\n",
      "t = np.linspace(0, copxFilt.shape[0]/freq, copyFilt.shape[0])\n",
      "plt.rc('axes', labelsize=16,  titlesize=16)\n",
      "plt.rc('xtick', labelsize=12)\n",
      "plt.rc('ytick', labelsize=12)\n",
      "plt.figure(figsize=(10, 4))\n",
      "gs = gridspec.GridSpec(1, 2, width_ratios=[2, 1]) \n",
      "ax1 = plt.subplot(gs[0])\n",
      "ax1.plot(t, copyFilt, lw=2, color=[0, 0, 1, 1], label='ap')\n",
      "ax1.plot(t, copxFilt, lw=2, color=[1, 0, 0, 1], label='ml')\n",
      "ax1.set_xlim([t[0], t[-1]])\n",
      "ax1.grid()\n",
      "ax1.locator_params(axis='both', nbins=5)\n",
      "ax1.set_xlabel('Time [s]')\n",
      "ax1.set_ylabel('COP [%s]' )\n",
      "ax1.set_title('Stabilogram')\n",
      "ax2 = plt.subplot(gs[1])\n",
      "ax2.plot(copxFilt, copyFilt, lw=2, color='g')\n",
      "ax2.set_xlabel('COP ml [%s]' )\n",
      "ax2.set_ylabel('COP ap [%s]' )\n",
      "ax2.set_title('Statokinesigram')\n",
      "if 0:  # plot the axes with the same colors of the COP data\n",
      "    ax2.xaxis.label.set_color('red')\n",
      "    ax2.spines['bottom'].set_color('red')\n",
      "    ax2.tick_params(axis='x', colors='red')\n",
      "    ax2.yaxis.label.set_color('blue')\n",
      "    ax2.spines['left'].set_color('blue')\n",
      "    ax2.tick_params(axis='y', colors='blue')\n",
      "    ax2.grid()\n",
      "    ax2.locator_params(axis='both', nbins=5)\n",
      "\n",
      "    plt.tight_layout()\n",
      "    plt.show()\n"
     ],
     "language": "python",
     "metadata": {},
     "outputs": [
      {
       "metadata": {},
       "output_type": "display_data",
       "png": "[encoded data removed]",
       "text": [
        "<matplotlib.figure.Figure at 0x53fc278>"
       ]
      }
     ],
     "prompt_number": 49
    },
    {
     "cell_type": "code",
     "collapsed": false,
     "input": [
      "# Python code to calculate the hypervolume of the exact 95% prediction hyper-ellipsoid:\n",
      "\n",
      "import numpy as np                            # import Numpy package\n",
      "from scipy.stats import f as F                # import F distribution\n",
      "from scipy.special import gamma               # import Gamma function\n",
      "\n",
      "for kistler in fileNames:\n",
      "    \n",
      "    copxFilt, copyFilt = COP_Processing('./kistler/' + kistler, freq, time, freqCorte)\n",
      "\n",
      "\n",
      "    n, p = np.asarray(copxFilt).shape                 # 2-D array dimensions\n",
      "    cov = np.cov(data, rowvar=0)                  # covariance matrix of data\n",
      "    U, s, Vt = np.linalg.svd(cov)                 # singular value decomposition\n",
      "    f95 = F.ppf(.95,p,n-p)*(n-1)*p*(n+1)/n/(n-p)  # F 95 percent point function\n",
      "    saxes = np.sqrt(s*f95)                        # semi-axes lengths\n",
      "    hypervolume = np.pi**(p/2)/gamma(p/2+1)*np.prod(saxes)\n",
      "    hypervolume\n"
     ],
     "language": "python",
     "metadata": {},
     "outputs": [
      {
       "ename": "ValueError",
       "evalue": "need more than 1 value to unpack",
       "output_type": "pyerr",
       "traceback": [
        "\u001b[1;31m---------------------------------------------------------------------------\u001b[0m\n\u001b[1;31mValueError\u001b[0m                                Traceback (most recent call last)",
        "\u001b[1;32m<ipython-input-50-e1ac9638c012>\u001b[0m in \u001b[0;36m<module>\u001b[1;34m()\u001b[0m\n\u001b[0;32m     10\u001b[0m \u001b[1;33m\u001b[0m\u001b[0m\n\u001b[0;32m     11\u001b[0m \u001b[1;33m\u001b[0m\u001b[0m\n\u001b[1;32m---> 12\u001b[1;33m     \u001b[0mn\u001b[0m\u001b[1;33m,\u001b[0m \u001b[0mp\u001b[0m \u001b[1;33m=\u001b[0m \u001b[0mnp\u001b[0m\u001b[1;33m.\u001b[0m\u001b[0masarray\u001b[0m\u001b[1;33m(\u001b[0m\u001b[0mcopxFilt\u001b[0m\u001b[1;33m)\u001b[0m\u001b[1;33m.\u001b[0m\u001b[0mshape\u001b[0m                 \u001b[1;31m# 2-D array dimensions\u001b[0m\u001b[1;33m\u001b[0m\u001b[0m\n\u001b[0m\u001b[0;32m     13\u001b[0m     \u001b[0mcov\u001b[0m \u001b[1;33m=\u001b[0m \u001b[0mnp\u001b[0m\u001b[1;33m.\u001b[0m\u001b[0mcov\u001b[0m\u001b[1;33m(\u001b[0m\u001b[0mdata\u001b[0m\u001b[1;33m,\u001b[0m \u001b[0mrowvar\u001b[0m\u001b[1;33m=\u001b[0m\u001b[1;36m0\u001b[0m\u001b[1;33m)\u001b[0m                  \u001b[1;31m# covariance matrix of data\u001b[0m\u001b[1;33m\u001b[0m\u001b[0m\n\u001b[0;32m     14\u001b[0m     \u001b[0mU\u001b[0m\u001b[1;33m,\u001b[0m \u001b[0ms\u001b[0m\u001b[1;33m,\u001b[0m \u001b[0mVt\u001b[0m \u001b[1;33m=\u001b[0m \u001b[0mnp\u001b[0m\u001b[1;33m.\u001b[0m\u001b[0mlinalg\u001b[0m\u001b[1;33m.\u001b[0m\u001b[0msvd\u001b[0m\u001b[1;33m(\u001b[0m\u001b[0mcov\u001b[0m\u001b[1;33m)\u001b[0m                 \u001b[1;31m# singular value decomposition\u001b[0m\u001b[1;33m\u001b[0m\u001b[0m\n",
        "\u001b[1;31mValueError\u001b[0m: need more than 1 value to unpack"
       ]
      }
     ],
     "prompt_number": 50
    },
    {
     "cell_type": "code",
     "collapsed": false,
     "input": [
      "\n",
      "\n",
      "from scipy.signal import detrend\n",
      "copFilt = detrend(copyFilt, axis=0, type='constant') "
     ],
     "language": "python",
     "metadata": {},
     "outputs": [],
     "prompt_number": 57
    },
    {
     "cell_type": "code",
     "collapsed": false,
     "input": [
      "copFilt\n",
      "\n"
     ],
     "language": "python",
     "metadata": {},
     "outputs": [
      {
       "metadata": {},
       "output_type": "pyout",
       "prompt_number": 58,
       "text": [
        "array([  8.69483245e-04,   8.56399107e-04,   8.19699420e-04, ...,\n",
        "        -6.75646105e-05,   5.81955760e-05,   2.18442596e-04])"
       ]
      }
     ],
     "prompt_number": 58
    },
    {
     "cell_type": "code",
     "collapsed": false,
     "input": [
      "from os import listdir\n",
      "fileNames = listdir('./kistler/')\n",
      "\n",
      "for kistler in fileNames:\n",
      "    print (kistler)\n",
      "    #for i in range(0,24,3):\n",
      "      #  print ()\n",
      "    [fileNames[i:i+3] for i in range(0, len(fileNames))]    \n",
      "    copxFilt, copyFilt = COP_Processing('./kistler/' + kistler, freq, time, freqCorte)"
     ],
     "language": "python",
     "metadata": {},
     "outputs": [
      {
       "output_type": "stream",
       "stream": "stdout",
       "text": [
        "qsceda1.txt\n",
        "qsceda2.txt"
       ]
      },
      {
       "output_type": "stream",
       "stream": "stdout",
       "text": [
        "\n",
        "qsceda3.txt"
       ]
      },
      {
       "output_type": "stream",
       "stream": "stdout",
       "text": [
        "\n",
        "qscedm1.txt"
       ]
      },
      {
       "output_type": "stream",
       "stream": "stdout",
       "text": [
        "\n",
        "qscedm2.txt"
       ]
      },
      {
       "output_type": "stream",
       "stream": "stdout",
       "text": [
        "\n",
        "qscedm3.txt"
       ]
      },
      {
       "output_type": "stream",
       "stream": "stdout",
       "text": [
        "\n",
        "qscejo1.txt"
       ]
      },
      {
       "output_type": "stream",
       "stream": "stdout",
       "text": [
        "\n",
        "qscejo2.txt"
       ]
      },
      {
       "output_type": "stream",
       "stream": "stdout",
       "text": [
        "\n",
        "qscejo3.txt"
       ]
      },
      {
       "output_type": "stream",
       "stream": "stdout",
       "text": [
        "\n",
        "qscekj1.txt"
       ]
      },
      {
       "output_type": "stream",
       "stream": "stdout",
       "text": [
        "\n",
        "qscekj2.txt"
       ]
      },
      {
       "output_type": "stream",
       "stream": "stdout",
       "text": [
        "\n",
        "qscekj3.txt"
       ]
      },
      {
       "output_type": "stream",
       "stream": "stdout",
       "text": [
        "\n",
        "qsoeda1.txt"
       ]
      },
      {
       "output_type": "stream",
       "stream": "stdout",
       "text": [
        "\n",
        "qsoeda2.txt"
       ]
      },
      {
       "output_type": "stream",
       "stream": "stdout",
       "text": [
        "\n",
        "qsoeda3.txt"
       ]
      },
      {
       "output_type": "stream",
       "stream": "stdout",
       "text": [
        "\n",
        "qsoedm1.txt"
       ]
      },
      {
       "output_type": "stream",
       "stream": "stdout",
       "text": [
        "\n",
        "qsoedm2.txt"
       ]
      },
      {
       "output_type": "stream",
       "stream": "stdout",
       "text": [
        "\n",
        "qsoedm3.txt"
       ]
      },
      {
       "output_type": "stream",
       "stream": "stdout",
       "text": [
        "\n",
        "qsoejo1.txt"
       ]
      },
      {
       "output_type": "stream",
       "stream": "stdout",
       "text": [
        "\n",
        "qsoejo2.txt"
       ]
      },
      {
       "output_type": "stream",
       "stream": "stdout",
       "text": [
        "\n",
        "qsoejo3.txt"
       ]
      },
      {
       "output_type": "stream",
       "stream": "stdout",
       "text": [
        "\n",
        "qsoekj1.txt"
       ]
      },
      {
       "output_type": "stream",
       "stream": "stdout",
       "text": [
        "\n",
        "qsoekj2.txt"
       ]
      },
      {
       "output_type": "stream",
       "stream": "stdout",
       "text": [
        "\n",
        "qsoekj3.txt"
       ]
      },
      {
       "output_type": "stream",
       "stream": "stdout",
       "text": [
        "\n"
       ]
      }
     ],
     "prompt_number": 236
    },
    {
     "cell_type": "code",
     "collapsed": false,
     "input": [
      "import numpy as np\n",
      "\n",
      "from os import listdir\n",
      "fileNames = listdir('./kistler/')\n",
      "\n",
      "def to_matrix(fileNames, n):\n",
      "    return [fileNames[i:i+n] for i in xrange(0, len(fileNames), n)]\n",
      "\n",
      "    to_matrix(fileNames,3)\n",
      "    for kistler in fileNames:\n",
      "        print (kistler)\n",
      "    #for i in range(0,24,3):\n",
      "      #  print ()\n",
      "        \n",
      "        fileNames[i:i+n] = to_matrix('./kistler/' + kistler, 3)\n",
      "        copxFilt, copyFilt = COP_Processing('./kistler/' + kistler, freq, time, freqCorte)\n",
      "        meanCopx = np.mean(copxFilt, axis=0)  # mean\n",
      "        meanCopy = np.mean(copyFilt, axis=0)\n",
      "    \n",
      "        sdCopx = np.std(copxFilt, axis=0)  # standard deviation\n",
      "        sdCopy = np.std(copyFilt, axis=0)\n",
      "    \n",
      "        rmsCopx = sqrt(mean(square(copxFilt))) # root-mean square\n",
      "        rmsCopy = sqrt(mean(square(copyFilt)))\n",
      "    #rmsx = np.sqrt(np.mean(copxFilt ** 2, axis=0)  # root-mean square\n",
      "    #rmsy = np.sqrt(np.mean(copyFilt ** 2, axis=0)     \n",
      "                   \n",
      "        rangeCopx = np.max(copxFilt, axis=0) - np.min(copxFilt, axis=0)\n",
      "        rangeCopy = np.max(copyFilt, axis=0) - np.min(copyFilt, axis=0)# range (maximum - minimum)\n",
      "    \n",
      "        tpathCopx = np.sum(np.abs(np.diff(copxFilt, axis=0)), axis=0) # total path (length of the COP displacement)\n",
      "        tpathCopy = np.sum(np.abs(np.diff(copyFilt, axis=0)), axis=0)\n",
      "    \n",
      "    \n",
      "        unit = 'mm'\n",
      "        print('Measurements of spatial variability')\n",
      "        print('{0:12} {1:^16}'.format('Variable', 'Direction'))\n",
      "        print('{0:12} {1:^8} {2:^5}'.format('', 'ap', 'ml'))\n",
      "        print('{0:12} {1:>6.4f} {2:>6.4f} {3:>3} '.format('Mean:', meanCopy, meanCopx, unit))\n",
      "        print('{0:12} {1:>6.4f} {2:>6.4f} {3:>3}'.format('SD:', sdCopy, sdCopx, unit))\n",
      "        print('{0:12} {1:>6.4f} {2:>6.4f} {3:>3}'.format('RMS:', rmsCopy, rmsCopx, unit))\n",
      "        print('{0:12} {1:>6.4f} {2:>6.4f} {3:>3}'.format('Range:', rangeCopy, rangeCopx, unit))\n",
      "        print('{0:12} {1:>6.4f} {2:>6.4f} {3:>3}'.format('Total path:', tpathCopy, tpathCopx, unit)) \n",
      "    "
     ],
     "language": "python",
     "metadata": {},
     "outputs": [],
     "prompt_number": 144
    },
    {
     "cell_type": "code",
     "collapsed": false,
     "input": [],
     "language": "python",
     "metadata": {},
     "outputs": [],
     "prompt_number": 249
    },
    {
     "cell_type": "code",
     "collapsed": false,
     "input": [
      "import numpy as np\n",
      "\n",
      "from os import listdir\n",
      "fileNames = listdir('./kistler/')\n",
      "\n",
      "\n",
      "   \n",
      "for kistler in fileNames:\n",
      "    print (kistler)\n",
      "    \n",
      "    #[fileNames[i:i+3] for i in range(0, len(fileNames))]\n",
      "        \n",
      "          \n",
      "    copxFilt, copyFilt = COP_Processing('./kistler/' + kistler + kistler, freq, time, freqCorte)\n",
      "        \n",
      "    meanCopx = np.mean(copxFilt, axis=0)  # mean\n",
      "    meanCopy = np.mean(copyFilt, axis=0)\n",
      "    sdCopx = np.std(copxFilt, axis=0)  # standard deviation\n",
      "    sdCopy = np.std(copyFilt, axis=0)\n",
      "    \n",
      "    rmsCopx = sqrt(mean(square(copxFilt))) # root-mean square\n",
      "    rmsCopy = sqrt(mean(square(copyFilt)))\n",
      "    #rmsx = np.sqrt(np.mean(copxFilt ** 2, axis=0)  # root-mean square\n",
      "    #rmsy = np.sqrt(np.mean(copyFilt ** 2, axis=0)     \n",
      "                   \n",
      "    rangeCopx = np.max(copxFilt, axis=0) - np.min(copxFilt, axis=0)\n",
      "    rangeCopy = np.max(copyFilt, axis=0) - np.min(copyFilt, axis=0)# range (maximum - minimum)\n",
      "    \n",
      "    tpathCopx = np.sum(np.abs(np.diff(copxFilt, axis=0)), axis=0) # total path (length of the COP displacement)\n",
      "    tpathCopy = np.sum(np.abs(np.diff(copyFilt, axis=0)), axis=0)\n",
      "    \n",
      "    \n",
      "    unit = 'mm'\n",
      "    print('Measurements of spatial variability')\n",
      "    print('{0:12} {1:^16}'.format('Variable', 'Direction'))\n",
      "    print('{0:12} {1:^8} {2:^5}'.format('', 'ap', 'ml'))\n",
      "    print('{0:12} {1:>6.4f} {2:>6.4f} {3:>3} '.format('Mean:', meanCopy, meanCopx, unit))\n",
      "    print('{0:12} {1:>6.4f} {2:>6.4f} {3:>3}'.format('SD:', sdCopy, sdCopx, unit))\n",
      "    print('{0:12} {1:>6.4f} {2:>6.4f} {3:>3}'.format('RMS:', rmsCopy, rmsCopx, unit))\n",
      "    print('{0:12} {1:>6.4f} {2:>6.4f} {3:>3}'.format('Range:', rangeCopy, rangeCopx, unit))\n",
      "    print('{0:12} {1:>6.4f} {2:>6.4f} {3:>3}'.format('Total path:', tpathCopy, tpathCopx, unit)) \n",
      "    "
     ],
     "language": "python",
     "metadata": {},
     "outputs": [
      {
       "output_type": "stream",
       "stream": "stdout",
       "text": [
        "qsceda1.txt\n"
       ]
      },
      {
       "ename": "TypeError",
       "evalue": "COP_Processing() takes 4 positional arguments but 5 were given",
       "output_type": "pyerr",
       "traceback": [
        "\u001b[1;31m---------------------------------------------------------------------------\u001b[0m\n\u001b[1;31mTypeError\u001b[0m                                 Traceback (most recent call last)",
        "\u001b[1;32m<ipython-input-256-f08e4084feac>\u001b[0m in \u001b[0;36m<module>\u001b[1;34m()\u001b[0m\n\u001b[0;32m     12\u001b[0m \u001b[1;33m\u001b[0m\u001b[0m\n\u001b[0;32m     13\u001b[0m \u001b[1;33m\u001b[0m\u001b[0m\n\u001b[1;32m---> 14\u001b[1;33m     \u001b[0mcopxFilt\u001b[0m\u001b[1;33m,\u001b[0m \u001b[0mcopyFilt\u001b[0m \u001b[1;33m=\u001b[0m \u001b[0mCOP_Processing\u001b[0m\u001b[1;33m(\u001b[0m\u001b[1;34m'./kistler/'\u001b[0m \u001b[1;33m+\u001b[0m \u001b[0mkistler\u001b[0m\u001b[1;33m,\u001b[0m  \u001b[0mkistler\u001b[0m\u001b[1;33m,\u001b[0m \u001b[0mfreq\u001b[0m\u001b[1;33m,\u001b[0m \u001b[0mtime\u001b[0m\u001b[1;33m,\u001b[0m \u001b[0mfreqCorte\u001b[0m\u001b[1;33m)\u001b[0m\u001b[1;33m\u001b[0m\u001b[0m\n\u001b[0m\u001b[0;32m     15\u001b[0m \u001b[1;33m\u001b[0m\u001b[0m\n\u001b[0;32m     16\u001b[0m     \u001b[0mmeanCopx\u001b[0m \u001b[1;33m=\u001b[0m \u001b[0mnp\u001b[0m\u001b[1;33m.\u001b[0m\u001b[0mmean\u001b[0m\u001b[1;33m(\u001b[0m\u001b[0mcopxFilt\u001b[0m\u001b[1;33m,\u001b[0m \u001b[0maxis\u001b[0m\u001b[1;33m=\u001b[0m\u001b[1;36m0\u001b[0m\u001b[1;33m)\u001b[0m  \u001b[1;31m# mean\u001b[0m\u001b[1;33m\u001b[0m\u001b[0m\n",
        "\u001b[1;31mTypeError\u001b[0m: COP_Processing() takes 4 positional arguments but 5 were given"
       ]
      }
     ],
     "prompt_number": 256
    },
    {
     "cell_type": "code",
     "collapsed": false,
     "input": [
      "copxFilt.shape"
     ],
     "language": "python",
     "metadata": {},
     "outputs": [
      {
       "metadata": {},
       "output_type": "pyout",
       "prompt_number": 17,
       "text": [
        "(4000,)"
       ]
      }
     ],
     "prompt_number": 17
    },
    {
     "cell_type": "code",
     "collapsed": false,
     "input": [
      "len(copxFilt)"
     ],
     "language": "python",
     "metadata": {},
     "outputs": [
      {
       "metadata": {},
       "output_type": "pyout",
       "prompt_number": 14,
       "text": [
        "4000"
       ]
      }
     ],
     "prompt_number": 14
    },
    {
     "cell_type": "code",
     "collapsed": false,
     "input": [
      "len(copxFilt)"
     ],
     "language": "python",
     "metadata": {},
     "outputs": [
      {
       "metadata": {},
       "output_type": "pyout",
       "prompt_number": 19,
       "text": [
        "2"
       ]
      }
     ],
     "prompt_number": 19
    },
    {
     "cell_type": "code",
     "collapsed": false,
     "input": [
      "print('copxFilt shape: ' ,copxFilt.shape)"
     ],
     "language": "python",
     "metadata": {},
     "outputs": [
      {
       "output_type": "stream",
       "stream": "stdout",
       "text": [
        "copxFilt shape:  (2, 4000)\n"
       ]
      }
     ],
     "prompt_number": 20
    },
    {
     "cell_type": "code",
     "collapsed": false,
     "input": [],
     "language": "python",
     "metadata": {},
     "outputs": [],
     "prompt_number": 21
    },
    {
     "cell_type": "code",
     "collapsed": false,
     "input": [],
     "language": "python",
     "metadata": {},
     "outputs": []
    }
   ],
   "metadata": {}
  }
 ]
}