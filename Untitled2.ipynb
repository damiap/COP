{
 "metadata": {
  "name": "",
  "signature": "sha256:6c9bb005e6f26b6e18682d6961f9961d3a9b8f4bd1865ace8dbb915677b5432f"
 },
 "nbformat": 3,
 "nbformat_minor": 0,
 "worksheets": [
  {
   "cells": [
    {
     "cell_type": "code",
     "collapsed": false,
     "input": [
      "!git"
     ],
     "language": "python",
     "metadata": {},
     "outputs": [
      {
       "output_type": "stream",
       "stream": "stderr",
       "text": [
        "'git' nao \u201a reconhecido como um comando interno\n",
        "ou externo, um programa oper\u00a0vel ou um arquivo em lotes.\n"
       ]
      }
     ],
     "prompt_number": 5
    },
    {
     "cell_type": "code",
     "collapsed": false,
     "input": [],
     "language": "python",
     "metadata": {},
     "outputs": []
    }
   ],
   "metadata": {}
  }
 ]
}