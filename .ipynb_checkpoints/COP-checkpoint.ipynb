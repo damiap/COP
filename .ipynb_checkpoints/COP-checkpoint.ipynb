{
 "metadata": {
  "name": "",
  "signature": "sha256:acaa43bacd269f181a1b78df15ef98a01321ab19b2e9bbfe2e42c9e8276f90dc"
 },
 "nbformat": 3,
 "nbformat_minor": 0,
 "worksheets": [
  {
   "cells": [
    {
     "cell_type": "code",
     "collapsed": false,
     "input": [
      "from __future__ import division, print_function\n",
      "import numpy as np\n",
      "from numpy import mean, sqrt, square, arange\n",
      "import matplotlib.pyplot as plt\n",
      "%matplotlib inline\n",
      "from IPython.display import HTML, display\n",
      "from scipy.signal import butter, lfilter, filtfilt, detrend\n",
      "import pandas as pd  # use Pandas to read data"
     ],
     "language": "python",
     "metadata": {},
     "outputs": [],
     "prompt_number": 1
    },
    {
     "cell_type": "code",
     "collapsed": false,
     "input": [
      "# 2 conditions: eyes open (OA) and eyes closed (OF)\n",
      "# 4 participants\n",
      "# 3 trials\n",
      "# time  = 40s\n",
      "# freq= 100Hz\n",
      "\n",
      "order = 4; #ordem filtro\n",
      "freqCorte = 10; #hertz\n",
      "freq = 100; #hertz\n",
      "time = 40;  #segundos\n",
      "\n",
      "#freqNiquist = freq/2\n",
      "#lowpass 4th ordem"
     ],
     "language": "python",
     "metadata": {},
     "outputs": [],
     "prompt_number": 2
    },
    {
     "cell_type": "code",
     "collapsed": false,
     "input": [
      "#fname = './kistler/'\n",
      "\n",
      "def COP_Processing (fileNames, freq, time, freqCorte):\n",
      "    \"\"\"Leitura dos dados de um arquivo, filtra  o copx e o copy\n",
      "    Parameters\n",
      "    ----------\n",
      "    fileNames : nome do arquivo\n",
      "    freq : frequ\u00eancia de aquisi\u00e7\u00e3o\n",
      "    time : tempo de aquisi\u00e7\u00e3o dos dados\n",
      "    freqCorte : frequ\u00eancia de corte para um  filtro Butterworth passa baixa\"\"\"\n",
      "    \n",
      "    \n",
      "    data = np.loadtxt(fileNames, skiprows=1)\n",
      "    copx = data[:,7]\n",
      "    copy = data[:,8]\n",
      "            \n",
      "           \n",
      "    b, a = butter(order, freqCorte/(freq/2), btype = 'low')\n",
      "    xFilt = filtfilt(b, a, data[:,7])\n",
      "    yFilt = filtfilt(b, a, data[:,8])    \n",
      "    \n",
      "      \n",
      "    copxFilt = detrend(xFilt, axis=0, type='constant')   \n",
      "    copyFilt = detrend(yFilt, axis=0, type='constant')\n",
      "    \n",
      "    copxFilt = copxFilt*100\n",
      "    copyFilt = copyFilt*100\n",
      "    \n",
      "    \n",
      "    \n",
      "    return copxFilt, copyFilt\n",
      "\n",
      "#copxFilt, copyFilt = COP_Processing (fname, freq, time, freqCorte)\n",
      "\n"
     ],
     "language": "python",
     "metadata": {},
     "outputs": [],
     "prompt_number": 13
    },
    {
     "cell_type": "code",
     "collapsed": false,
     "input": [
      "# Measurements of spatial variability\n",
      "\n",
      "from os import listdir\n",
      "fileNames = listdir('./kistler/')\n",
      "\n",
      "for kistler in fileNames:\n",
      "    print (kistler)\n",
      "        \n",
      "    copxFilt, copyFilt = COP_Processing('./kistler/' + kistler, freq, time, freqCorte)   \n",
      "    \n",
      "    meanCopx = np.mean(copxFilt, axis=0)  # mean\n",
      "    meanCopy = np.mean(copyFilt, axis=0)\n",
      "    \n",
      "    sdCopx = np.std(copxFilt, axis=0)  # standard deviation\n",
      "    sdCopy = np.std(copyFilt, axis=0)\n",
      "    \n",
      "    rmsCopx = sqrt(mean(square(copxFilt))) # root-mean square\n",
      "    rmsCopy = sqrt(mean(square(copyFilt)))\n",
      "    #rmsx = np.sqrt(np.mean(copxFilt ** 2, axis=0)  # root-mean square\n",
      "    #rmsy = np.sqrt(np.mean(copyFilt ** 2, axis=0)     \n",
      "                      \n",
      "    rangeCopx = np.max(copxFilt, axis=0) - np.min(copxFilt, axis=0)\n",
      "    rangeCopy = np.max(copyFilt, axis=0) - np.min(copyFilt, axis=0)# range (maximum - minimum)\n",
      "    \n",
      "    tpathCopx = np.sum(np.abs(np.diff(copxFilt, axis=0)), axis=0) # total path (length of the COP displacement)\n",
      "    tpathCopy = np.sum(np.abs(np.diff(copyFilt, axis=0)), axis=0)\n",
      "    \n",
      "    \n",
      "    unit = 'cm'\n",
      "    print('Measurements of spatial variability')\n",
      "    print('{0:12} {1:^16}'.format('Variable', 'Direction'))\n",
      "    print('{0:12} {1:^8} {2:^5}'.format('', 'ml', 'ap'))\n",
      "    print('{0:12} {1:>6.4f} {2:>6.4f} {3:>3} '.format('Mean:', meanCopy, meanCopx, unit))\n",
      "    print('{0:12} {1:>6.4f} {2:>6.4f} {3:>3}'.format('SD:', sdCopy, sdCopx, unit))\n",
      "    print('{0:12} {1:>6.4f} {2:>6.4f} {3:>3}'.format('RMS:', rmsCopy, rmsCopx, unit))\n",
      "    print('{0:12} {1:>6.4f} {2:>6.4f} {3:>3}'.format('Range:', rangeCopy, rangeCopx, unit))\n",
      "    print('{0:12} {1:>6.4f} {2:>6.4f} {3:>3}'.format('Total path:', tpathCopy, tpathCopx, unit)) \n",
      "    \n",
      "#print('copxFilt shape: ' ,copxFilt.shape)\n",
      "#print('copyFilt shape: ' ,copyFilt.shape)"
     ],
     "language": "python",
     "metadata": {},
     "outputs": [
      {
       "output_type": "stream",
       "stream": "stdout",
       "text": [
        "qsceda1.txt\n",
        "Measurements of spatial variability"
       ]
      },
      {
       "output_type": "stream",
       "stream": "stdout",
       "text": [
        "\n",
        "Variable        Direction    \n",
        "                ml     ap  \n",
        "Mean:        -0.0000 -0.0000  cm \n",
        "SD:          0.1472 0.4644  cm\n",
        "RMS:         0.1472 0.4644  cm\n",
        "Range:       1.0544 2.7051  cm\n",
        "Total path:  30.6365 26.6490  cm\n",
        "qsceda2.txt\n",
        "Measurements of spatial variability\n",
        "Variable        Direction    \n",
        "                ml     ap  \n",
        "Mean:        0.0000 0.0000  cm \n",
        "SD:          0.1186 0.4485  cm\n",
        "RMS:         0.1186 0.4485  cm\n",
        "Range:       0.6047 2.0235  cm\n",
        "Total path:  29.7190 23.2763  cm\n",
        "qsceda3.txt\n",
        "Measurements of spatial variability"
       ]
      },
      {
       "output_type": "stream",
       "stream": "stdout",
       "text": [
        "\n",
        "Variable        Direction    \n",
        "                ml     ap  \n",
        "Mean:        -0.0000 -0.0000  cm \n",
        "SD:          0.1571 0.4212  cm\n",
        "RMS:         0.1571 0.4212  cm\n",
        "Range:       1.0888 2.0463  cm\n",
        "Total path:  32.3698 26.4131  cm\n",
        "qscedm1.txt\n",
        "Measurements of spatial variability"
       ]
      },
      {
       "output_type": "stream",
       "stream": "stdout",
       "text": [
        "\n",
        "Variable        Direction    \n",
        "                ml     ap  \n",
        "Mean:        -0.0000 0.0000  cm \n",
        "SD:          0.4932 0.0924  cm\n",
        "RMS:         0.4932 0.0924  cm\n",
        "Range:       5.5812 0.7240  cm\n",
        "Total path:  513.1929 103.6544  cm\n",
        "qscedm2.txt\n",
        "Measurements of spatial variability\n",
        "Variable        Direction    \n",
        "                ml     ap  \n",
        "Mean:        0.0000 -0.0000  cm \n",
        "SD:          0.4904 0.0989  cm\n",
        "RMS:         0.4904 0.0989  cm\n",
        "Range:       2.9850 0.7839  cm\n",
        "Total path:  547.0123 108.9967  cm\n",
        "qscedm3.txt\n",
        "Measurements of spatial variability"
       ]
      },
      {
       "output_type": "stream",
       "stream": "stdout",
       "text": [
        "\n",
        "Variable        Direction    \n",
        "                ml     ap  \n",
        "Mean:        -0.0000 0.0000  cm \n",
        "SD:          0.4847 0.0912  cm\n",
        "RMS:         0.4847 0.0912  cm\n",
        "Range:       3.8736 0.6461  cm\n",
        "Total path:  523.0031 98.3809  cm\n",
        "qscejo1.txt\n",
        "Measurements of spatial variability\n",
        "Variable        Direction    \n",
        "                ml     ap  \n",
        "Mean:        -0.0000 0.0000  cm \n",
        "SD:          0.4709 0.1043  cm\n",
        "RMS:         0.4709 0.1043  cm\n",
        "Range:       3.5845 0.9594  cm\n",
        "Total path:  524.3999 106.8018  cm\n",
        "qscejo2.txt\n",
        "Measurements of spatial variability"
       ]
      },
      {
       "output_type": "stream",
       "stream": "stdout",
       "text": [
        "\n",
        "Variable        Direction    \n",
        "                ml     ap  \n",
        "Mean:        -0.0000 0.0000  cm \n",
        "SD:          0.4896 0.0942  cm\n",
        "RMS:         0.4896 0.0942  cm\n",
        "Range:       3.2076 0.8703  cm\n",
        "Total path:  509.8971 104.4711  cm\n",
        "qscejo3.txt\n",
        "Measurements of spatial variability\n",
        "Variable        Direction    \n",
        "                ml     ap  \n",
        "Mean:        0.0000 -0.0000  cm \n",
        "SD:          0.4805 0.0905  cm\n",
        "RMS:         0.4805 0.0905  cm\n",
        "Range:       4.0777 0.5909  cm\n",
        "Total path:  529.8311 105.0176  cm\n",
        "qscekj1.txt\n",
        "Measurements of spatial variability"
       ]
      },
      {
       "output_type": "stream",
       "stream": "stdout",
       "text": [
        "\n",
        "Variable        Direction    \n",
        "                ml     ap  \n",
        "Mean:        0.0000 0.0000  cm \n",
        "SD:          0.4886 0.0881  cm\n",
        "RMS:         0.4886 0.0881  cm\n",
        "Range:       3.8043 0.6145  cm\n",
        "Total path:  529.1657 96.8059  cm\n",
        "qscekj2.txt\n",
        "Measurements of spatial variability"
       ]
      },
      {
       "output_type": "stream",
       "stream": "stdout",
       "text": [
        "\n",
        "Variable        Direction    \n",
        "                ml     ap  \n",
        "Mean:        0.0000 -0.0000  cm \n",
        "SD:          0.4693 0.0879  cm\n",
        "RMS:         0.4693 0.0879  cm\n",
        "Range:       3.0979 0.6479  cm\n",
        "Total path:  519.4615 95.9836  cm\n",
        "qscekj3.txt\n",
        "Measurements of spatial variability\n",
        "Variable        Direction    \n",
        "                ml     ap  \n",
        "Mean:        -0.0000 0.0000  cm \n",
        "SD:          0.4790 0.0958  cm\n",
        "RMS:         0.4790 0.0958  cm\n",
        "Range:       2.8307 0.7931  cm\n",
        "Total path:  531.2578 101.1608  cm\n",
        "qsoeda1.txt\n",
        "Measurements of spatial variability"
       ]
      },
      {
       "output_type": "stream",
       "stream": "stdout",
       "text": [
        "\n",
        "Variable        Direction    \n",
        "                ml     ap  \n",
        "Mean:        -0.0000 -0.0000  cm \n",
        "SD:          0.1660 0.1968  cm\n",
        "RMS:         0.1660 0.1968  cm\n",
        "Range:       0.7362 0.9203  cm\n",
        "Total path:  33.8961 14.5645  cm\n",
        "qsoeda2.txt\n",
        "Measurements of spatial variability\n",
        "Variable        Direction    \n",
        "                ml     ap  \n",
        "Mean:        -0.0000 0.0000  cm \n",
        "SD:          0.0956 0.3005  cm\n",
        "RMS:         0.0956 0.3005  cm\n",
        "Range:       0.7590 1.3387  cm\n",
        "Total path:  34.0410 15.2880  cm\n",
        "qsoeda3.txt\n",
        "Measurements of spatial variability"
       ]
      },
      {
       "output_type": "stream",
       "stream": "stdout",
       "text": [
        "\n",
        "Variable        Direction    \n",
        "                ml     ap  \n",
        "Mean:        -0.0000 0.0000  cm \n",
        "SD:          0.0833 0.2449  cm\n",
        "RMS:         0.0833 0.2449  cm\n",
        "Range:       0.4450 1.5229  cm\n",
        "Total path:  32.8622 16.5608  cm\n",
        "qsoedm1.txt\n",
        "Measurements of spatial variability\n",
        "Variable        Direction    \n",
        "                ml     ap  \n",
        "Mean:        -0.0000 0.0000  cm \n",
        "SD:          0.4763 0.0920  cm\n",
        "RMS:         0.4763 0.0920  cm\n",
        "Range:       3.1541 0.7281  cm\n",
        "Total path:  510.9787 98.4596  cm\n",
        "qsoedm2.txt\n",
        "Measurements of spatial variability"
       ]
      },
      {
       "output_type": "stream",
       "stream": "stdout",
       "text": [
        "\n",
        "Variable        Direction    \n",
        "                ml     ap  \n",
        "Mean:        0.0000 0.0000  cm \n",
        "SD:          0.4972 0.0885  cm\n",
        "RMS:         0.4972 0.0885  cm\n",
        "Range:       3.8673 0.7261  cm\n",
        "Total path:  553.0938 93.9688  cm\n",
        "qsoedm3.txt\n",
        "Measurements of spatial variability\n",
        "Variable        Direction    \n",
        "                ml     ap  \n",
        "Mean:        -0.0000 -0.0000  cm \n",
        "SD:          0.4731 0.0942  cm\n",
        "RMS:         0.4731 0.0942  cm\n",
        "Range:       2.8189 0.8008  cm\n",
        "Total path:  528.7982 98.2579  cm\n",
        "qsoejo1.txt\n",
        "Measurements of spatial variability"
       ]
      },
      {
       "output_type": "stream",
       "stream": "stdout",
       "text": [
        "\n",
        "Variable        Direction    \n",
        "                ml     ap  \n",
        "Mean:        0.0000 -0.0000  cm \n",
        "SD:          0.5015 0.0956  cm\n",
        "RMS:         0.5015 0.0956  cm\n",
        "Range:       3.7042 0.7875  cm\n",
        "Total path:  547.2328 109.4330  cm\n",
        "qsoejo2.txt\n",
        "Measurements of spatial variability\n",
        "Variable        Direction    \n",
        "                ml     ap  \n",
        "Mean:        0.0000 -0.0000  cm \n",
        "SD:          0.4910 0.1009  cm\n",
        "RMS:         0.4910 0.1009  cm\n",
        "Range:       3.0997 0.8108  cm\n",
        "Total path:  524.3613 110.0340  cm\n",
        "qsoejo3.txt\n",
        "Measurements of spatial variability"
       ]
      },
      {
       "output_type": "stream",
       "stream": "stdout",
       "text": [
        "\n",
        "Variable        Direction    \n",
        "                ml     ap  \n",
        "Mean:        0.0000 0.0000  cm \n",
        "SD:          0.4742 0.1011  cm\n",
        "RMS:         0.4742 0.1011  cm\n",
        "Range:       4.0532 0.6307  cm\n",
        "Total path:  514.1805 108.8056  cm\n",
        "qsoekj1.txt\n",
        "Measurements of spatial variability\n",
        "Variable        Direction    \n",
        "                ml     ap  \n",
        "Mean:        -0.0000 0.0000  cm \n",
        "SD:          0.4624 0.0868  cm\n",
        "RMS:         0.4624 0.0868  cm\n",
        "Range:       2.9439 0.8299  cm\n",
        "Total path:  498.9664 92.8947  cm\n",
        "qsoekj2.txt\n",
        "Measurements of spatial variability"
       ]
      },
      {
       "output_type": "stream",
       "stream": "stdout",
       "text": [
        "\n",
        "Variable        Direction    \n",
        "                ml     ap  \n",
        "Mean:        0.0000 -0.0000  cm \n",
        "SD:          0.4694 0.0905  cm\n",
        "RMS:         0.4694 0.0905  cm\n",
        "Range:       2.8383 0.6715  cm\n",
        "Total path:  521.4858 97.9591  cm\n",
        "qsoekj3.txt\n",
        "Measurements of spatial variability\n",
        "Variable        Direction    \n",
        "                ml     ap  \n",
        "Mean:        -0.0000 0.0000  cm \n",
        "SD:          0.4881 0.0875  cm\n",
        "RMS:         0.4881 0.0875  cm\n",
        "Range:       3.1338 0.8781  cm\n",
        "Total path:  532.2854 93.5218  cm\n"
       ]
      }
     ],
     "prompt_number": 15
    },
    {
     "cell_type": "code",
     "collapsed": false,
     "input": [
      "#Measurements of velocity, area\n",
      "\n",
      "for kistler in fileNames:\n",
      "    \n",
      "    copxFilt, copyFilt = COP_Processing('./kistler/' + kistler, freq, time, freqCorte)\n",
      "\n",
      "    mvelCopx = np.sum(np.abs(np.diff(copxFilt, axis=0)), axis=0) / time\n",
      "    mvelCopy = np.sum(np.abs(np.diff(copyFilt, axis=0)), axis=0) / time\n",
      "    \n",
      "    mvelr = np.sum(np.sqrt(np.diff(copxFilt, axis=0)**2 + np.diff(copyFilt, axis=0)**2))/time\n",
      "    \n",
      "    print('{0:15} {1:^16}'.format('Variable', 'Direction'))\n",
      "    print('{0:15} {1:^8} {2:^5}'.format('', 'ap', 'ml'))\n",
      "    print('{0:15} {1:>6.4f} {2:>6.4f} {3:>5}'.format('Mean velocity:', mvelCopy, mvelCopx, unit+'/s'))\n",
      "    print('')\n",
      "    \n",
      "    \n"
     ],
     "language": "python",
     "metadata": {},
     "outputs": [
      {
       "output_type": "stream",
       "stream": "stdout",
       "text": [
        "Variable           Direction    \n",
        "                   ap     ml  \n",
        "Mean velocity:  0.0077 0.0067  mm/s\n",
        "\n",
        "Variable           Direction    "
       ]
      },
      {
       "output_type": "stream",
       "stream": "stdout",
       "text": [
        "\n",
        "                   ap     ml  \n",
        "Mean velocity:  0.0074 0.0058  mm/s\n",
        "\n",
        "Variable           Direction    "
       ]
      },
      {
       "output_type": "stream",
       "stream": "stdout",
       "text": [
        "\n",
        "                   ap     ml  \n",
        "Mean velocity:  0.0081 0.0066  mm/s\n",
        "\n",
        "Variable           Direction    "
       ]
      },
      {
       "output_type": "stream",
       "stream": "stdout",
       "text": [
        "\n",
        "                   ap     ml  \n",
        "Mean velocity:  0.1283 0.0259  mm/s\n",
        "\n",
        "Variable           Direction    "
       ]
      },
      {
       "output_type": "stream",
       "stream": "stdout",
       "text": [
        "\n",
        "                   ap     ml  \n",
        "Mean velocity:  0.1368 0.0272  mm/s\n",
        "\n",
        "Variable           Direction    "
       ]
      },
      {
       "output_type": "stream",
       "stream": "stdout",
       "text": [
        "\n",
        "                   ap     ml  \n",
        "Mean velocity:  0.1308 0.0246  mm/s\n",
        "\n",
        "Variable           Direction    "
       ]
      },
      {
       "output_type": "stream",
       "stream": "stdout",
       "text": [
        "\n",
        "                   ap     ml  \n",
        "Mean velocity:  0.1311 0.0267  mm/s\n",
        "\n",
        "Variable           Direction    "
       ]
      },
      {
       "output_type": "stream",
       "stream": "stdout",
       "text": [
        "\n",
        "                   ap     ml  \n",
        "Mean velocity:  0.1275 0.0261  mm/s\n",
        "\n",
        "Variable           Direction    "
       ]
      },
      {
       "output_type": "stream",
       "stream": "stdout",
       "text": [
        "\n",
        "                   ap     ml  \n",
        "Mean velocity:  0.1325 0.0263  mm/s\n",
        "\n",
        "Variable           Direction    "
       ]
      },
      {
       "output_type": "stream",
       "stream": "stdout",
       "text": [
        "\n",
        "                   ap     ml  \n",
        "Mean velocity:  0.1323 0.0242  mm/s\n",
        "\n",
        "Variable           Direction    "
       ]
      },
      {
       "output_type": "stream",
       "stream": "stdout",
       "text": [
        "\n",
        "                   ap     ml  \n",
        "Mean velocity:  0.1299 0.0240  mm/s\n",
        "\n",
        "Variable           Direction    "
       ]
      },
      {
       "output_type": "stream",
       "stream": "stdout",
       "text": [
        "\n",
        "                   ap     ml  \n",
        "Mean velocity:  0.1328 0.0253  mm/s\n",
        "\n",
        "Variable           Direction    "
       ]
      },
      {
       "output_type": "stream",
       "stream": "stdout",
       "text": [
        "\n",
        "                   ap     ml  \n",
        "Mean velocity:  0.0085 0.0036  mm/s\n",
        "\n",
        "Variable           Direction    "
       ]
      },
      {
       "output_type": "stream",
       "stream": "stdout",
       "text": [
        "\n",
        "                   ap     ml  \n",
        "Mean velocity:  0.0085 0.0038  mm/s\n",
        "\n",
        "Variable           Direction    "
       ]
      },
      {
       "output_type": "stream",
       "stream": "stdout",
       "text": [
        "\n",
        "                   ap     ml  \n",
        "Mean velocity:  0.0082 0.0041  mm/s\n",
        "\n",
        "Variable           Direction    "
       ]
      },
      {
       "output_type": "stream",
       "stream": "stdout",
       "text": [
        "\n",
        "                   ap     ml  \n",
        "Mean velocity:  0.1277 0.0246  mm/s\n",
        "\n",
        "Variable           Direction    "
       ]
      },
      {
       "output_type": "stream",
       "stream": "stdout",
       "text": [
        "\n",
        "                   ap     ml  \n",
        "Mean velocity:  0.1383 0.0235  mm/s\n",
        "\n",
        "Variable           Direction    "
       ]
      },
      {
       "output_type": "stream",
       "stream": "stdout",
       "text": [
        "\n",
        "                   ap     ml  \n",
        "Mean velocity:  0.1322 0.0246  mm/s\n",
        "\n",
        "Variable           Direction    "
       ]
      },
      {
       "output_type": "stream",
       "stream": "stdout",
       "text": [
        "\n",
        "                   ap     ml  \n",
        "Mean velocity:  0.1368 0.0274  mm/s\n",
        "\n",
        "Variable           Direction    "
       ]
      },
      {
       "output_type": "stream",
       "stream": "stdout",
       "text": [
        "\n",
        "                   ap     ml  \n",
        "Mean velocity:  0.1311 0.0275  mm/s\n",
        "\n",
        "Variable           Direction    "
       ]
      },
      {
       "output_type": "stream",
       "stream": "stdout",
       "text": [
        "\n",
        "                   ap     ml  \n",
        "Mean velocity:  0.1285 0.0272  mm/s\n",
        "\n",
        "Variable           Direction    "
       ]
      },
      {
       "output_type": "stream",
       "stream": "stdout",
       "text": [
        "\n",
        "                   ap     ml  \n",
        "Mean velocity:  0.1247 0.0232  mm/s\n",
        "\n",
        "Variable           Direction    "
       ]
      },
      {
       "output_type": "stream",
       "stream": "stdout",
       "text": [
        "\n",
        "                   ap     ml  \n",
        "Mean velocity:  0.1304 0.0245  mm/s\n",
        "\n",
        "Variable           Direction    "
       ]
      },
      {
       "output_type": "stream",
       "stream": "stdout",
       "text": [
        "\n",
        "                   ap     ml  \n",
        "Mean velocity:  0.1331 0.0234  mm/s\n",
        "\n"
       ]
      }
     ],
     "prompt_number": 46
    },
    {
     "cell_type": "code",
     "collapsed": false,
     "input": [],
     "language": "python",
     "metadata": {},
     "outputs": [],
     "prompt_number": 46
    },
    {
     "cell_type": "code",
     "collapsed": false,
     "input": [
      "meanCopx, meanCopy"
     ],
     "language": "python",
     "metadata": {},
     "outputs": [
      {
       "metadata": {},
       "output_type": "pyout",
       "prompt_number": 30,
       "text": [
        "(-1.5308934675495322e-19, -3.8787115880234423e-17)"
       ]
      }
     ],
     "prompt_number": 30
    },
    {
     "cell_type": "code",
     "collapsed": false,
     "input": [
      "sdCopx, sdCopy"
     ],
     "language": "python",
     "metadata": {},
     "outputs": [
      {
       "metadata": {},
       "output_type": "pyout",
       "prompt_number": 31,
       "text": [
        "(0.0008746354264698306, 0.0048808468326215475)"
       ]
      }
     ],
     "prompt_number": 31
    },
    {
     "cell_type": "code",
     "collapsed": false,
     "input": [
      "rmsCopx, rmsCopy"
     ],
     "language": "python",
     "metadata": {},
     "outputs": [
      {
       "metadata": {},
       "output_type": "pyout",
       "prompt_number": 32,
       "text": [
        "(0.00087463542646983071, 0.0048808468326215501)"
       ]
      }
     ],
     "prompt_number": 32
    },
    {
     "cell_type": "code",
     "collapsed": false,
     "input": [
      "rangeCopx, rangeCopy"
     ],
     "language": "python",
     "metadata": {},
     "outputs": [
      {
       "metadata": {},
       "output_type": "pyout",
       "prompt_number": 33,
       "text": [
        "(0.0087814872115032083, 0.031337786269337503)"
       ]
      }
     ],
     "prompt_number": 33
    },
    {
     "cell_type": "code",
     "collapsed": false,
     "input": [
      "tpathCopx, tpathCopy"
     ],
     "language": "python",
     "metadata": {},
     "outputs": [
      {
       "metadata": {},
       "output_type": "pyout",
       "prompt_number": 34,
       "text": [
        "(0.9352183206077036, 5.3228544332542693)"
       ]
      }
     ],
     "prompt_number": 34
    },
    {
     "cell_type": "code",
     "collapsed": false,
     "input": [
      "#Plot data\n",
      "\n",
      "for kistler in fileNames:\n",
      "    \n",
      "    copxFilt, copyFilt = COP_Processing('./kistler/' + kistler, freq, time, freqCorte)\n",
      "\n",
      "\n"
     ],
     "language": "python",
     "metadata": {},
     "outputs": [],
     "prompt_number": 59
    },
    {
     "cell_type": "code",
     "collapsed": false,
     "input": [],
     "language": "python",
     "metadata": {},
     "outputs": [],
     "prompt_number": 8
    },
    {
     "cell_type": "code",
     "collapsed": false,
     "input": [
      "import matplotlib.gridspec as gridspec\n",
      "t = np.linspace(0, copxFilt.shape[0]/freq, copyFilt.shape[0])\n",
      "plt.rc('axes', labelsize=16,  titlesize=16)\n",
      "plt.rc('xtick', labelsize=12)\n",
      "plt.rc('ytick', labelsize=12)\n",
      "plt.figure(figsize=(10, 4))\n",
      "gs = gridspec.GridSpec(1, 2, width_ratios=[2, 1]) \n",
      "ax1 = plt.subplot(gs[0])\n",
      "ax1.plot(t, copyFilt, lw=2, color=[0, 0, 1, 1], label='ap')\n",
      "ax1.plot(t, copxFilt, lw=2, color=[1, 0, 0, 1], label='ml')\n",
      "ax1.set_xlim([t[0], t[-1]])\n",
      "ax1.grid()\n",
      "ax1.locator_params(axis='both', nbins=5)\n",
      "ax1.set_xlabel('Time [s]')\n",
      "ax1.set_ylabel('COP [%s]' )\n",
      "ax1.set_title('Stabilogram')\n",
      "ax2 = plt.subplot(gs[1])\n",
      "ax2.plot(copxFilt, copyFilt, lw=2, color='g')\n",
      "ax2.set_xlabel('COP ml [%s]' )\n",
      "ax2.set_ylabel('COP ap [%s]' )\n",
      "ax2.set_title('Statokinesigram')\n",
      "if 0:  # plot the axes with the same colors of the COP data\n",
      "    ax2.xaxis.label.set_color('red')\n",
      "    ax2.spines['bottom'].set_color('red')\n",
      "    ax2.tick_params(axis='x', colors='red')\n",
      "    ax2.yaxis.label.set_color('blue')\n",
      "    ax2.spines['left'].set_color('blue')\n",
      "    ax2.tick_params(axis='y', colors='blue')\n",
      "    ax2.grid()\n",
      "    ax2.locator_params(axis='both', nbins=5)\n",
      "\n",
      "    plt.tight_layout()\n",
      "    plt.show()\n"
     ],
     "language": "python",
     "metadata": {},
     "outputs": [
      {
       "metadata": {},
       "output_type": "display_data",
       "png": "[encoded data removed]",
       "text": [
        "<matplotlib.figure.Figure at 0xb2fcf28>"
       ]
      }
     ],
     "prompt_number": 48
    },
    {
     "cell_type": "code",
     "collapsed": false,
     "input": [],
     "language": "python",
     "metadata": {},
     "outputs": []
    }
   ],
   "metadata": {}
  }
 ]
}