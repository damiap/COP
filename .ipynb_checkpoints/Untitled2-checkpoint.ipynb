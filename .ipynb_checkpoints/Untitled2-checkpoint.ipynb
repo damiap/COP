{
 "metadata": {
  "name": "",
  "signature": "sha256:cc198c3d1a9b5f8a9b928895d4b621fa82ddc189633d42f11c5047a1b570145b"
 },
 "nbformat": 3,
 "nbformat_minor": 0,
 "worksheets": []
}