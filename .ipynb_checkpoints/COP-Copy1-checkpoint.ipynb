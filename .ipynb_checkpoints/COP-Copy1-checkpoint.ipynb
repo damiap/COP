{
 "metadata": {
  "name": "",
  "signature": "sha256:ffaef4dcc5c09507899ab2f351fb410d5807cf1cc3a252fb1ff649cc06868cc8"
 },
 "nbformat": 3,
 "nbformat_minor": 0,
 "worksheets": [
  {
   "cells": [
    {
     "cell_type": "code",
     "collapsed": false,
     "input": [
      "from __future__ import division, print_function\n",
      "import numpy as np\n",
      "from numpy import mean, sqrt, square, arange\n",
      "import matplotlib.pyplot as plt\n",
      "%matplotlib inline\n",
      "from IPython.display import HTML, display\n",
      "from scipy.signal import butter, lfilter, filtfilt, detrend\n",
      "import pandas as pd  # use Pandas to read data"
     ],
     "language": "python",
     "metadata": {},
     "outputs": [],
     "prompt_number": 21
    },
    {
     "cell_type": "code",
     "collapsed": false,
     "input": [
      "# 2 conditions: eyes open (OA) and eyes closed (OF)\n",
      "# 4 participants\n",
      "# 3 trials\n",
      "# time  = 40 s\n",
      "# freq= 100 Hz\n",
      "#freqNiquist = freq/2\n",
      "#lowpass 4th order\n",
      "\n",
      "#Definitions:\n",
      "#group's names:\n",
      "group = ['adults']; \n",
      "#group: adults (control)\n",
      "subjects = ['DA','DM','JO','KJ'];\n",
      "conditions = ['OA','OF'];\n",
      "\n",
      "#Filter Butterworth\n",
      "order = 4; #order filter\n",
      "freqCorte = 10; #Hz\n",
      "freq = 100; #Hz\n",
      "\n",
      "#Time:\n",
      "time = 40;  #seconds\n"
     ],
     "language": "python",
     "metadata": {},
     "outputs": [],
     "prompt_number": 22
    },
    {
     "cell_type": "code",
     "collapsed": false,
     "input": [
      "fileNames = './kistler/'\n",
      "def COP_Processing(fileNames, freq, time, freqCorte):\n",
      "    \"\"\"Leitura dos dados de um arquivo, filtra  o copx e o copy\n",
      "    Parameters\n",
      "    ----------\n",
      "    fileNames : nome do arquivo\n",
      "    freq : frequ\u00eancia de aquisi\u00e7\u00e3o\n",
      "    time : tempo de aquisi\u00e7\u00e3o dos dados\n",
      "    freqCorte : frequ\u00eancia de corte para um filtro Butterworth passa baixa\"\"\"\n",
      "    \n",
      "    \n",
      "    t = np.arange(0,time,.01);\n",
      "    \n",
      "    data = np.loadtxt(fileNames, skiprows=1)\n",
      "    \n",
      "    copx = data[:,7]\n",
      "    copy = data[:,8]\n",
      "            \n",
      "           \n",
      "    b, a = butter(order, freqCorte/(freq/2), btype = 'low')\n",
      "    xFilt = filtfilt(b, a, data[:,7])\n",
      "    yFilt = filtfilt(b, a, data[:,8])  \n",
      "    \n",
      "    \n",
      "    copxFilt = detrend(xFilt, axis=0, type='constant')   \n",
      "    copyFilt = detrend(yFilt, axis=0, type='constant')\n",
      "    \n",
      "       \n",
      "    return copxFilt, copyFilt\n",
      "\n",
      "#copxFilt, copyFilt = COP_Processing (fname, freq, time, freqCorte)\n"
     ],
     "language": "python",
     "metadata": {},
     "outputs": [],
     "prompt_number": 23
    },
    {
     "cell_type": "code",
     "collapsed": false,
     "input": [
      "# Measurements of spatial variability\n",
      "def COP_Spatial(fileNames, freq, time, freqCorte):\n",
      "    \"\"\"Calculo dos dados\"\"\"\n",
      "\n",
      "    value = 0\n",
      "    for kistler in fileNames:\n",
      "        value = value + 1\n",
      "        print (value, kistler)\n",
      "     \n",
      "         \n",
      "        copxFilt, copyFilt = COP_Processing('./kistler/' + kistler, freq, time, freqCorte) \n",
      "   \n",
      "            \n",
      "        meanCopx = np.mean(copxFilt, axis=0)  # mean\n",
      "        meanCopy = np.mean(copyFilt, axis=0)\n",
      "    \n",
      "        sdCopx = np.std(copxFilt, axis=0)  # standard deviation\n",
      "        sdCopy = np.std(copyFilt, axis=0)\n",
      "    \n",
      "        rmsCopx = sqrt(mean(square(copxFilt))) # root-mean square\n",
      "        rmsCopy = sqrt(mean(square(copyFilt)))\n",
      "        #rmsx = np.sqrt(np.mean(copxFilt ** 2, axis=0)  # root-mean square\n",
      "        #rmsy = np.sqrt(np.mean(copyFilt ** 2, axis=0)     \n",
      "                      \n",
      "        rangeCopx = np.max(copxFilt, axis=0) - np.min(copxFilt, axis=0)\n",
      "        rangeCopy = np.max(copyFilt, axis=0) - np.min(copyFilt, axis=0)# range (maximum - minimum)\n",
      "    \n",
      "        tpathCopx = np.sum(np.abs(np.diff(copxFilt, axis=0)), axis=0) # total path (length of the COP displacement)\n",
      "        tpathCopy = np.sum(np.abs(np.diff(copyFilt, axis=0)), axis=0)\n",
      "        \n",
      "        mvelCopx = np.sum(np.abs(np.diff(copxFilt, axis=0)), axis=0) / time\n",
      "        mvelCopy = np.sum(np.abs(np.diff(copyFilt, axis=0)), axis=0) / time\n",
      "        #mvelRes = np.sum(np.abs(np.sqrt(np.sum(np.diff(copxFilt, axis=0) ** 2, axis=0))), axis=1) / time\n",
      "    \n",
      "    \n",
      "        return meanCopx, meanCopy, sdCopx, sdCopy, rmsCopx, rmsCopy, rangeCopx, rangeCopy, tpathCopx, tpathCopy, mvelCopx, mvelCopy\n",
      "    \n",
      "    \n",
      "        meanCopx, meanCopy, sdCopx, sdCopy, rmsCopx, rmsCopy, rangeCopx, rangeCopy, tpathCopx, tpathCopy, mvelCopx, mvelCopy = COP_Spatial('./kistler/'+kistler , freq, time, freqCorte)\n",
      "        \n",
      "                \n",
      "        #unit = 'mm'\n",
      "        #print('Measurements of spatial variability')\n",
      "        #print('{0:12} {1:^16}'.format('Variable', 'Direction'))\n",
      "        #print('{0:12} {1:^8} {2:^5}'.format('', 'ap', 'ml'))\n",
      "        #print('{0:12} {1:>6.4f} {2:>6.4f} {3:>3} '.format('Mean:', meanCopy, meanCopx, unit))\n",
      "        #print('{0:12} {1:>6.4f} {2:>6.4f} {3:>3}'.format('SD:', sdCopy, sdCopx, unit))\n",
      "        #print('{0:12} {1:>6.4f} {2:>6.4f} {3:>3}'.format('RMS:', rmsCopy, rmsCopx, unit))\n",
      "        #print('{0:12} {1:>6.4f} {2:>6.4f} {3:>3}'.format('Range:', rangeCopy, rangeCopx, unit))\n",
      "        #print('{0:12} {1:>6.4f} {2:>6.4f} {3:>3}'.format('Total path:', tpathCopy, tpathCopx, unit)) \n",
      "        \n",
      "        print('{0:15} {1:^16}'.format('Variable', 'Direction'))\n",
      "        print('{0:15} {1:^8} {2:^5}'.format('', 'ap', 'ml'))\n",
      "        print('{0:15} {1:>6.4f} {2:>6.4f} {3:>5}'.format('Mean velocity:', mvelCopy, mvelCopx, unit+'/s'))\n",
      "        print('')\n",
      "    \n",
      "#print('copxFilt shape: ' ,copxFilt.shape)\n",
      "#print('copyFilt shape: ' ,copyFilt.shape)"
     ],
     "language": "python",
     "metadata": {},
     "outputs": [],
     "prompt_number": 38
    },
    {
     "cell_type": "code",
     "collapsed": false,
     "input": [],
     "language": "python",
     "metadata": {},
     "outputs": [],
     "prompt_number": 44
    },
    {
     "cell_type": "code",
     "collapsed": false,
     "input": [],
     "language": "python",
     "metadata": {},
     "outputs": [],
     "prompt_number": 37
    },
    {
     "cell_type": "code",
     "collapsed": false,
     "input": [],
     "language": "python",
     "metadata": {},
     "outputs": []
    }
   ],
   "metadata": {}
  }
 ]
}